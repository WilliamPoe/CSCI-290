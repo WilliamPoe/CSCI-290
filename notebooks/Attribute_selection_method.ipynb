{
  "nbformat": 4,
  "nbformat_minor": 0,
  "metadata": {
    "colab": {
      "provenance": [],
      "authorship_tag": "ABX9TyOzqtVZVoKUxMIVXeC567SV",
      "include_colab_link": true
    },
    "kernelspec": {
      "name": "python3",
      "display_name": "Python 3"
    },
    "language_info": {
      "name": "python"
    }
  },
  "cells": [
    {
      "cell_type": "markdown",
      "metadata": {
        "id": "view-in-github",
        "colab_type": "text"
      },
      "source": [
        "<a href=\"https://colab.research.google.com/github/WilliamPoe/CSCI-290/blob/main/notebooks/Attribute_selection_method.ipynb\" target=\"_parent\"><img src=\"https://colab.research.google.com/assets/colab-badge.svg\" alt=\"Open In Colab\"/></a>"
      ]
    },
    {
      "cell_type": "markdown",
      "source": [
        "Attribute Selection Method"
      ],
      "metadata": {
        "id": "H3JLhL9QTWCj"
      }
    },
    {
      "cell_type": "code",
      "execution_count": 16,
      "metadata": {
        "id": "-P9pEAl7TLqf"
      },
      "outputs": [],
      "source": [
        "import pandas as pd"
      ]
    },
    {
      "cell_type": "code",
      "source": [
        "def Attribute_selection_method ( df, measure ):\n",
        "  if measure == '1':\n",
        "    print(\"Entropy\")\n",
        "  else:\n",
        "    print(\"Gini impurity\")"
      ],
      "metadata": {
        "id": "zV7TtdIkTf3t"
      },
      "execution_count": 17,
      "outputs": []
    },
    {
      "cell_type": "code",
      "source": [
        "def main ():\n",
        "  df = pd.read_csv(\"https://github.com/WilliamPoe/CSCI-290/raw/main/Data/ad_click_dataset.csv\")\n",
        "  measure = input(\"Would you like to use: \\n1. Entropy \\n2. Gini impurity \\nSelection:\")\n",
        "  Attribute_selection_method(df, measure)"
      ],
      "metadata": {
        "id": "w2VASUX4X1v1"
      },
      "execution_count": 18,
      "outputs": []
    },
    {
      "cell_type": "code",
      "source": [
        "main()"
      ],
      "metadata": {
        "colab": {
          "base_uri": "https://localhost:8080/"
        },
        "id": "2ZETwUCZaE3m",
        "outputId": "9526ee4e-920b-4b51-bc2a-17da713616ae"
      },
      "execution_count": 19,
      "outputs": [
        {
          "output_type": "stream",
          "name": "stdout",
          "text": [
            "Would you like to use: \n",
            "1. Entropy \n",
            "2. Gini impurity \n",
            "Selection:2\n",
            "Gini impurity\n"
          ]
        }
      ]
    }
  ]
}