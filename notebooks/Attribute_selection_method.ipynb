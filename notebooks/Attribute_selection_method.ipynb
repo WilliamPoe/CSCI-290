{
  "nbformat": 4,
  "nbformat_minor": 0,
  "metadata": {
    "colab": {
      "provenance": [],
      "authorship_tag": "ABX9TyPfHnjGdJg47fmuq7yFl7th",
      "include_colab_link": true
    },
    "kernelspec": {
      "name": "python3",
      "display_name": "Python 3"
    },
    "language_info": {
      "name": "python"
    }
  },
  "cells": [
    {
      "cell_type": "markdown",
      "metadata": {
        "id": "view-in-github",
        "colab_type": "text"
      },
      "source": [
        "<a href=\"https://colab.research.google.com/github/WilliamPoe/CSCI-290/blob/main/notebooks/Attribute_selection_method.ipynb\" target=\"_parent\"><img src=\"https://colab.research.google.com/assets/colab-badge.svg\" alt=\"Open In Colab\"/></a>"
      ]
    },
    {
      "cell_type": "markdown",
      "source": [
        "Attribute Selection Method"
      ],
      "metadata": {
        "id": "H3JLhL9QTWCj"
      }
    },
    {
      "cell_type": "code",
      "execution_count": 26,
      "metadata": {
        "id": "-P9pEAl7TLqf"
      },
      "outputs": [],
      "source": [
        "import pandas as pd\n",
        "import numpy as np"
      ]
    },
    {
      "cell_type": "code",
      "source": [
        "def entropy (df, col):\n",
        "  count = df[col].value_counts()\n",
        "  prob = count / len(df[col])\n",
        "  entpy = -np.sum(prob*np.log2(prob))\n",
        "  print(\"Entropy: /n\", entpy)\n",
        "  return entpy\n"
      ],
      "metadata": {
        "id": "K1cyAkNRo-im"
      },
      "execution_count": 47,
      "outputs": []
    },
    {
      "cell_type": "code",
      "source": [
        "def Gimpurity (df, col):\n",
        "  print(\"Gini impurity\")"
      ],
      "metadata": {
        "id": "Qr_vHcmRpYDL"
      },
      "execution_count": null,
      "outputs": []
    },
    {
      "cell_type": "code",
      "source": [
        "def Attribute_selection_method ( df, measure, attribs, target ):\n",
        "  if measure == '1':\n",
        "    target_entropy = entropy(df, target)\n",
        "\n",
        "    for attrib in attribs[2:]:\n",
        "      values = df[attrib].unique()\n",
        "      print(\"These are the\", values ,\"for\", attrib)\n",
        "      for value in values:\n",
        "        subset = df[df[attrib] == value]\n",
        "        weight = len(subset) / len(df)\n",
        "        print(weight)\n",
        "        attrib_entropy =\n",
        "        break\n",
        "      break\n",
        "  else:\n",
        "    Gimpurity = 1-np.sum(prob**2)\n",
        "    print(Gimpurity)"
      ],
      "metadata": {
        "id": "zV7TtdIkTf3t"
      },
      "execution_count": 45,
      "outputs": []
    },
    {
      "cell_type": "code",
      "source": [
        "def main ():\n",
        "  df = pd.read_csv(\"https://github.com/WilliamPoe/CSCI-290/raw/main/Data/ad_click_dataset.csv\")\n",
        "  attribs = []\n",
        "  print(df.columns)\n",
        "  target = str(input(\"What is your target column?: \"))\n",
        "  for col in df.columns:\n",
        "    if col != target:\n",
        "      attribs.append(col)\n",
        "  measure = input(\"Would you like to use: \\n1. Entropy \\n2. Gini impurity \\nSelection:\")\n",
        "  Attribute_selection_method(df, measure, attribs, target)"
      ],
      "metadata": {
        "id": "w2VASUX4X1v1"
      },
      "execution_count": 13,
      "outputs": []
    },
    {
      "cell_type": "code",
      "source": [
        "main()"
      ],
      "metadata": {
        "colab": {
          "base_uri": "https://localhost:8080/"
        },
        "id": "2ZETwUCZaE3m",
        "outputId": "860e86b8-f86d-4515-d339-48beb12b6ff7"
      },
      "execution_count": 46,
      "outputs": [
        {
          "output_type": "stream",
          "name": "stdout",
          "text": [
            "Index(['id', 'full_name', 'age', 'gender', 'device_type', 'ad_position',\n",
            "       'browsing_history', 'time_of_day', 'click'],\n",
            "      dtype='object')\n",
            "What is your target column?: click\n",
            "Would you like to use: \n",
            "1. Entropy \n",
            "2. Gini impurity \n",
            "Selection:1\n",
            "click\n",
            "1    6500\n",
            "0    3500\n",
            "Name: count, dtype: int64\n",
            "click\n",
            "1    0.65\n",
            "0    0.35\n",
            "Name: count, dtype: float64\n",
            "Entropy: \n",
            "\n",
            "0.934068055375491\n",
            "These are the [22. nan 41. 34. 39. 26. 40. 47. 19. 56. 24. 52. 42. 36. 43. 62. 45. 37.\n",
            " 31. 58. 59. 48. 38. 49. 30. 46. 54. 44. 27. 57. 28. 51. 25. 61. 32. 64.\n",
            " 23. 55. 21. 20. 35. 53. 33. 29. 63. 50. 18. 60.] for age\n",
            "        id full_name   age  gender device_type ad_position browsing_history  \\\n",
            "0      670   User670  22.0     NaN     Desktop         Top         Shopping   \n",
            "83    8996  User8996  22.0  Female     Desktop         NaN    Entertainment   \n",
            "353   8947  User8947  22.0    Male         NaN         NaN    Entertainment   \n",
            "355    670   User670  22.0     NaN     Desktop         NaN         Shopping   \n",
            "357   3232  User3232  22.0     NaN      Tablet      Bottom              NaN   \n",
            "...    ...       ...   ...     ...         ...         ...              ...   \n",
            "9183  8947  User8947  22.0    Male     Desktop      Bottom    Entertainment   \n",
            "9433  6657  User6657  22.0     NaN         NaN      Bottom             News   \n",
            "9492   670   User670  22.0     NaN     Desktop         Top              NaN   \n",
            "9679  8947  User8947  22.0     NaN     Desktop      Bottom              NaN   \n",
            "9792  8807  User8807  22.0    Male      Mobile        Side        Education   \n",
            "\n",
            "     time_of_day  click  \n",
            "0      Afternoon      1  \n",
            "83       Evening      0  \n",
            "353          NaN      1  \n",
            "355    Afternoon      1  \n",
            "357        Night      0  \n",
            "...          ...    ...  \n",
            "9183       Night      1  \n",
            "9433       Night      1  \n",
            "9492   Afternoon      1  \n",
            "9679       Night      1  \n",
            "9792     Evening      0  \n",
            "\n",
            "[93 rows x 9 columns]\n",
            "0.0093\n"
          ]
        }
      ]
    }
  ]
}