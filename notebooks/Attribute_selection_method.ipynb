{
  "nbformat": 4,
  "nbformat_minor": 0,
  "metadata": {
    "colab": {
      "provenance": [],
      "authorship_tag": "ABX9TyMR7YAfDQvZ1f8XvytA7h/a",
      "include_colab_link": true
    },
    "kernelspec": {
      "name": "python3",
      "display_name": "Python 3"
    },
    "language_info": {
      "name": "python"
    }
  },
  "cells": [
    {
      "cell_type": "markdown",
      "metadata": {
        "id": "view-in-github",
        "colab_type": "text"
      },
      "source": [
        "<a href=\"https://colab.research.google.com/github/WilliamPoe/CSCI-290/blob/main/notebooks/Attribute_selection_method.ipynb\" target=\"_parent\"><img src=\"https://colab.research.google.com/assets/colab-badge.svg\" alt=\"Open In Colab\"/></a>"
      ]
    },
    {
      "cell_type": "markdown",
      "source": [
        "Attribute Selection Method"
      ],
      "metadata": {
        "id": "H3JLhL9QTWCj"
      }
    },
    {
      "cell_type": "code",
      "execution_count": 1,
      "metadata": {
        "id": "-P9pEAl7TLqf"
      },
      "outputs": [],
      "source": [
        "import pandas as pd\n",
        "import numpy as np"
      ]
    },
    {
      "cell_type": "code",
      "source": [
        "def entropy (df, col):\n",
        "  # Use a for loop for the attribute, the values int he attributes that then compare with the target in the wether evaluating (True or False)\n",
        "  # Calculate weight and subset information\n",
        "  # Then use another for loop to loop through the which evaluated (True and False) to calculate the entropy\n",
        "  count = df[col].value_counts()\n",
        "  prob = count / len(df[col])\n",
        "  entpy = -np.sum(prob*np.log2(prob))\n",
        "  print(\"Entropy:\", entpy)\n",
        "  return entpy\n"
      ],
      "metadata": {
        "id": "K1cyAkNRo-im"
      },
      "execution_count": 2,
      "outputs": []
    },
    {
      "cell_type": "code",
      "source": [
        "def Gimpurity (df, col):\n",
        "  # Use a for loop for the attribute, the values int he attributes that then compare with the target in the wether evaluating (True or False)\n",
        "  # Calculate weight and subset information\n",
        "  # Then use another for loop to loop through the which evaluated (True and False) to calculate the Gini Impurtiy\n",
        "  print(\"Gini impurity\")"
      ],
      "metadata": {
        "id": "Qr_vHcmRpYDL"
      },
      "execution_count": 3,
      "outputs": []
    },
    {
      "cell_type": "code",
      "source": [
        "def Attribute_selection_method ( df, measure, attribs, target ):\n",
        "  if measure == '1':\n",
        "    target_entropy = entropy(df, target)\n",
        "\n",
        "    weighted_entpy = 0\n",
        "    for attrib in attribs[2:]:\n",
        "      values = df[attrib].unique()\n",
        "      print(\"These are the\", values ,\"for\", attrib)\n",
        "      for value in values:\n",
        "        subset = df[df[attrib] == value]\n",
        "        weight = len(subset) / len(df)\n",
        "        print(weight)\n",
        "        attrib_entpy = entropy(subset, target)\n",
        "        weighted_entpy += weight *attrib_entpy\n",
        "        print(weighted_entpy)\n",
        "        break\n",
        "      break\n",
        "  else:\n",
        "    #Gimpurity = 1-np.sum(prob**2)\n",
        "    print(Gimpurity)"
      ],
      "metadata": {
        "id": "zV7TtdIkTf3t"
      },
      "execution_count": 9,
      "outputs": []
    },
    {
      "cell_type": "code",
      "source": [
        "def main ():\n",
        "  df = pd.read_csv(\"https://github.com/WilliamPoe/CSCI-290/raw/main/Data/ad_click_dataset.csv\")\n",
        "  attribs = []\n",
        "  print(df.columns)\n",
        "  target = str(input(\"What is your target column?: \"))\n",
        "  for col in df.columns:\n",
        "    if col != target:\n",
        "      attribs.append(col)\n",
        "  measure = input(\"Would you like to use: \\n1. Entropy \\n2. Gini impurity \\nSelection:\")\n",
        "  Attribute_selection_method(df, measure, attribs, target)"
      ],
      "metadata": {
        "id": "w2VASUX4X1v1"
      },
      "execution_count": 5,
      "outputs": []
    },
    {
      "cell_type": "code",
      "source": [
        "main()"
      ],
      "metadata": {
        "colab": {
          "base_uri": "https://localhost:8080/"
        },
        "id": "2ZETwUCZaE3m",
        "outputId": "4abca4eb-8443-480c-cdf9-e3098e69907e"
      },
      "execution_count": 10,
      "outputs": [
        {
          "output_type": "stream",
          "name": "stdout",
          "text": [
            "Index(['id', 'full_name', 'age', 'gender', 'device_type', 'ad_position',\n",
            "       'browsing_history', 'time_of_day', 'click'],\n",
            "      dtype='object')\n",
            "What is your target column?: click\n",
            "Would you like to use: \n",
            "1. Entropy \n",
            "2. Gini impurity \n",
            "Selection:1\n",
            "Entropy: 0.934068055375491\n",
            "These are the [22. nan 41. 34. 39. 26. 40. 47. 19. 56. 24. 52. 42. 36. 43. 62. 45. 37.\n",
            " 31. 58. 59. 48. 38. 49. 30. 46. 54. 44. 27. 57. 28. 51. 25. 61. 32. 64.\n",
            " 23. 55. 21. 20. 35. 53. 33. 29. 63. 50. 18. 60.] for age\n",
            "0.0093\n",
            "Entropy: 0.9629004147713269\n",
            "0.00895497385737334\n"
          ]
        }
      ]
    },
    {
      "cell_type": "code",
      "source": [],
      "metadata": {
        "id": "v3YoOQGXKqdd"
      },
      "execution_count": null,
      "outputs": []
    }
  ]
}