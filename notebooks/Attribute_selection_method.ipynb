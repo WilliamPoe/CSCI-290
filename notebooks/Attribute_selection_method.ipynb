{
  "nbformat": 4,
  "nbformat_minor": 0,
  "metadata": {
    "colab": {
      "provenance": [],
      "authorship_tag": "ABX9TyMbCKiZ3r/FijnyO7MX3dp+",
      "include_colab_link": true
    },
    "kernelspec": {
      "name": "python3",
      "display_name": "Python 3"
    },
    "language_info": {
      "name": "python"
    }
  },
  "cells": [
    {
      "cell_type": "markdown",
      "metadata": {
        "id": "view-in-github",
        "colab_type": "text"
      },
      "source": [
        "<a href=\"https://colab.research.google.com/github/WilliamPoe/CSCI-290/blob/main/notebooks/Attribute_selection_method.ipynb\" target=\"_parent\"><img src=\"https://colab.research.google.com/assets/colab-badge.svg\" alt=\"Open In Colab\"/></a>"
      ]
    },
    {
      "cell_type": "markdown",
      "source": [
        "Attribute Selection Method"
      ],
      "metadata": {
        "id": "H3JLhL9QTWCj"
      }
    },
    {
      "cell_type": "code",
      "execution_count": 26,
      "metadata": {
        "id": "-P9pEAl7TLqf"
      },
      "outputs": [],
      "source": [
        "import pandas as pd\n",
        "import numpy as np"
      ]
    },
    {
      "cell_type": "code",
      "source": [
        "def Attribute_selection_method ( df, measure, attribs, target ):\n",
        "  count = df[target].value_counts()\n",
        "  print(count)\n",
        "  prob = count / len(df[target])\n",
        "  print(prob)\n",
        "  if measure == '1':\n",
        "    print(\"Entropy: \\n\")\n",
        "    entropy = -np.sum(prob*np.log2(prob))\n",
        "    print(entropy)\n",
        "\n",
        "    for attrib in attribs:\n",
        "      values = df[attrib].unique()\n",
        "      print(\"These are the\", values ,\"for\", attrib)\n",
        "      break\n",
        "  else:\n",
        "    Gimpurity = 1-np.sum(prob**2)\n",
        "    print(Gimpurity)"
      ],
      "metadata": {
        "id": "zV7TtdIkTf3t"
      },
      "execution_count": 37,
      "outputs": []
    },
    {
      "cell_type": "code",
      "source": [
        "def main ():\n",
        "  df = pd.read_csv(\"https://github.com/WilliamPoe/CSCI-290/raw/main/Data/ad_click_dataset.csv\")\n",
        "  attribs = []\n",
        "  print(df.columns)\n",
        "  target = str(input(\"What is your target column?: \"))\n",
        "  for col in df.columns:\n",
        "    if col != target:\n",
        "      attribs.append(col)\n",
        "  measure = input(\"Would you like to use: \\n1. Entropy \\n2. Gini impurity \\nSelection:\")\n",
        "  Attribute_selection_method(df, measure, attribs, target)"
      ],
      "metadata": {
        "id": "w2VASUX4X1v1"
      },
      "execution_count": 13,
      "outputs": []
    },
    {
      "cell_type": "code",
      "source": [
        "main()"
      ],
      "metadata": {
        "colab": {
          "base_uri": "https://localhost:8080/"
        },
        "id": "2ZETwUCZaE3m",
        "outputId": "28a488d5-5bfe-4f0c-94a0-9d17c4600b92"
      },
      "execution_count": 38,
      "outputs": [
        {
          "output_type": "stream",
          "name": "stdout",
          "text": [
            "Index(['id', 'full_name', 'age', 'gender', 'device_type', 'ad_position',\n",
            "       'browsing_history', 'time_of_day', 'click'],\n",
            "      dtype='object')\n",
            "What is your target column?: click\n",
            "Would you like to use: \n",
            "1. Entropy \n",
            "2. Gini impurity \n",
            "Selection:1\n",
            "click\n",
            "1    6500\n",
            "0    3500\n",
            "Name: count, dtype: int64\n",
            "click\n",
            "1    0.65\n",
            "0    0.35\n",
            "Name: count, dtype: float64\n",
            "Entropy: \n",
            "\n",
            "0.934068055375491\n",
            "These are the [ 670 3044 5912 ... 7843 3914 3056] for id\n"
          ]
        }
      ]
    }
  ]
}