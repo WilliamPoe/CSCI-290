{
  "nbformat": 4,
  "nbformat_minor": 0,
  "metadata": {
    "colab": {
      "provenance": [],
      "authorship_tag": "ABX9TyN56DHBcLwco35UmLArKK58",
      "include_colab_link": true
    },
    "kernelspec": {
      "name": "python3",
      "display_name": "Python 3"
    },
    "language_info": {
      "name": "python"
    }
  },
  "cells": [
    {
      "cell_type": "markdown",
      "metadata": {
        "id": "view-in-github",
        "colab_type": "text"
      },
      "source": [
        "<a href=\"https://colab.research.google.com/github/WilliamPoe/CSCI-290/blob/main/notebooks/test.ipynb\" target=\"_parent\"><img src=\"https://colab.research.google.com/assets/colab-badge.svg\" alt=\"Open In Colab\"/></a>"
      ]
    },
    {
      "cell_type": "code",
      "execution_count": 1,
      "metadata": {
        "id": "uwK-RNDeErfA"
      },
      "outputs": [],
      "source": [
        "import pandas as pd\n",
        "import math"
      ]
    },
    {
      "cell_type": "code",
      "source": [
        "def cat_entropy(df, target, attribs):\n",
        "  entropy = 0\n",
        "  lowest_entropy = float('inf')\n",
        "  split_point = 0\n",
        "  lowest_quant_entropy = float('inf')\n",
        "  quant_attrib = ''\n",
        "  overall = len( df )\n",
        "  ## Remove the [2:] ##\n",
        "  for attrib in attribs[2:]:\n",
        "    vals = df[attrib].unique()\n",
        "    # Quantitative Entropy Calc\n",
        "    if df[attrib].dtype in ['float64', 'int64']:\n",
        "      if len( df[attrib].unique() ) > 10:\n",
        "        vals.sort()\n",
        "        overall = len( df )\n",
        "        entropies = []\n",
        "        for val in vals:\n",
        "          entropy = 0\n",
        "          left = df[ df[attrib] <= val ][ [attrib,target] ]\n",
        "          props = left[ target ].value_counts( normalize = True )\n",
        "          weight = len( left ) / overall\n",
        "          for prop in props.array:\n",
        "            entropy = entropy - weight*prop*math.log2( prop )\n",
        "          right = df[ df[attrib] > val ][ [attrib,target] ]\n",
        "          props = right[ target ].value_counts( normalize = True )\n",
        "          weight = len( right ) / overall\n",
        "          for prop in props.array:\n",
        "            if prop > 0:\n",
        "              entropy = entropy - weight*prop*math.log2( prop )\n",
        "            entropies.append(entropy)\n",
        "        index = pd.Series( entropies ).idxmin()\n",
        "        # Check to see if there is a new lowest Entropy\n",
        "        if entropies[index] < lowest_quant_entropy:\n",
        "          # Lowest entropy\n",
        "          lowest_quant_entropy = entropies[index]\n",
        "          # Split point with lowest entropy\n",
        "          split_point = vals[index]\n",
        "          # Attribute that has the split point\n",
        "          quant_attrib = attrib\n",
        "\n",
        "    # Categorical Entropy Calc\n",
        "    else:\n",
        "      for val in vals:\n",
        "        subset_size = len(df[ df[attrib] == val ])\n",
        "        weight = subset_size / overall\n",
        "        props = df[ df[attrib] == val ][target].value_counts( normalize=True )\n",
        "        for p in props.array:\n",
        "          entropy =  entropy - weight*(p*math.log2(p))\n",
        "      if lowest_entropy > entropy:\n",
        "        lowest_entropy = entropy\n",
        "        lowest_attrib = attrib\n",
        "  # Compares the lowest categorical Entropy with the lowest quantitative Entropy\n",
        "  if lowest_entropy < lowest_quant_entropy:\n",
        "    # If categorical entropy is still lowest\n",
        "    return lowest_attrib, lowest_entropy\n",
        "  else:\n",
        "    # If quantitative entropy is lowest\n",
        "    lowest_entropy = lowest_quant_entropy\n",
        "    lowest_attrib = quant_attrib\n",
        "    return lowest_attrib, split_point, lowest_entropy\n"
      ],
      "metadata": {
        "id": "_1unZHz_Fa3v"
      },
      "execution_count": 13,
      "outputs": []
    },
    {
      "cell_type": "code",
      "source": [
        "# possible check what the values are for that attribute and then call a function that does\n",
        "# categorical or quantitative if it has more than 10 values\n",
        "# categorical name and entropy\n",
        "# quantitative name and splitting point"
      ],
      "metadata": {
        "id": "tj9v-_Al5RtD"
      },
      "execution_count": 3,
      "outputs": []
    },
    {
      "cell_type": "code",
      "source": [
        "def cat_gini_impurity(df, target, attribs):\n",
        "  gini = 0\n",
        "  lowest_gini = float('inf')\n",
        "  split_point = 0\n",
        "  lowest_quant_gini = float('inf')\n",
        "  quant_attrib = ''\n",
        "  overall = len( df )\n",
        "  ## Remove the [2:] ##\n",
        "  for attrib in attribs[2:]:\n",
        "    vals = df[attrib].unique()\n",
        "\n",
        "    # Quantitative Gini Impurity Calc\n",
        "    if df[attrib].dtype in ['float64', 'int64']:\n",
        "      if len( df[attrib].unique() ) > 10:\n",
        "        vals.sort()\n",
        "        overall = len( df )\n",
        "        gini_impurities = []\n",
        "        for val in vals:\n",
        "          quant_gini = 0\n",
        "          left = df[ df[attrib] <= val ][ [attrib,target] ]\n",
        "          props = left[ target ].value_counts( normalize = True )\n",
        "          weight = len( left ) / overall\n",
        "          for prop in props.array:\n",
        "            quant_gini += weight*(1-(prop**2))\n",
        "          right = df[ df[attrib] > val ][ [attrib,target] ]\n",
        "          props = right[ target ].value_counts( normalize = True )\n",
        "          weight = len( right ) / overall\n",
        "          for prop in props.array:\n",
        "            if prop > 0:\n",
        "              ### Change calculation ###\n",
        "              quant_gini += weight*(1-(prop**2))\n",
        "            gini_impurities.append(quant_gini)\n",
        "        index = pd.Series( gini_impurities ).idxmin()\n",
        "        # Check to see if there is a new lowest Gini Impurity\n",
        "        if gini_impurities[index] < lowest_quant_gini:\n",
        "          # Lowest Gini Impurity\n",
        "          print(vals)\n",
        "          print(index)\n",
        "          print(len(gini_impurities))\n",
        "          print(gini_impurities)\n",
        "          lowest_quant_gini = gini_impurities[index]\n",
        "          # Split point with lowest Gini Impurity\n",
        "          split_point = vals[index]\n",
        "          # Attribute that has the split point\n",
        "          quant_attrib = attrib\n",
        "\n",
        "    # Categorical Gini Impurity Calc\n",
        "    else:\n",
        "      for val in vals:\n",
        "        subset_size = len(df[ df[attrib] == val ])\n",
        "        weight = subset_size / overall\n",
        "        props = df[ df[attrib] == val ][target].value_counts( normalize=True )\n",
        "        for p in props.array:\n",
        "          gini =  weight*(1-(p**2))\n",
        "      if lowest_gini > gini:\n",
        "        lowest_gini = gini\n",
        "        lowest_attrib = attrib\n",
        "  # Compares the lowest categorical Gini Impurity with the lowest quantitative Gini Impurity\n",
        "  if lowest_gini < lowest_quant_gini:\n",
        "    # If categorical Gini Impurity is still lowest\n",
        "    return lowest_attrib, lowest_gini\n",
        "  else:\n",
        "    # If quantitative Gini Impurity is lowest\n",
        "    lowest_gini = lowest_quant_gini\n",
        "    lowest_attrib = quant_attrib\n",
        "    return lowest_attrib, split_point, lowest_gini"
      ],
      "metadata": {
        "id": "f7ibQfxXFayj"
      },
      "execution_count": 30,
      "outputs": []
    },
    {
      "cell_type": "code",
      "source": [
        "def main ():\n",
        "  df = pd.read_csv(\"https://github.com/WilliamPoe/CSCI-290/raw/main/Data/ad_click_dataset.csv\")\n",
        "  attribs = []\n",
        "  print(df.columns)\n",
        "  target = str(input(\"What is your target column?: \"))\n",
        "  for col in df.columns:\n",
        "    if col != target:\n",
        "      attribs.append(col)\n",
        "  measure = input(\"Would you like to use: \\n1. Entropy \\n2. Gini impurity \\nSelection:\")\n",
        "  if measure == '1':\n",
        "    print(cat_entropy(df, target, attribs))\n",
        "  else:\n",
        "    print(cat_gini_impurity(df, target, attribs))"
      ],
      "metadata": {
        "id": "8DUTtzVBEypm"
      },
      "execution_count": 15,
      "outputs": []
    },
    {
      "cell_type": "code",
      "source": [
        "main()"
      ],
      "metadata": {
        "colab": {
          "base_uri": "https://localhost:8080/"
        },
        "id": "cbJ74c1DE4Lz",
        "outputId": "973ae27f-0ccf-4e45-89d2-62b241d9ddc3"
      },
      "execution_count": 16,
      "outputs": [
        {
          "output_type": "stream",
          "name": "stdout",
          "text": [
            "Index(['id', 'full_name', 'age', 'gender', 'device_type', 'ad_position',\n",
            "       'browsing_history', 'time_of_day', 'click'],\n",
            "      dtype='object')\n",
            "What is your target column?: click\n",
            "Would you like to use: \n",
            "1. Entropy \n",
            "2. Gini impurity \n",
            "Selection:1\n",
            "('age', 18.0, 0.21468933295874262)\n"
          ]
        }
      ]
    },
    {
      "cell_type": "code",
      "source": [
        "main()"
      ],
      "metadata": {
        "colab": {
          "base_uri": "https://localhost:8080/"
        },
        "id": "Zts_o9c4IBvi",
        "outputId": "5798d86d-a85d-41d9-fdc8-1b7d8a77eed2"
      },
      "execution_count": 31,
      "outputs": [
        {
          "output_type": "stream",
          "name": "stdout",
          "text": [
            "Index(['id', 'full_name', 'age', 'gender', 'device_type', 'ad_position',\n",
            "       'browsing_history', 'time_of_day', 'click'],\n",
            "      dtype='object')\n",
            "What is your target column?: click\n",
            "Would you like to use: \n",
            "1. Entropy \n",
            "2. Gini impurity \n",
            "Selection:2\n",
            "[18. 19. 20. 21. 22. 23. 24. 25. 26. 27. 28. 29. 30. 31. 32. 33. 34. 35.\n",
            " 36. 37. 38. 39. 40. 41. 42. 43. 44. 45. 46. 47. 48. 49. 50. 51. 52. 53.\n",
            " 54. 55. 56. 57. 58. 59. 60. 61. 62. 63. 64. nan]\n",
            "0\n",
            "92\n",
            "[0.30912777708420813, 0.7621065345605732, 0.321482219156484, 0.7642444383129681, 0.33760123548602095, 0.7643472985582488, 0.349468320548027, 0.7641527125246255, 0.357489573766411, 0.7642630662019534, 0.3633645265798433, 0.7644740369784568, 0.3732937483613139, 0.7645001497838523, 0.3811983673477196, 0.7645132208566908, 0.3983802069215515, 0.7643165210923583, 0.40408089314437245, 0.764470004201949, 0.41789667178350104, 0.7643281403149695, 0.4315692889751285, 0.7642065489647496, 0.44347418212870426, 0.7640310680347445, 0.4561010123469128, 0.7637684684628225, 0.4653636171152271, 0.7637892559323388, 0.4729527508494423, 0.7639992110264335, 0.4896129397610559, 0.7634019944874241, 0.4960647156987239, 0.7635924084966844, 0.5098521116328625, 0.7631065415893987, 0.5207277521359577, 0.7632917758872675, 0.5358134430120729, 0.7627732948639248, 0.5424607183798242, 0.7631482613679786, 0.5537162679288583, 0.763036107286288, 0.563938767611498, 0.762786390665768, 0.5739893647005612, 0.7628629930191453, 0.5873432578900128, 0.7623606183441283, 0.5960543763580811, 0.7623856232532624, 0.6049411632635824, 0.7625327775193476, 0.6176999467011225, 0.7618627505451021, 0.6243944713589421, 0.762488351335175, 0.6311400128305282, 0.7625940989191121, 0.6390819674686185, 0.7630585476416059, 0.6426841710286506, 0.7635958262010644, 0.64848223567709, 0.7638129546313384, 0.6628057076053484, 0.7634023469496107, 0.6714146484172734, 0.7637029682735178, 0.6819973960472083, 0.7635840895955954, 0.6877260191442167, 0.7639266734517413, 0.696605290861323, 0.763936164170056, 0.7080197180888166, 0.7639066298535224, 0.7192410324944754, 0.7633582676829852, 0.7302779487179488, 0.7629958974358976, 0.7343249302247405, 0.7637561130204394, 0.7436097581607457, 0.7631768169842751, 0.7524109636711539, 0.7625618257401194, 0.7572184043293164, 0.7623297250840334]\n",
            "('browsing_history', 0.08128842213114755)\n"
          ]
        }
      ]
    },
    {
      "cell_type": "code",
      "source": [],
      "metadata": {
        "id": "qiCgAdRHl3QB"
      },
      "execution_count": null,
      "outputs": []
    }
  ]
}