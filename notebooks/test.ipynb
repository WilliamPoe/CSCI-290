{
  "nbformat": 4,
  "nbformat_minor": 0,
  "metadata": {
    "colab": {
      "provenance": [],
      "authorship_tag": "ABX9TyOD8NTm0ccTiaTo1vmCFIDx",
      "include_colab_link": true
    },
    "kernelspec": {
      "name": "python3",
      "display_name": "Python 3"
    },
    "language_info": {
      "name": "python"
    }
  },
  "cells": [
    {
      "cell_type": "markdown",
      "metadata": {
        "id": "view-in-github",
        "colab_type": "text"
      },
      "source": [
        "<a href=\"https://colab.research.google.com/github/WilliamPoe/CSCI-290/blob/main/notebooks/test.ipynb\" target=\"_parent\"><img src=\"https://colab.research.google.com/assets/colab-badge.svg\" alt=\"Open In Colab\"/></a>"
      ]
    },
    {
      "cell_type": "code",
      "execution_count": 1,
      "metadata": {
        "id": "uwK-RNDeErfA"
      },
      "outputs": [],
      "source": [
        "import pandas as pd\n",
        "import math"
      ]
    },
    {
      "cell_type": "code",
      "source": [
        "def cat_entropy(df, target, attribs):\n",
        "  entropy = 0\n",
        "  lowest_entropy = float('inf')\n",
        "  split_point = 0\n",
        "  lowest_quant_entropy = float('inf')\n",
        "  quant_attrib = ''\n",
        "  overall = len( df )\n",
        "  ## Remove the [2:] ##\n",
        "  for attrib in attribs[2:]:\n",
        "    vals = df[attrib].unique()\n",
        "    # Quantitative Entropy Calc\n",
        "    if df[attrib].dtype in ['float64', 'int64']:\n",
        "      if len( df[attrib].unique() ) > 10:\n",
        "        vals.sort()\n",
        "        overall = len( df )\n",
        "        entropies = []\n",
        "        for val in vals:\n",
        "          entropy = 0\n",
        "          left = df[ df[attrib] <= val ][ [attrib,target] ]\n",
        "          props = left[ target ].value_counts( normalize = True )\n",
        "          weight = len( left ) / overall\n",
        "          for prop in props.array:\n",
        "            entropy = entropy - weight*prop*math.log2( prop )\n",
        "          right = df[ df[attrib] > val ][ [attrib,target] ]\n",
        "          props = right[ target ].value_counts( normalize = True )\n",
        "          weight = len( right ) / overall\n",
        "          for prop in props.array:\n",
        "            if prop > 0:\n",
        "              entropy = entropy - weight*prop*math.log2( prop )\n",
        "            entropies.append(entropy)\n",
        "        index = pd.Series( entropies ).idxmin()\n",
        "        # Check to see if there is a new lowest Entropy\n",
        "        if entropies[index] < lowest_quant_entropy:\n",
        "          # Lowest entropy\n",
        "          lowest_quant_entropy = entropies[index]\n",
        "          # Split point with lowest entropy\n",
        "          split_point = vals[index]\n",
        "          # Attribute that has the split point\n",
        "          quant_attrib = attrib\n",
        "    # Categorical Entropy Calc\n",
        "    else:\n",
        "      for val in vals:\n",
        "        subset_size = len(df[ df[attrib] == val ])\n",
        "        weight = subset_size / overall\n",
        "        props = df[ df[attrib] == val ][target].value_counts( normalize=True )\n",
        "        for p in props.array:\n",
        "          entropy =  entropy - weight*(p*math.log2(p))\n",
        "      if lowest_entropy > entropy:\n",
        "        lowest_entropy = entropy\n",
        "        lowest_attrib = attrib\n",
        "  # Compares the lowest categorical Entropy with the lowest quantitative Entropy\n",
        "  if lowest_entropy < lowest_quant_entropy:\n",
        "    # If categorical entropy is still lowest\n",
        "    return lowest_attrib, lowest_entropy\n",
        "  else:\n",
        "    # If quantitative entropy is lowest\n",
        "    lowest_entropy = lowest_quant_entropy\n",
        "    lowest_attrib = quant_attrib\n",
        "    return lowest_attrib, split_point, lowest_entropy\n"
      ],
      "metadata": {
        "id": "_1unZHz_Fa3v"
      },
      "execution_count": 12,
      "outputs": []
    },
    {
      "cell_type": "code",
      "source": [
        "# possible check what the values are for that attribute and then call a function that does\n",
        "# categorical or quantitative if it has more than 10 values\n",
        "# categorical name and entropy\n",
        "# quantitative name and splitting point"
      ],
      "metadata": {
        "id": "tj9v-_Al5RtD"
      },
      "execution_count": 3,
      "outputs": []
    },
    {
      "cell_type": "code",
      "source": [
        "def cat_gini_impurity(df, target, attribs):\n",
        "  gini = 0\n",
        "  lowest_gini = float('inf')\n",
        "  overall = len( df )\n",
        "  ## Remove the [2:] ##\n",
        "  for attrib in attribs[2:]:\n",
        "    vals = df[attrib].unique()\n",
        "    for val in vals:\n",
        "      subset_size = len(df[ df[attrib] == val ])\n",
        "      weight = subset_size / overall\n",
        "      props = df[ df[attrib] == val ][target].value_counts( normalize=True )\n",
        "      for p in props.array:\n",
        "        gini =  weight*(1-(p**2))\n",
        "    if lowest_gini > gini:\n",
        "      lowest_gini = gini\n",
        "      lowest_attrib = attrib\n",
        "  return lowest_attrib, lowest_gini"
      ],
      "metadata": {
        "id": "f7ibQfxXFayj"
      },
      "execution_count": 4,
      "outputs": []
    },
    {
      "cell_type": "code",
      "source": [
        "def main ():\n",
        "  df = pd.read_csv(\"https://github.com/WilliamPoe/CSCI-290/raw/main/Data/ad_click_dataset.csv\")\n",
        "  attribs = []\n",
        "  print(df.columns)\n",
        "  target = str(input(\"What is your target column?: \"))\n",
        "  for col in df.columns:\n",
        "    if col != target:\n",
        "      attribs.append(col)\n",
        "  measure = input(\"Would you like to use: \\n1. Entropy \\n2. Gini impurity \\nSelection:\")\n",
        "  if measure == '1':\n",
        "    print(cat_entropy(df, target, attribs))\n",
        "  else:\n",
        "    print(cat_gini_impurity(df, target, attribs))"
      ],
      "metadata": {
        "id": "8DUTtzVBEypm"
      },
      "execution_count": 5,
      "outputs": []
    },
    {
      "cell_type": "code",
      "source": [
        "main()"
      ],
      "metadata": {
        "colab": {
          "base_uri": "https://localhost:8080/"
        },
        "id": "cbJ74c1DE4Lz",
        "outputId": "77541254-963f-4e44-c026-f972e29ab269"
      },
      "execution_count": 10,
      "outputs": [
        {
          "output_type": "stream",
          "name": "stdout",
          "text": [
            "Index(['id', 'full_name', 'age', 'gender', 'device_type', 'ad_position',\n",
            "       'browsing_history', 'time_of_day', 'click'],\n",
            "      dtype='object')\n",
            "What is your target column?: click\n",
            "Would you like to use: \n",
            "1. Entropy \n",
            "2. Gini impurity \n",
            "Selection:1\n",
            "It worked!\n",
            "('age', 18.0, 0.21468933295874262)\n"
          ]
        }
      ]
    },
    {
      "cell_type": "code",
      "source": [
        "main()"
      ],
      "metadata": {
        "colab": {
          "base_uri": "https://localhost:8080/"
        },
        "id": "Zts_o9c4IBvi",
        "outputId": "2b5151ab-b481-4f1c-8257-4147aa19659b"
      },
      "execution_count": 11,
      "outputs": [
        {
          "output_type": "stream",
          "name": "stdout",
          "text": [
            "Index(['id', 'full_name', 'age', 'gender', 'device_type', 'ad_position',\n",
            "       'browsing_history', 'time_of_day', 'click'],\n",
            "      dtype='object')\n",
            "What is your target column?: click\n",
            "Would you like to use: \n",
            "1. Entropy \n",
            "2. Gini impurity \n",
            "Selection:2\n",
            "('age', 0.005131578947368422)\n"
          ]
        }
      ]
    },
    {
      "cell_type": "code",
      "source": [],
      "metadata": {
        "id": "qiCgAdRHl3QB"
      },
      "execution_count": null,
      "outputs": []
    }
  ]
}