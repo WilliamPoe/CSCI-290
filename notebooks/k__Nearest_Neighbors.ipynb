{
  "nbformat": 4,
  "nbformat_minor": 0,
  "metadata": {
    "colab": {
      "provenance": [],
      "authorship_tag": "ABX9TyMVGg389V28aCv6U2JtATN/",
      "include_colab_link": true
    },
    "kernelspec": {
      "name": "python3",
      "display_name": "Python 3"
    },
    "language_info": {
      "name": "python"
    }
  },
  "cells": [
    {
      "cell_type": "markdown",
      "metadata": {
        "id": "view-in-github",
        "colab_type": "text"
      },
      "source": [
        "<a href=\"https://colab.research.google.com/github/WilliamPoe/CSCI-290/blob/main/notebooks/k__Nearest_Neighbors.ipynb\" target=\"_parent\"><img src=\"https://colab.research.google.com/assets/colab-badge.svg\" alt=\"Open In Colab\"/></a>"
      ]
    },
    {
      "cell_type": "code",
      "execution_count": null,
      "metadata": {
        "id": "HPZp0zToNv8N"
      },
      "outputs": [],
      "source": [
        "import pandas as pd\n",
        "import numpy as np\n",
        "from sklearn.model_selection import train_test_split"
      ]
    },
    {
      "cell_type": "code",
      "source": [
        "def euclidean_distance(point1, new_data):\n",
        "    # Euclidean distance calculation\n",
        "    return np.sqrt(np.sum((np.array(point1) - np.array(new_data))**2))"
      ],
      "metadata": {
        "id": "vSd5QKX8Km0O"
      },
      "execution_count": null,
      "outputs": []
    },
    {
      "cell_type": "code",
      "source": [
        "def k_nearest_neighbors(X, y, k, new_data):\n",
        "  # X: dataset, y:target values, k:K-value, new_data:new data point\n",
        "\n",
        "  X = X.reset_index(drop=True)\n",
        "  y = y.reset_index(drop=True)\n",
        "\n",
        "  # Converts non-numerical data into numerical\n",
        "  for attrib in X.columns:\n",
        "    # Checks if the current attrib is 'object'\n",
        "    if X[attrib].dtype in ['object']:\n",
        "      # Converts the attrib in both the data set and new_data to numerical data\n",
        "      X[attrib] = X[attrib].astype('category').cat.codes\n",
        "      new_data[attrib] = new_data[attrib].astype('category').cat.codes\n",
        "\n",
        "  predictions = []\n",
        "  distances = []\n",
        "  # iterrows() gets the index and the row that has that index and assigns it to new_data_index, new_data_row\n",
        "  for new_data_index, new_data_row in new_data.iterrows():\n",
        "    # Makes sure you are comparing the same amount of columns and that they are the same\n",
        "    common_cols = list(set(X.columns) & set(new_data.keys()))\n",
        "    # iterrows() gets the index and the row that has that index and assigns it to index, row\n",
        "    for index, row in X.iterrows():\n",
        "      # Calls the euclidean distance function to calculate the distance\n",
        "      dist = euclidean_distance(row[common_cols], new_data_row[common_cols])\n",
        "      # Appends the distance it calculates and the target value at that index\n",
        "      distances.append((dist, y.iloc[index]))\n",
        "    # Sorts the list by the distances\n",
        "    distances.sort(key=lambda x: x[0])\n",
        "    # Gets the k nearest data points\n",
        "    nearest_neighbors = distances[:k]\n",
        "\n",
        "    labels = []\n",
        "    # Loops through the k nearest data points\n",
        "    for neighbor in nearest_neighbors:\n",
        "      # Adds the target value to the labels list\n",
        "      labels.append(neighbor[1])\n",
        "    # Predicts the labels based on which labels there is more of in the labels list\n",
        "    predictions.append(max(set(labels), key=labels.count))\n",
        "  # Returns the predictions for the test data\n",
        "  return predictions\n",
        "\n"
      ],
      "metadata": {
        "id": "UBJ5PZa2tpj7"
      },
      "execution_count": null,
      "outputs": []
    },
    {
      "cell_type": "code",
      "source": [
        "df = pd.read_csv(\"https://github.com/WilliamPoe/CSCI-290/raw/refs/heads/main/Data/penguins.csv\")\n",
        "\n",
        "k = int(input(\"What do you want your K-value to be?: \"))\n",
        "\n",
        "train_set, test_set = train_test_split(df, test_size=0.2)\n",
        "\n",
        "train_set = train_set[['species', 'island', 'bill_length_mm', 'bill_depth_mm','flipper_length_mm', 'body_mass_g', 'sex', 'year']]\n",
        "test_set = test_set[['species', 'island', 'bill_length_mm', 'bill_depth_mm','flipper_length_mm', 'body_mass_g', 'sex', 'year']]\n",
        "\n",
        "X_train = train_set[['island', 'bill_length_mm', 'bill_depth_mm','flipper_length_mm', 'body_mass_g', 'sex', 'year']]\n",
        "y_train = train_set['species']\n",
        "X_test = test_set[['island', 'bill_length_mm', 'bill_depth_mm','flipper_length_mm', 'body_mass_g', 'sex', 'year']]\n",
        "y_test = test_set['species']\n",
        "\n",
        "\n",
        "target = 'species'\n",
        "\n",
        "print(len(X_test))\n",
        "\n",
        "k_nearest_neighbors(X_train, y_train, k, X_test)"
      ],
      "metadata": {
        "colab": {
          "base_uri": "https://localhost:8080/"
        },
        "id": "2xXEFdcJtpzw",
        "outputId": "98b32009-b063-40d3-a7e9-738ab370690b"
      },
      "execution_count": null,
      "outputs": [
        {
          "output_type": "stream",
          "name": "stdout",
          "text": [
            "What do you want your K-value to be?: 5\n",
            "69\n"
          ]
        },
        {
          "output_type": "stream",
          "name": "stderr",
          "text": [
            "<ipython-input-54-2e2f7eb3e8c3>:10: SettingWithCopyWarning: \n",
            "A value is trying to be set on a copy of a slice from a DataFrame.\n",
            "Try using .loc[row_indexer,col_indexer] = value instead\n",
            "\n",
            "See the caveats in the documentation: https://pandas.pydata.org/pandas-docs/stable/user_guide/indexing.html#returning-a-view-versus-a-copy\n",
            "  new_data[attrib] = new_data[attrib].astype('category').cat.codes\n",
            "<ipython-input-54-2e2f7eb3e8c3>:10: SettingWithCopyWarning: \n",
            "A value is trying to be set on a copy of a slice from a DataFrame.\n",
            "Try using .loc[row_indexer,col_indexer] = value instead\n",
            "\n",
            "See the caveats in the documentation: https://pandas.pydata.org/pandas-docs/stable/user_guide/indexing.html#returning-a-view-versus-a-copy\n",
            "  new_data[attrib] = new_data[attrib].astype('category').cat.codes\n"
          ]
        },
        {
          "output_type": "execute_result",
          "data": {
            "text/plain": [
              "['Gentoo',\n",
              " 'Gentoo',\n",
              " 'Gentoo',\n",
              " 'Gentoo',\n",
              " 'Gentoo',\n",
              " 'Gentoo',\n",
              " 'Gentoo',\n",
              " 'Gentoo',\n",
              " 'Gentoo',\n",
              " 'Gentoo',\n",
              " 'Gentoo',\n",
              " 'Gentoo',\n",
              " 'Gentoo',\n",
              " 'Gentoo',\n",
              " 'Gentoo',\n",
              " 'Gentoo',\n",
              " 'Adelie',\n",
              " 'Gentoo',\n",
              " 'Gentoo',\n",
              " 'Gentoo',\n",
              " 'Gentoo',\n",
              " 'Gentoo',\n",
              " 'Gentoo',\n",
              " 'Gentoo',\n",
              " 'Gentoo',\n",
              " 'Gentoo',\n",
              " 'Gentoo',\n",
              " 'Gentoo',\n",
              " 'Gentoo',\n",
              " 'Gentoo',\n",
              " 'Gentoo',\n",
              " 'Gentoo',\n",
              " 'Gentoo',\n",
              " 'Gentoo',\n",
              " 'Gentoo',\n",
              " 'Gentoo',\n",
              " 'Gentoo',\n",
              " 'Chinstrap',\n",
              " 'Chinstrap',\n",
              " 'Chinstrap',\n",
              " 'Chinstrap',\n",
              " 'Chinstrap',\n",
              " 'Chinstrap',\n",
              " 'Chinstrap',\n",
              " 'Chinstrap',\n",
              " 'Chinstrap',\n",
              " 'Chinstrap',\n",
              " 'Chinstrap',\n",
              " 'Chinstrap',\n",
              " 'Chinstrap',\n",
              " 'Chinstrap',\n",
              " 'Chinstrap',\n",
              " 'Chinstrap',\n",
              " 'Chinstrap',\n",
              " 'Chinstrap',\n",
              " 'Chinstrap',\n",
              " 'Chinstrap',\n",
              " 'Chinstrap',\n",
              " 'Chinstrap',\n",
              " 'Chinstrap',\n",
              " 'Chinstrap',\n",
              " 'Chinstrap',\n",
              " 'Chinstrap',\n",
              " 'Chinstrap',\n",
              " 'Chinstrap',\n",
              " 'Chinstrap',\n",
              " 'Chinstrap',\n",
              " 'Chinstrap',\n",
              " 'Chinstrap']"
            ]
          },
          "metadata": {},
          "execution_count": 55
        }
      ]
    },
    {
      "cell_type": "code",
      "source": [],
      "metadata": {
        "id": "lA2IIaAv2vq1"
      },
      "execution_count": null,
      "outputs": []
    }
  ]
}