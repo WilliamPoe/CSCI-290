{
  "nbformat": 4,
  "nbformat_minor": 0,
  "metadata": {
    "colab": {
      "provenance": [],
      "authorship_tag": "ABX9TyPHuWn03/E39K+gYpD+o9yc",
      "include_colab_link": true
    },
    "kernelspec": {
      "name": "python3",
      "display_name": "Python 3"
    },
    "language_info": {
      "name": "python"
    }
  },
  "cells": [
    {
      "cell_type": "markdown",
      "metadata": {
        "id": "view-in-github",
        "colab_type": "text"
      },
      "source": [
        "<a href=\"https://colab.research.google.com/github/WilliamPoe/CSCI-290/blob/main/notebooks/k__Nearest_Neighbors.ipynb\" target=\"_parent\"><img src=\"https://colab.research.google.com/assets/colab-badge.svg\" alt=\"Open In Colab\"/></a>"
      ]
    },
    {
      "cell_type": "code",
      "execution_count": 18,
      "metadata": {
        "id": "HPZp0zToNv8N"
      },
      "outputs": [],
      "source": [
        "import pandas as pd\n",
        "import numpy as np\n",
        "from sklearn.model_selection import train_test_split"
      ]
    },
    {
      "cell_type": "code",
      "source": [
        "def euclidean_distance(point1, point2):\n",
        "    return np.sqrt(np.sum((np.array(point1) - np.array(point2))**2))"
      ],
      "metadata": {
        "id": "vSd5QKX8Km0O"
      },
      "execution_count": 13,
      "outputs": []
    },
    {
      "cell_type": "code",
      "source": [
        "def k_nearest_neighbors(X, y, k, new_data):\n",
        "  # X: dataset, k:K-value, target:target attribute, new_data:new data point\n",
        "\n",
        "  X = X.reset_index(drop=True)\n",
        "  y = y.reset_index(drop=True)\n",
        "\n",
        "  for attrib in X.columns:\n",
        "    if X[attrib].dtype in ['object']:\n",
        "      X[attrib] = X[attrib].astype('category').cat.codes\n",
        "      new_data[attrib] = new_data[attrib].astype('category').cat.codes\n",
        "\n",
        "  distances = []\n",
        "  for new_data_index, new_data_row in new_data.iterrows():\n",
        "    common_cols = list(set(X.columns) & set(new_data.keys()))\n",
        "    for index, row in X.iterrows():\n",
        "      # Compare with the current row of new_data\n",
        "      dist = euclidean_distance(row[common_cols], new_data_row[common_cols])\n",
        "      distances.append((dist, y.iloc[index]))"
      ],
      "metadata": {
        "id": "UBJ5PZa2tpj7"
      },
      "execution_count": 28,
      "outputs": []
    },
    {
      "cell_type": "code",
      "source": [
        "df = pd.read_csv(\"https://github.com/WilliamPoe/CSCI-290/raw/refs/heads/main/Data/penguins.csv\")\n",
        "\n",
        "k = int(input(\"What do you want your K-value to be?: \"))\n",
        "\n",
        "train_set, test_set = train_test_split(df, test_size=0.2)\n",
        "\n",
        "train_set = train_set[['species', 'island', 'bill_length_mm', 'bill_depth_mm','flipper_length_mm', 'body_mass_g', 'sex', 'year']]\n",
        "test_set = test_set[['species', 'island', 'bill_length_mm', 'bill_depth_mm','flipper_length_mm', 'body_mass_g', 'sex', 'year']]\n",
        "\n",
        "X_train = train_set[['island', 'bill_length_mm', 'bill_depth_mm','flipper_length_mm', 'body_mass_g', 'sex', 'year']]\n",
        "y_train = train_set['species']\n",
        "X_test = test_set[['island', 'bill_length_mm', 'bill_depth_mm','flipper_length_mm', 'body_mass_g', 'sex', 'year']]\n",
        "y_test = test_set['species']\n",
        "\n",
        "\n",
        "target = 'species'\n",
        "\n",
        "k_nearest_neighbors(X_train, y_train, k, X_test)"
      ],
      "metadata": {
        "id": "2xXEFdcJtpzw",
        "outputId": "07c1c2e4-90fa-49da-a8f8-74e9a66a2110",
        "colab": {
          "base_uri": "https://localhost:8080/"
        }
      },
      "execution_count": 29,
      "outputs": [
        {
          "name": "stdout",
          "output_type": "stream",
          "text": [
            "What do you want your K-value to be?: 5\n"
          ]
        },
        {
          "output_type": "stream",
          "name": "stderr",
          "text": [
            "<ipython-input-28-73b810843467>:10: SettingWithCopyWarning: \n",
            "A value is trying to be set on a copy of a slice from a DataFrame.\n",
            "Try using .loc[row_indexer,col_indexer] = value instead\n",
            "\n",
            "See the caveats in the documentation: https://pandas.pydata.org/pandas-docs/stable/user_guide/indexing.html#returning-a-view-versus-a-copy\n",
            "  new_data[attrib] = new_data[attrib].astype('category').cat.codes\n",
            "<ipython-input-28-73b810843467>:10: SettingWithCopyWarning: \n",
            "A value is trying to be set on a copy of a slice from a DataFrame.\n",
            "Try using .loc[row_indexer,col_indexer] = value instead\n",
            "\n",
            "See the caveats in the documentation: https://pandas.pydata.org/pandas-docs/stable/user_guide/indexing.html#returning-a-view-versus-a-copy\n",
            "  new_data[attrib] = new_data[attrib].astype('category').cat.codes\n"
          ]
        }
      ]
    },
    {
      "cell_type": "code",
      "source": [],
      "metadata": {
        "id": "lA2IIaAv2vq1"
      },
      "execution_count": null,
      "outputs": []
    }
  ]
}