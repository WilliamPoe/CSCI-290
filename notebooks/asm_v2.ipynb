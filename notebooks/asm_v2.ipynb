{
  "nbformat": 4,
  "nbformat_minor": 0,
  "metadata": {
    "colab": {
      "provenance": [],
      "authorship_tag": "ABX9TyMlEcx0FC1zEQ8opauBbWN0",
      "include_colab_link": true
    },
    "kernelspec": {
      "name": "python3",
      "display_name": "Python 3"
    },
    "language_info": {
      "name": "python"
    }
  },
  "cells": [
    {
      "cell_type": "markdown",
      "metadata": {
        "id": "view-in-github",
        "colab_type": "text"
      },
      "source": [
        "<a href=\"https://colab.research.google.com/github/WilliamPoe/CSCI-290/blob/main/notebooks/asm_v2.ipynb\" target=\"_parent\"><img src=\"https://colab.research.google.com/assets/colab-badge.svg\" alt=\"Open In Colab\"/></a>"
      ]
    },
    {
      "cell_type": "code",
      "execution_count": 29,
      "metadata": {
        "id": "ThC-lCa0kh35"
      },
      "outputs": [],
      "source": [
        "import pandas as pd\n",
        "import numpy as np\n",
        "import math\n",
        "from sklearn.tree import DecisionTreeClassifier, DecisionTreeRegressor, plot_tree\n",
        "from sklearn.metrics import accuracy_score, mean_squared_error, accuracy_score, mean_squared_error\n",
        "from sklearn.pipeline import Pipeline\n",
        "from sklearn.preprocessing import OneHotEncoder, StandardScaler\n",
        "from sklearn.impute import SimpleImputer\n",
        "from sklearn.compose import ColumnTransformer\n",
        "from sklearn.model_selection import train_test_split, cross_val_score"
      ]
    },
    {
      "cell_type": "code",
      "source": [
        "#### NEED TO CHANGE df TO X_train ####\n",
        "def Gini_Impurity(df, target):\n",
        "    gini = 0\n",
        "    lowest_gini = float('inf')\n",
        "    split_point = 0\n",
        "    lowest_quant_gini = float('inf')\n",
        "    quant_attrib = ''\n",
        "    overall = len( df )\n",
        "    for attrib in df.columns: ### change this to df.columns ###\n",
        "      vals = df[attrib].unique()\n",
        "      # Quantitative Gini Impurity Calc\n",
        "      if df[attrib].dtype in ['float64', 'int64']:\n",
        "        if len( df[attrib].unique() ) > 10:\n",
        "          vals.sort()\n",
        "          overall = len( df )\n",
        "          gini_impurities = []\n",
        "          for val in vals:\n",
        "            quant_gini = 0\n",
        "            left = df[ df[attrib] <= val ][ [attrib,target] ]\n",
        "            props = left[ target ].value_counts( normalize = True )\n",
        "            weight = len( left ) / overall\n",
        "            for prop in props.array:\n",
        "              quant_gini += weight*(1-(prop**2)) ## Gini calculation\n",
        "            right = df[ df[attrib] > val ][ [attrib,target] ]\n",
        "            props = right[ target ].value_counts( normalize = True )\n",
        "            weight = len( right ) / overall\n",
        "            for prop in props.array:\n",
        "              if prop > 0:\n",
        "                ### Change calculation ###\n",
        "                quant_gini += weight*(1-(prop**2))\n",
        "              gini_impurities.append(quant_gini)\n",
        "          index = pd.Series( gini_impurities ).idxmin()\n",
        "          # Check to see if there is a new lowest Gini Impurity\n",
        "          if gini_impurities[index] < lowest_quant_gini:\n",
        "            # Lowest Gini Impurity\n",
        "            lowest_quant_gini = gini_impurities[index]\n",
        "            # Split point with lowest Gini Impurity\n",
        "            split_point = vals[index]\n",
        "            # Attribute that has the split point\n",
        "            quant_attrib = attrib\n",
        "\n",
        "      # Categorical Gini Impurity Calc\n",
        "      else:\n",
        "        for val in vals:\n",
        "          subset_size = len(df[ df[attrib] == val ])\n",
        "          weight = subset_size / overall\n",
        "          props = df[ df[attrib] == val ][target].value_counts( normalize=True )\n",
        "          for p in props.array:\n",
        "            gini +=  weight*(1-(p**2)) ## Gini calculation\n",
        "        if lowest_gini > gini:\n",
        "          lowest_gini = gini\n",
        "          lowest_attrib = attrib\n",
        "    # Compares the lowest categorical Gini Impurity with the lowest quantitative Gini Impurity\n",
        "    if lowest_gini < lowest_quant_gini:\n",
        "      # If categorical Gini Impurity is still lowest\n",
        "      return lowest_attrib, lowest_gini\n",
        "    else:\n",
        "      # If quantitative Gini Impurity is lowest\n",
        "      lowest_gini = lowest_quant_gini\n",
        "      lowest_attrib = quant_attrib\n",
        "      return lowest_attrib, split_point, lowest_gini"
      ],
      "metadata": {
        "id": "7ehRPlXUE4YM"
      },
      "execution_count": 59,
      "outputs": []
    },
    {
      "cell_type": "code",
      "source": [
        "#### NEED TO CHANGE df TO X_train ####\n",
        "def Entropy (df, target):\n",
        "    entropy = 0\n",
        "    lowest_entropy = float('inf')\n",
        "    split_point = 0\n",
        "    lowest_quant_entropy = float('inf')\n",
        "    quant_attrib = ''\n",
        "    overall = len( df )\n",
        "    for attrib in df.columns: ### change this to df.columns ###\n",
        "      vals = df[attrib].unique()\n",
        "      # Quantitative Entropy Calc\n",
        "      if df[attrib].dtype in ['float64', 'int64']:\n",
        "        if len( df[attrib].unique() ) > 10:\n",
        "          vals.sort()\n",
        "          overall = len( df )\n",
        "          entropies = []\n",
        "          for val in vals:\n",
        "            quant_entropy = 0\n",
        "            left = df[ df[attrib] <= val ][ [attrib,target] ]\n",
        "            props = left[ target ].value_counts( normalize = True )\n",
        "            weight = len( left ) / overall\n",
        "            for prop in props.array:\n",
        "              quant_entropy = quant_entropy - weight*prop*math.log2( prop ) ## Entropy calculation\n",
        "            right = df[ df[attrib] > val ][ [attrib,target] ]\n",
        "            props = right[ target ].value_counts( normalize = True )\n",
        "            weight = len( right ) / overall\n",
        "            for prop in props.array:\n",
        "              if prop > 0:\n",
        "                quant_entropy = quant_entropy - weight*prop*math.log2( prop )\n",
        "              entropies.append(quant_entropy)\n",
        "          index = pd.Series( entropies ).idxmin()\n",
        "          # Check to see if there is a new lowest Entropy\n",
        "          if entropies[index] < lowest_quant_entropy:\n",
        "            # Lowest entropy\n",
        "            lowest_quant_entropy = entropies[index]\n",
        "            # Split point with lowest entropy\n",
        "            split_point = vals[index]\n",
        "            # Attribute that has the split point\n",
        "            quant_attrib = attrib\n",
        "\n",
        "      # Categorical Entropy Calc\n",
        "      else:\n",
        "        for val in vals:\n",
        "          subset_size = len(df[ df[attrib] == val ])\n",
        "          weight = subset_size / overall\n",
        "          props = df[ df[attrib] == val ][target].value_counts( normalize=True )\n",
        "          for prop in props.array:\n",
        "            entropy =  entropy - weight*(prop*math.log2(prop)) ## Entropy calculation\n",
        "        if lowest_entropy > entropy:\n",
        "          lowest_entropy = entropy\n",
        "          lowest_attrib = attrib\n",
        "    # Compares the lowest categorical Entropy with the lowest quantitative Entropy\n",
        "    if lowest_entropy < lowest_quant_entropy:\n",
        "      # If categorical entropy is still lowest\n",
        "      return lowest_attrib, lowest_entropy\n",
        "    else:\n",
        "      # If quantitative entropy is lowest\n",
        "      lowest_entropy = lowest_quant_entropy\n",
        "      lowest_attrib = quant_attrib\n",
        "      return lowest_attrib, split_point, lowest_entropy"
      ],
      "metadata": {
        "id": "Z73cB_7rE4a7"
      },
      "execution_count": 60,
      "outputs": []
    },
    {
      "cell_type": "code",
      "source": [
        "def classification(X_train, X_test, y_train, y_test, method, pipeline):\n",
        "\n",
        "  ### Gini Impurity method ###\n",
        "  if method == \"gini\":\n",
        "    result = Gini_Impurity(df, target)\n",
        "    print(\"Gini Impurity result:\", result)\n",
        "\n",
        "  ### Entropy method ###\n",
        "  elif method == \"entropy\":\n",
        "    result = Entropy(df, target)\n",
        "    print(\"Entropy result:\", result)\n",
        "\n",
        "  ### Invalid method ###\n",
        "  else:\n",
        "    print(\"Invalid Method\")\n",
        "    return\n",
        "\n",
        "  ## ADD DecisionTreeClassifier HERE ###\n",
        "  print(cross_val_score(pipeline, X_train, y_train, cv=3))\n",
        "  pipeline.fit(X_train, y_train)\n",
        "  y_pred = pipeline.predict(X_test)\n",
        "  accuracy = accuracy_score(y_test, y_pred)\n",
        "  plot_tree(pipeline.named_steps['clf'])\n",
        "  return accuracy\n",
        ""
      ],
      "metadata": {
        "id": "agvv4BCspyNy"
      },
      "execution_count": 56,
      "outputs": []
    },
    {
      "cell_type": "code",
      "source": [
        "def regression(X_train, X_test, y_train, y_test, pipeline):\n",
        "  cross_val_score(pipeline, X_train, y_train, cv=5)\n",
        "  ### Fits the training data to the pipline ###\n",
        "  pipeline.fit(X_train, y_train)\n",
        "  ### Predicts the test data ###\n",
        "  y_pred = pipeline.predict(X_test)\n",
        "  ### Calculates the mean squared error ###\n",
        "  mse = mean_squared_error(y_test, y_pred)\n",
        "  ### Plots the decision tree ###\n",
        "  plot_tree(pipeline.named_steps['clf'])\n",
        "  return mse\n"
      ],
      "metadata": {
        "id": "ixr2Qg7qpyQV"
      },
      "execution_count": 45,
      "outputs": []
    },
    {
      "cell_type": "code",
      "source": [
        "def Attribute_selection_method(task, df, target):\n",
        "\n",
        "  ### Split the data ###\n",
        "  X = df.drop(target, axis=1)\n",
        "  y = df[target]\n",
        "  X_train, X_test, y_train, y_test = train_test_split(X, y, test_size=0.2)\n",
        "\n",
        "  ### Process the data ###\n",
        "  num_attributes = X_train.select_dtypes( include = ['float64']).columns\n",
        "  cat_attributes = X_train.select_dtypes( include = ['object']).columns\n",
        "\n",
        "  trf = [ ('num', Pipeline(steps=[('imputer', SimpleImputer(strategy='mean')),\n",
        "         ('Scaler', StandardScaler())]),\n",
        "         num_attributes), ('cat', OneHotEncoder( handle_unknown='ignore' ), cat_attributes) ]\n",
        "  col_transform = ColumnTransformer( transformers = trf )\n",
        "\n",
        "  ### Classification task ###\n",
        "  if task.lower() == \"classification\":\n",
        "    method = input(\"Enter the method of attribute selection (gini or entropy): \").lower()\n",
        "    ### NOT 100% SURE THIS IS WHAT CAN BE DONE ###\n",
        "    pipeline = Pipeline( steps = [('pre', col_transform),\n",
        "('clf', DecisionTreeClassifier(max_depth=2))])\n",
        "    ### Function call ###\n",
        "    print(classification(X_train, X_test, y_train, y_test, method, pipeline))\n",
        "\n",
        "  ### Regression task ###\n",
        "  elif task.lower() == \"regression\":\n",
        "    ### Pipeline for regression ###\n",
        "    pipeline = Pipeline( steps = [('pre', col_transform),\n",
        "('clf', DecisionTreeRegressor(max_depth = 2))])\n",
        "    ### Function call ###\n",
        "    print(regression(X_train, X_test, y_train, y_test, pipeline))\n",
        "\n",
        "  ### Invalid task ###\n",
        "  else:\n",
        "    print(\"Invalid Task\")\n",
        "    return"
      ],
      "metadata": {
        "id": "poFj0ZAqnLbL"
      },
      "execution_count": 40,
      "outputs": []
    },
    {
      "cell_type": "code",
      "source": [
        "df = pd.read_csv(\"https://raw.githubusercontent.com/WilliamPoe/CSCI-290/refs/heads/main/Data/ds_salaries.csv\") ## Dataset\n",
        "target = \"employee_residence\" ## Categorical target attribute\n",
        "#target = \"work_year\" ## Numerical target attribute\n",
        "task = \"classification\" ## For Classification\n",
        "#task = \"regression\" ## For Regression\n",
        "Attribute_selection_method(task, df, target)"
      ],
      "metadata": {
        "id": "Q05dsZSeqN3T",
        "colab": {
          "base_uri": "https://localhost:8080/",
          "height": 533
        },
        "outputId": "157df3f7-8e0c-4ca3-fd34-a361956f6679"
      },
      "execution_count": 58,
      "outputs": [
        {
          "output_type": "stream",
          "name": "stdout",
          "text": [
            "Enter the method of attribute selection (gini or entropy): entropy\n",
            "Entropy result: ('salary_in_usd', 111000, 0.2559790811041855)\n",
            "[0.86127745 0.86713287 0.86813187]\n"
          ]
        },
        {
          "output_type": "stream",
          "name": "stderr",
          "text": [
            "/usr/local/lib/python3.10/dist-packages/sklearn/model_selection/_split.py:776: UserWarning: The least populated class in y has only 1 members, which is less than n_splits=3.\n",
            "  warnings.warn(\n"
          ]
        },
        {
          "output_type": "stream",
          "name": "stdout",
          "text": [
            "0.8655126498002663\n"
          ]
        },
        {
          "output_type": "display_data",
          "data": {
            "text/plain": [
              "<Figure size 640x480 with 1 Axes>"
            ],
            "image/png": "[encoded data removed]"
          },
          "metadata": {}
        }
      ]
    },
    {
      "cell_type": "code",
      "source": [],
      "metadata": {
        "id": "KlMnkaOjVFOq"
      },
      "execution_count": null,
      "outputs": []
    }
  ]
}