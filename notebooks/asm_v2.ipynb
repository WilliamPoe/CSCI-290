{
  "nbformat": 4,
  "nbformat_minor": 0,
  "metadata": {
    "colab": {
      "provenance": [],
      "authorship_tag": "ABX9TyMDCPWpjhBZcXKouH21LTGj",
      "include_colab_link": true
    },
    "kernelspec": {
      "name": "python3",
      "display_name": "Python 3"
    },
    "language_info": {
      "name": "python"
    }
  },
  "cells": [
    {
      "cell_type": "markdown",
      "metadata": {
        "id": "view-in-github",
        "colab_type": "text"
      },
      "source": [
        "<a href=\"https://colab.research.google.com/github/WilliamPoe/CSCI-290/blob/main/notebooks/asm_v2.ipynb\" target=\"_parent\"><img src=\"https://colab.research.google.com/assets/colab-badge.svg\" alt=\"Open In Colab\"/></a>"
      ]
    },
    {
      "cell_type": "code",
      "execution_count": null,
      "metadata": {
        "id": "ThC-lCa0kh35"
      },
      "outputs": [],
      "source": [
        "import pandas as pd\n",
        "import math\n",
        "from sklearn.tree import DecisionTreeClassifier\n",
        "from sklearn.tree import DecisionTreeRegressor\n",
        "from sklearn.model_selection import train_test_split\n",
        "from sklearn.metrics import accuracy_score\n",
        "from sklearn.metrics import mean_squared_error"
      ]
    },
    {
      "cell_type": "code",
      "source": [
        "def classification(df, target):\n",
        ""
      ],
      "metadata": {
        "id": "agvv4BCspyNy"
      },
      "execution_count": null,
      "outputs": []
    },
    {
      "cell_type": "code",
      "source": [
        "def regression(df, target):\n",
        ""
      ],
      "metadata": {
        "id": "ixr2Qg7qpyQV"
      },
      "execution_count": null,
      "outputs": []
    },
    {
      "cell_type": "code",
      "source": [
        "def Attribute_selection_method(task, df, target):\n",
        ""
      ],
      "metadata": {
        "id": "poFj0ZAqnLbL"
      },
      "execution_count": null,
      "outputs": []
    },
    {
      "cell_type": "code",
      "source": [
        "df = pd.read_csv(\"\") ## Dataset\n",
        "target = \"\" ## Target attribute\n",
        "task = \"\" ## Classification or Regression\n",
        "Attribute_selection_method(task, df, target)"
      ],
      "metadata": {
        "id": "Q05dsZSeqN3T"
      },
      "execution_count": null,
      "outputs": []
    }
  ]
}