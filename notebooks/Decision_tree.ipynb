{
  "nbformat": 4,
  "nbformat_minor": 0,
  "metadata": {
    "colab": {
      "provenance": [],
      "authorship_tag": "ABX9TyOfTCa80yzW9EcqZcBwEPAN",
      "include_colab_link": true
    },
    "kernelspec": {
      "name": "python3",
      "display_name": "Python 3"
    },
    "language_info": {
      "name": "python"
    }
  },
  "cells": [
    {
      "cell_type": "markdown",
      "metadata": {
        "id": "view-in-github",
        "colab_type": "text"
      },
      "source": [
        "<a href=\"https://colab.research.google.com/github/WilliamPoe/CSCI-290/blob/main/notebooks/Decision_tree.ipynb\" target=\"_parent\"><img src=\"https://colab.research.google.com/assets/colab-badge.svg\" alt=\"Open In Colab\"/></a>"
      ]
    },
    {
      "cell_type": "code",
      "source": [
        "import pandas as pd"
      ],
      "metadata": {
        "id": "SmkFf5HzeMQl"
      },
      "execution_count": 76,
      "outputs": []
    },
    {
      "cell_type": "code",
      "source": [
        "df = pd.read_csv(\"https://github.com/WilliamPoe/CSCI-290/raw/main/Data/ad_click_dataset.csv\")"
      ],
      "metadata": {
        "id": "7rDML2lkeAkh"
      },
      "execution_count": 77,
      "outputs": []
    },
    {
      "cell_type": "code",
      "execution_count": 78,
      "metadata": {
        "id": "SSalYVnDd082"
      },
      "outputs": [],
      "source": [
        "from sklearn.model_selection import train_test_split\n",
        "train_set, test_set = train_test_split(df, test_size=0.2)"
      ]
    },
    {
      "cell_type": "code",
      "source": [
        "from sklearn.pipeline import Pipeline\n",
        "from sklearn.preprocessing import OneHotEncoder, StandardScaler\n",
        "from sklearn.impute import SimpleImputer\n",
        "from sklearn.compose import ColumnTransformer\n",
        "from sklearn.model_selection import cross_val_score\n",
        "from sklearn.tree import plot_tree\n",
        "from sklearn.tree import DecisionTreeClassifier\n",
        "from sklearn.metrics import confusion_matrix, ConfusionMatrixDisplay"
      ],
      "metadata": {
        "id": "XAn_gSUtjnj-"
      },
      "execution_count": 79,
      "outputs": []
    },
    {
      "cell_type": "code",
      "source": [
        "train_set.columns"
      ],
      "metadata": {
        "colab": {
          "base_uri": "https://localhost:8080/"
        },
        "id": "FTdu1_S3eR0o",
        "outputId": "23008587-9f04-4f2b-900f-33a81f816f01"
      },
      "execution_count": 80,
      "outputs": [
        {
          "output_type": "execute_result",
          "data": {
            "text/plain": [
              "Index(['id', 'full_name', 'age', 'gender', 'device_type', 'ad_position',\n",
              "       'browsing_history', 'time_of_day', 'click'],\n",
              "      dtype='object')"
            ]
          },
          "metadata": {},
          "execution_count": 80
        }
      ]
    },
    {
      "cell_type": "code",
      "source": [
        "train_set = train_set[['age', 'gender', 'device_type', 'ad_position', 'browsing_history', 'time_of_day', 'click']]"
      ],
      "metadata": {
        "id": "c9tOrOopvtzx"
      },
      "execution_count": 81,
      "outputs": []
    },
    {
      "cell_type": "code",
      "source": [
        "test_set = test_set[['age', 'gender', 'device_type', 'ad_position', 'browsing_history', 'time_of_day', 'click']]"
      ],
      "metadata": {
        "id": "gLO7HiEFNM76"
      },
      "execution_count": 82,
      "outputs": []
    },
    {
      "cell_type": "code",
      "source": [
        "X_train = train_set[['age', 'gender', 'device_type', 'ad_position', 'browsing_history', 'time_of_day']]\n",
        "y_train = train_set['click']"
      ],
      "metadata": {
        "id": "aJSsjZswNSPh"
      },
      "execution_count": 83,
      "outputs": []
    },
    {
      "cell_type": "code",
      "source": [
        "X_test = test_set[['age', 'gender', 'device_type', 'ad_position', 'browsing_history', 'time_of_day']]\n",
        "y_test = test_set['click']"
      ],
      "metadata": {
        "id": "Y61bYexaNj5q"
      },
      "execution_count": 84,
      "outputs": []
    },
    {
      "cell_type": "markdown",
      "source": [
        "Work on the stuff below"
      ],
      "metadata": {
        "id": "0n40HjHslp5L"
      }
    },
    {
      "cell_type": "code",
      "source": [
        "num_attributes = X_train.select_dtypes( include = ['float64']).columns\n",
        "cat_attributes = X_train.select_dtypes( include = ['object']).columns"
      ],
      "metadata": {
        "id": "-Y1knhHoNvzV"
      },
      "execution_count": 85,
      "outputs": []
    },
    {
      "cell_type": "code",
      "source": [
        "trf = [ ('num', Pipeline(steps=[('imputer', SimpleImputer(strategy='mean')),\n",
        "         ('Scaler', StandardScaler())]),\n",
        "         num_attributes), ('cat', OneHotEncoder( handle_unknown='ignore' ), cat_attributes) ]\n",
        "col_transform = ColumnTransformer( transformers = trf )"
      ],
      "metadata": {
        "id": "DMcvQ98zj4l_"
      },
      "execution_count": 86,
      "outputs": []
    },
    {
      "cell_type": "code",
      "source": [
        "pipeline = Pipeline( steps = [('pre', col_transform),\n",
        " ('clf', DecisionTreeClassifier(max_depth=5))])"
      ],
      "metadata": {
        "id": "_rizD3sSkCF3"
      },
      "execution_count": 87,
      "outputs": []
    },
    {
      "cell_type": "code",
      "source": [
        "cross_val_score( pipeline, X_train, y_train, cv=5, scoring='accuracy')"
      ],
      "metadata": {
        "colab": {
          "base_uri": "https://localhost:8080/"
        },
        "id": "6LZGVdK0kNtE",
        "outputId": "83f43554-2d99-48e2-a725-31eaa5dc3b58"
      },
      "execution_count": 88,
      "outputs": [
        {
          "output_type": "execute_result",
          "data": {
            "text/plain": [
              "array([0.656875, 0.669375, 0.6475  , 0.66375 , 0.6625  ])"
            ]
          },
          "metadata": {},
          "execution_count": 88
        }
      ]
    },
    {
      "cell_type": "code",
      "source": [
        "model = pipeline.fit( X_train, y_train )\n",
        "model"
      ],
      "metadata": {
        "colab": {
          "base_uri": "https://localhost:8080/",
          "height": 225
        },
        "id": "dewp20-FkdV0",
        "outputId": "7e9f92a9-439d-46e8-9b44-590bc9667e81"
      },
      "execution_count": 89,
      "outputs": [
        {
          "output_type": "execute_result",
          "data": {
            "text/plain": [
              "Pipeline(steps=[('pre',\n",
              "                 ColumnTransformer(transformers=[('num',\n",
              "                                                  Pipeline(steps=[('imputer',\n",
              "                                                                   SimpleImputer()),\n",
              "                                                                  ('Scaler',\n",
              "                                                                   StandardScaler())]),\n",
              "                                                  Index(['age'], dtype='object')),\n",
              "                                                 ('cat',\n",
              "                                                  OneHotEncoder(handle_unknown='ignore'),\n",
              "                                                  Index(['gender', 'device_type', 'ad_position', 'browsing_history',\n",
              "       'time_of_day'],\n",
              "      dtype='object'))])),\n",
              "                ('clf', DecisionTreeClassifier(max_depth=5))])"
            ],
            "text/html": [
              "<style>#sk-container-id-5 {color: black;}#sk-container-id-5 pre{padding: 0;}#sk-container-id-5 div.sk-toggleable {background-color: white;}#sk-container-id-5 label.sk-toggleable__label {cursor: pointer;display: block;width: 100%;margin-bottom: 0;padding: 0.3em;box-sizing: border-box;text-align: center;}#sk-container-id-5 label.sk-toggleable__label-arrow:before {content: \"▸\";float: left;margin-right: 0.25em;color: #696969;}#sk-container-id-5 label.sk-toggleable__label-arrow:hover:before {color: black;}#sk-container-id-5 div.sk-estimator:hover label.sk-toggleable__label-arrow:before {color: black;}#sk-container-id-5 div.sk-toggleable__content {max-height: 0;max-width: 0;overflow: hidden;text-align: left;background-color: #f0f8ff;}#sk-container-id-5 div.sk-toggleable__content pre {margin: 0.2em;color: black;border-radius: 0.25em;background-color: #f0f8ff;}#sk-container-id-5 input.sk-toggleable__control:checked~div.sk-toggleable__content {max-height: 200px;max-width: 100%;overflow: auto;}#sk-container-id-5 input.sk-toggleable__control:checked~label.sk-toggleable__label-arrow:before {content: \"▾\";}#sk-container-id-5 div.sk-estimator input.sk-toggleable__control:checked~label.sk-toggleable__label {background-color: #d4ebff;}#sk-container-id-5 div.sk-label input.sk-toggleable__control:checked~label.sk-toggleable__label {background-color: #d4ebff;}#sk-container-id-5 input.sk-hidden--visually {border: 0;clip: rect(1px 1px 1px 1px);clip: rect(1px, 1px, 1px, 1px);height: 1px;margin: -1px;overflow: hidden;padding: 0;position: absolute;width: 1px;}#sk-container-id-5 div.sk-estimator {font-family: monospace;background-color: #f0f8ff;border: 1px dotted black;border-radius: 0.25em;box-sizing: border-box;margin-bottom: 0.5em;}#sk-container-id-5 div.sk-estimator:hover {background-color: #d4ebff;}#sk-container-id-5 div.sk-parallel-item::after {content: \"\";width: 100%;border-bottom: 1px solid gray;flex-grow: 1;}#sk-container-id-5 div.sk-label:hover label.sk-toggleable__label {background-color: #d4ebff;}#sk-container-id-5 div.sk-serial::before {content: \"\";position: absolute;border-left: 1px solid gray;box-sizing: border-box;top: 0;bottom: 0;left: 50%;z-index: 0;}#sk-container-id-5 div.sk-serial {display: flex;flex-direction: column;align-items: center;background-color: white;padding-right: 0.2em;padding-left: 0.2em;position: relative;}#sk-container-id-5 div.sk-item {position: relative;z-index: 1;}#sk-container-id-5 div.sk-parallel {display: flex;align-items: stretch;justify-content: center;background-color: white;position: relative;}#sk-container-id-5 div.sk-item::before, #sk-container-id-5 div.sk-parallel-item::before {content: \"\";position: absolute;border-left: 1px solid gray;box-sizing: border-box;top: 0;bottom: 0;left: 50%;z-index: -1;}#sk-container-id-5 div.sk-parallel-item {display: flex;flex-direction: column;z-index: 1;position: relative;background-color: white;}#sk-container-id-5 div.sk-parallel-item:first-child::after {align-self: flex-end;width: 50%;}#sk-container-id-5 div.sk-parallel-item:last-child::after {align-self: flex-start;width: 50%;}#sk-container-id-5 div.sk-parallel-item:only-child::after {width: 0;}#sk-container-id-5 div.sk-dashed-wrapped {border: 1px dashed gray;margin: 0 0.4em 0.5em 0.4em;box-sizing: border-box;padding-bottom: 0.4em;background-color: white;}#sk-container-id-5 div.sk-label label {font-family: monospace;font-weight: bold;display: inline-block;line-height: 1.2em;}#sk-container-id-5 div.sk-label-container {text-align: center;}#sk-container-id-5 div.sk-container {/* jupyter's `normalize.less` sets `[hidden] { display: none; }` but bootstrap.min.css set `[hidden] { display: none !important; }` so we also need the `!important` here to be able to override the default hidden behavior on the sphinx rendered scikit-learn.org. See: https://github.com/scikit-learn/scikit-learn/issues/21755 */display: inline-block !important;position: relative;}#sk-container-id-5 div.sk-text-repr-fallback {display: none;}</style><div id=\"sk-container-id-5\" class=\"sk-top-container\"><div class=\"sk-text-repr-fallback\"><pre>Pipeline(steps=[(&#x27;pre&#x27;,\n",
              "                 ColumnTransformer(transformers=[(&#x27;num&#x27;,\n",
              "                                                  Pipeline(steps=[(&#x27;imputer&#x27;,\n",
              "                                                                   SimpleImputer()),\n",
              "                                                                  (&#x27;Scaler&#x27;,\n",
              "                                                                   StandardScaler())]),\n",
              "                                                  Index([&#x27;age&#x27;], dtype=&#x27;object&#x27;)),\n",
              "                                                 (&#x27;cat&#x27;,\n",
              "                                                  OneHotEncoder(handle_unknown=&#x27;ignore&#x27;),\n",
              "                                                  Index([&#x27;gender&#x27;, &#x27;device_type&#x27;, &#x27;ad_position&#x27;, &#x27;browsing_history&#x27;,\n",
              "       &#x27;time_of_day&#x27;],\n",
              "      dtype=&#x27;object&#x27;))])),\n",
              "                (&#x27;clf&#x27;, DecisionTreeClassifier(max_depth=5))])</pre><b>In a Jupyter environment, please rerun this cell to show the HTML representation or trust the notebook. <br />On GitHub, the HTML representation is unable to render, please try loading this page with nbviewer.org.</b></div><div class=\"sk-container\" hidden><div class=\"sk-item sk-dashed-wrapped\"><div class=\"sk-label-container\"><div class=\"sk-label sk-toggleable\"><input class=\"sk-toggleable__control sk-hidden--visually\" id=\"sk-estimator-id-33\" type=\"checkbox\" ><label for=\"sk-estimator-id-33\" class=\"sk-toggleable__label sk-toggleable__label-arrow\">Pipeline</label><div class=\"sk-toggleable__content\"><pre>Pipeline(steps=[(&#x27;pre&#x27;,\n",
              "                 ColumnTransformer(transformers=[(&#x27;num&#x27;,\n",
              "                                                  Pipeline(steps=[(&#x27;imputer&#x27;,\n",
              "                                                                   SimpleImputer()),\n",
              "                                                                  (&#x27;Scaler&#x27;,\n",
              "                                                                   StandardScaler())]),\n",
              "                                                  Index([&#x27;age&#x27;], dtype=&#x27;object&#x27;)),\n",
              "                                                 (&#x27;cat&#x27;,\n",
              "                                                  OneHotEncoder(handle_unknown=&#x27;ignore&#x27;),\n",
              "                                                  Index([&#x27;gender&#x27;, &#x27;device_type&#x27;, &#x27;ad_position&#x27;, &#x27;browsing_history&#x27;,\n",
              "       &#x27;time_of_day&#x27;],\n",
              "      dtype=&#x27;object&#x27;))])),\n",
              "                (&#x27;clf&#x27;, DecisionTreeClassifier(max_depth=5))])</pre></div></div></div><div class=\"sk-serial\"><div class=\"sk-item sk-dashed-wrapped\"><div class=\"sk-label-container\"><div class=\"sk-label sk-toggleable\"><input class=\"sk-toggleable__control sk-hidden--visually\" id=\"sk-estimator-id-34\" type=\"checkbox\" ><label for=\"sk-estimator-id-34\" class=\"sk-toggleable__label sk-toggleable__label-arrow\">pre: ColumnTransformer</label><div class=\"sk-toggleable__content\"><pre>ColumnTransformer(transformers=[(&#x27;num&#x27;,\n",
              "                                 Pipeline(steps=[(&#x27;imputer&#x27;, SimpleImputer()),\n",
              "                                                 (&#x27;Scaler&#x27;, StandardScaler())]),\n",
              "                                 Index([&#x27;age&#x27;], dtype=&#x27;object&#x27;)),\n",
              "                                (&#x27;cat&#x27;, OneHotEncoder(handle_unknown=&#x27;ignore&#x27;),\n",
              "                                 Index([&#x27;gender&#x27;, &#x27;device_type&#x27;, &#x27;ad_position&#x27;, &#x27;browsing_history&#x27;,\n",
              "       &#x27;time_of_day&#x27;],\n",
              "      dtype=&#x27;object&#x27;))])</pre></div></div></div><div class=\"sk-parallel\"><div class=\"sk-parallel-item\"><div class=\"sk-item\"><div class=\"sk-label-container\"><div class=\"sk-label sk-toggleable\"><input class=\"sk-toggleable__control sk-hidden--visually\" id=\"sk-estimator-id-35\" type=\"checkbox\" ><label for=\"sk-estimator-id-35\" class=\"sk-toggleable__label sk-toggleable__label-arrow\">num</label><div class=\"sk-toggleable__content\"><pre>Index([&#x27;age&#x27;], dtype=&#x27;object&#x27;)</pre></div></div></div><div class=\"sk-serial\"><div class=\"sk-item\"><div class=\"sk-serial\"><div class=\"sk-item\"><div class=\"sk-estimator sk-toggleable\"><input class=\"sk-toggleable__control sk-hidden--visually\" id=\"sk-estimator-id-36\" type=\"checkbox\" ><label for=\"sk-estimator-id-36\" class=\"sk-toggleable__label sk-toggleable__label-arrow\">SimpleImputer</label><div class=\"sk-toggleable__content\"><pre>SimpleImputer()</pre></div></div></div><div class=\"sk-item\"><div class=\"sk-estimator sk-toggleable\"><input class=\"sk-toggleable__control sk-hidden--visually\" id=\"sk-estimator-id-37\" type=\"checkbox\" ><label for=\"sk-estimator-id-37\" class=\"sk-toggleable__label sk-toggleable__label-arrow\">StandardScaler</label><div class=\"sk-toggleable__content\"><pre>StandardScaler()</pre></div></div></div></div></div></div></div></div><div class=\"sk-parallel-item\"><div class=\"sk-item\"><div class=\"sk-label-container\"><div class=\"sk-label sk-toggleable\"><input class=\"sk-toggleable__control sk-hidden--visually\" id=\"sk-estimator-id-38\" type=\"checkbox\" ><label for=\"sk-estimator-id-38\" class=\"sk-toggleable__label sk-toggleable__label-arrow\">cat</label><div class=\"sk-toggleable__content\"><pre>Index([&#x27;gender&#x27;, &#x27;device_type&#x27;, &#x27;ad_position&#x27;, &#x27;browsing_history&#x27;,\n",
              "       &#x27;time_of_day&#x27;],\n",
              "      dtype=&#x27;object&#x27;)</pre></div></div></div><div class=\"sk-serial\"><div class=\"sk-item\"><div class=\"sk-estimator sk-toggleable\"><input class=\"sk-toggleable__control sk-hidden--visually\" id=\"sk-estimator-id-39\" type=\"checkbox\" ><label for=\"sk-estimator-id-39\" class=\"sk-toggleable__label sk-toggleable__label-arrow\">OneHotEncoder</label><div class=\"sk-toggleable__content\"><pre>OneHotEncoder(handle_unknown=&#x27;ignore&#x27;)</pre></div></div></div></div></div></div></div></div><div class=\"sk-item\"><div class=\"sk-estimator sk-toggleable\"><input class=\"sk-toggleable__control sk-hidden--visually\" id=\"sk-estimator-id-40\" type=\"checkbox\" ><label for=\"sk-estimator-id-40\" class=\"sk-toggleable__label sk-toggleable__label-arrow\">DecisionTreeClassifier</label><div class=\"sk-toggleable__content\"><pre>DecisionTreeClassifier(max_depth=5)</pre></div></div></div></div></div></div></div>"
            ]
          },
          "metadata": {},
          "execution_count": 89
        }
      ]
    },
    {
      "cell_type": "code",
      "source": [
        "predictions = pipeline.predict( X_test )"
      ],
      "metadata": {
        "id": "0jdQ540Cpyy4"
      },
      "execution_count": 98,
      "outputs": []
    },
    {
      "cell_type": "code",
      "source": [
        "cm = confusion_matrix(y_test, predictions)"
      ],
      "metadata": {
        "id": "s-f6uoMfp-F3"
      },
      "execution_count": 99,
      "outputs": []
    },
    {
      "cell_type": "code",
      "source": [
        "cm"
      ],
      "metadata": {
        "colab": {
          "base_uri": "https://localhost:8080/"
        },
        "id": "cBUZ4HxQqc-i",
        "outputId": "29e7d31d-3238-4923-dc0f-7cbc7301c3db"
      },
      "execution_count": 100,
      "outputs": [
        {
          "output_type": "execute_result",
          "data": {
            "text/plain": [
              "array([[  24,  666],\n",
              "       [   3, 1307]])"
            ]
          },
          "metadata": {},
          "execution_count": 100
        }
      ]
    },
    {
      "cell_type": "code",
      "source": [
        "plot_tree( pipeline.named_steps['clf'])"
      ],
      "metadata": {
        "colab": {
          "base_uri": "https://localhost:8080/",
          "height": 1000
        },
        "id": "b9ZugJjMqeDP",
        "outputId": "66116a17-4b45-4d47-812e-7309454f1dae"
      },
      "execution_count": 93,
      "outputs": [
        {
          "output_type": "execute_result",
          "data": {
            "text/plain": [
              "[Text(0.41369047619047616, 0.9166666666666666, 'x[0] <= -2.294\\ngini = 0.456\\nsamples = 8000\\nvalue = [2810, 5190]'),\n",
              " Text(0.13095238095238096, 0.75, 'x[7] <= 0.5\\ngini = 0.278\\nsamples = 42\\nvalue = [35, 7]'),\n",
              " Text(0.047619047619047616, 0.5833333333333334, 'x[9] <= 0.5\\ngini = 0.069\\nsamples = 28\\nvalue = [27, 1]'),\n",
              " Text(0.023809523809523808, 0.4166666666666667, 'gini = 0.0\\nsamples = 22\\nvalue = [22, 0]'),\n",
              " Text(0.07142857142857142, 0.4166666666666667, 'x[18] <= 0.5\\ngini = 0.278\\nsamples = 6\\nvalue = [5, 1]'),\n",
              " Text(0.047619047619047616, 0.25, 'gini = 0.0\\nsamples = 4\\nvalue = [4, 0]'),\n",
              " Text(0.09523809523809523, 0.25, 'x[2] <= 0.5\\ngini = 0.5\\nsamples = 2\\nvalue = [1, 1]'),\n",
              " Text(0.07142857142857142, 0.08333333333333333, 'gini = 0.0\\nsamples = 1\\nvalue = [0, 1]'),\n",
              " Text(0.11904761904761904, 0.08333333333333333, 'gini = 0.0\\nsamples = 1\\nvalue = [1, 0]'),\n",
              " Text(0.21428571428571427, 0.5833333333333334, 'x[4] <= 0.5\\ngini = 0.49\\nsamples = 14\\nvalue = [8, 6]'),\n",
              " Text(0.16666666666666666, 0.4166666666666667, 'x[10] <= 0.5\\ngini = 0.408\\nsamples = 7\\nvalue = [2, 5]'),\n",
              " Text(0.14285714285714285, 0.25, 'gini = 0.0\\nsamples = 5\\nvalue = [0, 5]'),\n",
              " Text(0.19047619047619047, 0.25, 'gini = 0.0\\nsamples = 2\\nvalue = [2, 0]'),\n",
              " Text(0.2619047619047619, 0.4166666666666667, 'x[22] <= 0.5\\ngini = 0.245\\nsamples = 7\\nvalue = [6, 1]'),\n",
              " Text(0.23809523809523808, 0.25, 'gini = 0.0\\nsamples = 5\\nvalue = [5, 0]'),\n",
              " Text(0.2857142857142857, 0.25, 'x[11] <= 0.5\\ngini = 0.5\\nsamples = 2\\nvalue = [1, 1]'),\n",
              " Text(0.2619047619047619, 0.08333333333333333, 'gini = 0.0\\nsamples = 1\\nvalue = [0, 1]'),\n",
              " Text(0.30952380952380953, 0.08333333333333333, 'gini = 0.0\\nsamples = 1\\nvalue = [1, 0]'),\n",
              " Text(0.6964285714285714, 0.75, 'x[0] <= 0.666\\ngini = 0.454\\nsamples = 7958\\nvalue = [2775, 5183]'),\n",
              " Text(0.5238095238095238, 0.5833333333333334, 'x[15] <= 0.5\\ngini = 0.444\\nsamples = 6548\\nvalue = [2174, 4374]'),\n",
              " Text(0.42857142857142855, 0.4166666666666667, 'x[9] <= 0.5\\ngini = 0.438\\nsamples = 5925\\nvalue = [1923, 4002]'),\n",
              " Text(0.38095238095238093, 0.25, 'x[0] <= -1.977\\ngini = 0.448\\nsamples = 4251\\nvalue = [1443, 2808]'),\n",
              " Text(0.35714285714285715, 0.08333333333333333, 'gini = 0.345\\nsamples = 235\\nvalue = [52, 183]'),\n",
              " Text(0.40476190476190477, 0.08333333333333333, 'gini = 0.453\\nsamples = 4016\\nvalue = [1391, 2625]'),\n",
              " Text(0.47619047619047616, 0.25, 'x[0] <= 0.138\\ngini = 0.409\\nsamples = 1674\\nvalue = [480, 1194]'),\n",
              " Text(0.4523809523809524, 0.08333333333333333, 'gini = 0.403\\nsamples = 1581\\nvalue = [443, 1138]'),\n",
              " Text(0.5, 0.08333333333333333, 'gini = 0.479\\nsamples = 93\\nvalue = [37, 56]'),\n",
              " Text(0.6190476190476191, 0.4166666666666667, 'x[0] <= -1.871\\ngini = 0.481\\nsamples = 623\\nvalue = [251, 372]'),\n",
              " Text(0.5714285714285714, 0.25, 'x[11] <= 0.5\\ngini = 0.272\\nsamples = 37\\nvalue = [6, 31]'),\n",
              " Text(0.5476190476190477, 0.08333333333333333, 'gini = 0.161\\nsamples = 34\\nvalue = [3, 31]'),\n",
              " Text(0.5952380952380952, 0.08333333333333333, 'gini = 0.0\\nsamples = 3\\nvalue = [3, 0]'),\n",
              " Text(0.6666666666666666, 0.25, 'x[0] <= -1.554\\ngini = 0.487\\nsamples = 586\\nvalue = [245, 341]'),\n",
              " Text(0.6428571428571429, 0.08333333333333333, 'gini = 0.0\\nsamples = 14\\nvalue = [14, 0]'),\n",
              " Text(0.6904761904761905, 0.08333333333333333, 'gini = 0.482\\nsamples = 572\\nvalue = [231, 341]'),\n",
              " Text(0.8690476190476191, 0.5833333333333334, 'x[0] <= 2.463\\ngini = 0.489\\nsamples = 1410\\nvalue = [601, 809]'),\n",
              " Text(0.8095238095238095, 0.4166666666666667, 'x[0] <= 1.195\\ngini = 0.485\\nsamples = 1366\\nvalue = [565, 801]'),\n",
              " Text(0.7619047619047619, 0.25, 'x[14] <= 0.5\\ngini = 0.5\\nsamples = 316\\nvalue = [162, 154]'),\n",
              " Text(0.7380952380952381, 0.08333333333333333, 'gini = 0.499\\nsamples = 294\\nvalue = [142, 152]'),\n",
              " Text(0.7857142857142857, 0.08333333333333333, 'gini = 0.165\\nsamples = 22\\nvalue = [20, 2]'),\n",
              " Text(0.8571428571428571, 0.25, 'x[6] <= 0.5\\ngini = 0.473\\nsamples = 1050\\nvalue = [403, 647]'),\n",
              " Text(0.8333333333333334, 0.08333333333333333, 'gini = 0.462\\nsamples = 810\\nvalue = [293, 517]'),\n",
              " Text(0.8809523809523809, 0.08333333333333333, 'gini = 0.497\\nsamples = 240\\nvalue = [110, 130]'),\n",
              " Text(0.9285714285714286, 0.4166666666666667, 'x[19] <= 0.5\\ngini = 0.298\\nsamples = 44\\nvalue = [36, 8]'),\n",
              " Text(0.9047619047619048, 0.25, 'gini = 0.0\\nsamples = 30\\nvalue = [30, 0]'),\n",
              " Text(0.9523809523809523, 0.25, 'x[4] <= 0.5\\ngini = 0.49\\nsamples = 14\\nvalue = [6, 8]'),\n",
              " Text(0.9285714285714286, 0.08333333333333333, 'gini = 0.0\\nsamples = 4\\nvalue = [4, 0]'),\n",
              " Text(0.9761904761904762, 0.08333333333333333, 'gini = 0.32\\nsamples = 10\\nvalue = [2, 8]')]"
            ]
          },
          "metadata": {},
          "execution_count": 93
        },
        {
          "output_type": "display_data",
          "data": {
            "text/plain": [
              "<Figure size 640x480 with 1 Axes>"
            ],
            "image/png": "[encoded data removed]"
          },
          "metadata": {}
        }
      ]
    },
    {
      "cell_type": "code",
      "source": [],
      "metadata": {
        "id": "yyLxphaLquWa"
      },
      "execution_count": 93,
      "outputs": []
    }
  ]
}