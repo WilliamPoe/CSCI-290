{
  "nbformat": 4,
  "nbformat_minor": 0,
  "metadata": {
    "colab": {
      "provenance": [],
      "authorship_tag": "ABX9TyNHyyn5t6+isTcJDF5E2fZv",
      "include_colab_link": true
    },
    "kernelspec": {
      "name": "python3",
      "display_name": "Python 3"
    },
    "language_info": {
      "name": "python"
    }
  },
  "cells": [
    {
      "cell_type": "markdown",
      "metadata": {
        "id": "view-in-github",
        "colab_type": "text"
      },
      "source": [
        "<a href=\"https://colab.research.google.com/github/WilliamPoe/CSCI-290/blob/main/notebooks/Naive_Bayes_Classifier.ipynb\" target=\"_parent\"><img src=\"https://colab.research.google.com/assets/colab-badge.svg\" alt=\"Open In Colab\"/></a>"
      ]
    },
    {
      "cell_type": "code",
      "execution_count": 7,
      "metadata": {
        "id": "yIWB3Grgpsce"
      },
      "outputs": [],
      "source": [
        "import pandas as pd\n",
        "import math\n",
        "from scipy.stats import norm\n"
      ]
    },
    {
      "cell_type": "code",
      "source": [
        "def Naive_Bayes_Classifier(X, y, instance, numerical, categorical):\n",
        "\n",
        "  priors = {}\n",
        "  likelihoods = {}\n",
        "\n",
        "\n",
        "  for clss in X[y].unique():\n",
        "    data = X[X[y] == clss]\n",
        "    priors[clss] = len(data) / len(X)\n",
        "    likelihoods[clss] = {}\n",
        "    # Gets likelihoods for categorical features\n",
        "    for cat in categorical:\n",
        "      likelihoods[clss][cat] = data[cat].value_counts(normalize=True).to_dict()\n",
        "    # Gets likelihoods for numerical features\n",
        "    for num in numerical:\n",
        "      likelihoods[clss][num] = norm( loc=data[num].mean(), scale = data[num].std())\n",
        "\n",
        "    posterior = {}\n",
        "\n",
        "    for clss in priors:\n",
        "      post = priors[clss]\n",
        "      # Categorical features\n",
        "      for cat in categorical:\n",
        "        if cat in instance:\n",
        "          if instance[cat] in likelihoods[clss][cat]:\n",
        "            post *= likelihoods[clss][cat][instance[cat]]\n",
        "          else:\n",
        "            post *= 0\n",
        "        else:\n",
        "          pass\n",
        "      # Numerical features\n",
        "      for num in numerical:\n",
        "        post *= likelihoods[clss][num].pdf(instance[num])\n",
        "\n",
        "      posterior[clss] = post\n",
        "\n",
        "    return max(posterior, key=posterior.get)"
      ],
      "metadata": {
        "id": "LNtgTf5ap9bi"
      },
      "execution_count": 30,
      "outputs": []
    },
    {
      "cell_type": "code",
      "source": [
        "# Dataset\n",
        "df = pd.read_csv(\"https://github.com/WilliamPoe/CSCI-290/raw/main/Data/ad_click_dataset.csv\")\n",
        "df.head()\n",
        "# Tagret column in the dataset\n",
        "target = \"ad_position\"\n",
        "# Unseen Instance\n",
        "instance = {'age': 44.0, 'device_type': 'Desktop', 'browsing_history': 'Shopping', 'gender': 'Male'}\n",
        "# Numerical features\n",
        "numerical = []\n",
        "# Categorical features\n",
        "categorical = []\n",
        "\n",
        "## Remove [2:-1] if you want to test on all columns ##\n",
        "for attrib in df.columns[2:-1]:\n",
        "  if df[attrib].dtype in ['float64', 'int64']:\n",
        "    # Considers the column numerical if there are more than 10 unique values\n",
        "    if len( df[attrib].unique() ) > 10:\n",
        "      numerical.append(attrib)\n",
        "  else:\n",
        "    categorical.append(attrib)\n",
        "\n",
        "Naive_Bayes_Classifier(df, target, instance, numerical, categorical)\n"
      ],
      "metadata": {
        "colab": {
          "base_uri": "https://localhost:8080/",
          "height": 35
        },
        "id": "i3aJFQjeqIgE",
        "outputId": "14968122-c7ce-4b41-82cd-64df773c45e1"
      },
      "execution_count": 31,
      "outputs": [
        {
          "output_type": "execute_result",
          "data": {
            "text/plain": [
              "'Top'"
            ],
            "application/vnd.google.colaboratory.intrinsic+json": {
              "type": "string"
            }
          },
          "metadata": {},
          "execution_count": 31
        }
      ]
    },
    {
      "cell_type": "code",
      "source": [
        "df.columns"
      ],
      "metadata": {
        "colab": {
          "base_uri": "https://localhost:8080/"
        },
        "id": "NRGkIQllPxoZ",
        "outputId": "6038d4f6-ee7c-453f-e5eb-70c2401036f8"
      },
      "execution_count": 32,
      "outputs": [
        {
          "output_type": "execute_result",
          "data": {
            "text/plain": [
              "Index(['id', 'full_name', 'age', 'gender', 'device_type', 'ad_position',\n",
              "       'browsing_history', 'time_of_day', 'click'],\n",
              "      dtype='object')"
            ]
          },
          "metadata": {},
          "execution_count": 32
        }
      ]
    },
    {
      "cell_type": "code",
      "source": [],
      "metadata": {
        "id": "7-XPtc0TWx8S"
      },
      "execution_count": null,
      "outputs": []
    }
  ]
}