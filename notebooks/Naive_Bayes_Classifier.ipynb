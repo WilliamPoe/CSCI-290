{
  "nbformat": 4,
  "nbformat_minor": 0,
  "metadata": {
    "colab": {
      "provenance": [],
      "authorship_tag": "ABX9TyPeQmzhfRKdE5Dw4j1X6Wor",
      "include_colab_link": true
    },
    "kernelspec": {
      "name": "python3",
      "display_name": "Python 3"
    },
    "language_info": {
      "name": "python"
    }
  },
  "cells": [
    {
      "cell_type": "markdown",
      "metadata": {
        "id": "view-in-github",
        "colab_type": "text"
      },
      "source": [
        "<a href=\"https://colab.research.google.com/github/WilliamPoe/CSCI-290/blob/main/notebooks/Naive_Bayes_Classifier.ipynb\" target=\"_parent\"><img src=\"https://colab.research.google.com/assets/colab-badge.svg\" alt=\"Open In Colab\"/></a>"
      ]
    },
    {
      "cell_type": "code",
      "execution_count": 7,
      "metadata": {
        "id": "yIWB3Grgpsce"
      },
      "outputs": [],
      "source": [
        "import pandas as pd\n",
        "import math\n",
        "from scipy.stats import norm\n"
      ]
    },
    {
      "cell_type": "code",
      "source": [
        "def Naive_Bayes_Classifier(X, y, instance, numerical, categorical):\n",
        "\n",
        "  priors = {}\n",
        "  likelihoods = {}\n",
        "\n",
        "\n",
        "  for clss in X[y].unique():\n",
        "    data = X[X[y] == clss]\n",
        "    priors[clss] = len(data) / len(X)\n",
        "    likelihoods[clss] = {}\n",
        "\n",
        "    for cat in categorical:\n",
        "      likelihoods[clss][cat] = data[cat].value_counts(normalize=True).to_dict()\n",
        "    for num in numerical:\n",
        "      likelihoods[clss][num] = norm( loc=data[num].mean(), scale = data[num].std())\n",
        "\n",
        "    posterior = {}\n",
        "\n",
        "    for clss in priors:\n",
        "      post = priors[clss]\n",
        "      for cat in categorical:\n",
        "        if cat in instance:\n",
        "          if instance[cat] in likelihoods[clss][cat]:\n",
        "            post *= likelihoods[clss][cat][instance[cat]]\n",
        "          else:\n",
        "            post *= 0\n",
        "        else:\n",
        "          pass\n",
        "\n",
        "      for num in numerical:\n",
        "        post *= likelihoods[clss][num].pdf(instance[num])\n",
        "\n",
        "      posterior[clss] = post\n",
        "\n",
        "    return max(posterior, key=posterior.get)\n",
        "\n",
        "\n",
        "\n",
        "\n",
        "# Doesn't work because data might not always be int or float and could be a string\n",
        "# Likelihoods = norm(loc=X[col].mean(), scale = X[col].std())\n",
        "\n",
        ""
      ],
      "metadata": {
        "id": "LNtgTf5ap9bi"
      },
      "execution_count": 26,
      "outputs": []
    },
    {
      "cell_type": "code",
      "source": [
        "# Dataset\n",
        "df = pd.read_csv(\"https://github.com/WilliamPoe/CSCI-290/raw/main/Data/ad_click_dataset.csv\")\n",
        "df.head()\n",
        "# Tagret column in the dataset\n",
        "target = \"ad_position\"\n",
        "# Unseen Instance\n",
        "instance = {'age': 44.0, 'device_type': 'Desktop', 'browsing_history': 'Shopping', 'gender': 'Male'}\n",
        "\n",
        "numerical = []\n",
        "categorical = []\n",
        "\n",
        "for attrib in df.columns[2:-1]:\n",
        "  if df[attrib].dtype in ['float64', 'int64']:\n",
        "    numerical.append(attrib)\n",
        "  else:\n",
        "    categorical.append(attrib)\n",
        "\n",
        "Naive_Bayes_Classifier(df, target, instance, numerical, categorical)\n"
      ],
      "metadata": {
        "colab": {
          "base_uri": "https://localhost:8080/",
          "height": 35
        },
        "id": "i3aJFQjeqIgE",
        "outputId": "dd5a9f75-d7c0-45f7-bef9-22e22ec43a50"
      },
      "execution_count": 25,
      "outputs": [
        {
          "output_type": "execute_result",
          "data": {
            "text/plain": [
              "'Top'"
            ],
            "application/vnd.google.colaboratory.intrinsic+json": {
              "type": "string"
            }
          },
          "metadata": {},
          "execution_count": 25
        }
      ]
    },
    {
      "cell_type": "code",
      "source": [],
      "metadata": {
        "id": "NRGkIQllPxoZ"
      },
      "execution_count": null,
      "outputs": []
    }
  ]
}