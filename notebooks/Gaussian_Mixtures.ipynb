{
  "nbformat": 4,
  "nbformat_minor": 0,
  "metadata": {
    "colab": {
      "provenance": [],
      "authorship_tag": "ABX9TyPEHYN99/SS6jfcSg/v0Bvq",
      "include_colab_link": true
    },
    "kernelspec": {
      "name": "python3",
      "display_name": "Python 3"
    },
    "language_info": {
      "name": "python"
    }
  },
  "cells": [
    {
      "cell_type": "markdown",
      "metadata": {
        "id": "view-in-github",
        "colab_type": "text"
      },
      "source": [
        "<a href=\"https://colab.research.google.com/github/WilliamPoe/CSCI-290/blob/main/notebooks/Gaussian_Mixtures.ipynb\" target=\"_parent\"><img src=\"https://colab.research.google.com/assets/colab-badge.svg\" alt=\"Open In Colab\"/></a>"
      ]
    },
    {
      "cell_type": "code",
      "execution_count": 1,
      "metadata": {
        "id": "1UzisaMt6GKe"
      },
      "outputs": [],
      "source": [
        "from sklearn.mixture import GaussianMixture\n",
        "import pandas as pd\n",
        "import numpy as np\n",
        "import matplotlib.pyplot as plt\n",
        "from matplotlib.colors import LogNorm\n",
        "from sklearn.metrics import confusion_matrix, ConfusionMatrixDisplay, accuracy_score"
      ]
    },
    {
      "cell_type": "markdown",
      "source": [
        "# Datasets"
      ],
      "metadata": {
        "id": "PWkH4ItP4L3p"
      }
    },
    {
      "cell_type": "code",
      "source": [
        "df_penguin = pd.read_csv('https://github.com/WilliamPoe/CSCI-290/raw/refs/heads/main/Data/penguins.csv') # Penguins dataset\n",
        "df_iris = pd.read_csv('https://github.com/WilliamPoe/CSCI-290/raw/refs/heads/main/Data/Iris.csv') # Iris dataset\n",
        "\n",
        "df_penguin = numeric_df = df_penguin.dropna()\n"
      ],
      "metadata": {
        "id": "tzn71n5u6W5n"
      },
      "execution_count": 2,
      "outputs": []
    },
    {
      "cell_type": "code",
      "source": [
        "df_penguin.head()"
      ],
      "metadata": {
        "colab": {
          "base_uri": "https://localhost:8080/",
          "height": 206
        },
        "id": "_axoAtXDESWU",
        "outputId": "b4bd5343-07fe-431f-e46c-f39365eb5cb4"
      },
      "execution_count": 3,
      "outputs": [
        {
          "output_type": "execute_result",
          "data": {
            "text/plain": [
              "  species     island  bill_length_mm  bill_depth_mm  flipper_length_mm  \\\n",
              "0  Adelie  Torgersen            39.1           18.7              181.0   \n",
              "1  Adelie  Torgersen            39.5           17.4              186.0   \n",
              "2  Adelie  Torgersen            40.3           18.0              195.0   \n",
              "4  Adelie  Torgersen            36.7           19.3              193.0   \n",
              "5  Adelie  Torgersen            39.3           20.6              190.0   \n",
              "\n",
              "   body_mass_g     sex  year  \n",
              "0       3750.0    male  2007  \n",
              "1       3800.0  female  2007  \n",
              "2       3250.0  female  2007  \n",
              "4       3450.0  female  2007  \n",
              "5       3650.0    male  2007  "
            ],
            "text/html": [
              "\n",
              "  <div id=\"df-47195a95-744a-47bd-a065-b3d3fc3d6a7d\" class=\"colab-df-container\">\n",
              "    <div>\n",
              "<style scoped>\n",
              "    .dataframe tbody tr th:only-of-type {\n",
              "        vertical-align: middle;\n",
              "    }\n",
              "\n",
              "    .dataframe tbody tr th {\n",
              "        vertical-align: top;\n",
              "    }\n",
              "\n",
              "    .dataframe thead th {\n",
              "        text-align: right;\n",
              "    }\n",
              "</style>\n",
              "<table border=\"1\" class=\"dataframe\">\n",
              "  <thead>\n",
              "    <tr style=\"text-align: right;\">\n",
              "      <th></th>\n",
              "      <th>species</th>\n",
              "      <th>island</th>\n",
              "      <th>bill_length_mm</th>\n",
              "      <th>bill_depth_mm</th>\n",
              "      <th>flipper_length_mm</th>\n",
              "      <th>body_mass_g</th>\n",
              "      <th>sex</th>\n",
              "      <th>year</th>\n",
              "    </tr>\n",
              "  </thead>\n",
              "  <tbody>\n",
              "    <tr>\n",
              "      <th>0</th>\n",
              "      <td>Adelie</td>\n",
              "      <td>Torgersen</td>\n",
              "      <td>39.1</td>\n",
              "      <td>18.7</td>\n",
              "      <td>181.0</td>\n",
              "      <td>3750.0</td>\n",
              "      <td>male</td>\n",
              "      <td>2007</td>\n",
              "    </tr>\n",
              "    <tr>\n",
              "      <th>1</th>\n",
              "      <td>Adelie</td>\n",
              "      <td>Torgersen</td>\n",
              "      <td>39.5</td>\n",
              "      <td>17.4</td>\n",
              "      <td>186.0</td>\n",
              "      <td>3800.0</td>\n",
              "      <td>female</td>\n",
              "      <td>2007</td>\n",
              "    </tr>\n",
              "    <tr>\n",
              "      <th>2</th>\n",
              "      <td>Adelie</td>\n",
              "      <td>Torgersen</td>\n",
              "      <td>40.3</td>\n",
              "      <td>18.0</td>\n",
              "      <td>195.0</td>\n",
              "      <td>3250.0</td>\n",
              "      <td>female</td>\n",
              "      <td>2007</td>\n",
              "    </tr>\n",
              "    <tr>\n",
              "      <th>4</th>\n",
              "      <td>Adelie</td>\n",
              "      <td>Torgersen</td>\n",
              "      <td>36.7</td>\n",
              "      <td>19.3</td>\n",
              "      <td>193.0</td>\n",
              "      <td>3450.0</td>\n",
              "      <td>female</td>\n",
              "      <td>2007</td>\n",
              "    </tr>\n",
              "    <tr>\n",
              "      <th>5</th>\n",
              "      <td>Adelie</td>\n",
              "      <td>Torgersen</td>\n",
              "      <td>39.3</td>\n",
              "      <td>20.6</td>\n",
              "      <td>190.0</td>\n",
              "      <td>3650.0</td>\n",
              "      <td>male</td>\n",
              "      <td>2007</td>\n",
              "    </tr>\n",
              "  </tbody>\n",
              "</table>\n",
              "</div>\n",
              "    <div class=\"colab-df-buttons\">\n",
              "\n",
              "  <div class=\"colab-df-container\">\n",
              "    <button class=\"colab-df-convert\" onclick=\"convertToInteractive('df-47195a95-744a-47bd-a065-b3d3fc3d6a7d')\"\n",
              "            title=\"Convert this dataframe to an interactive table.\"\n",
              "            style=\"display:none;\">\n",
              "\n",
              "  <svg xmlns=\"http://www.w3.org/2000/svg\" height=\"24px\" viewBox=\"0 -960 960 960\">\n",
              "    <path d=\"M120-120v-720h720v720H120Zm60-500h600v-160H180v160Zm220 220h160v-160H400v160Zm0 220h160v-160H400v160ZM180-400h160v-160H180v160Zm440 0h160v-160H620v160ZM180-180h160v-160H180v160Zm440 0h160v-160H620v160Z\"/>\n",
              "  </svg>\n",
              "    </button>\n",
              "\n",
              "  <style>\n",
              "    .colab-df-container {\n",
              "      display:flex;\n",
              "      gap: 12px;\n",
              "    }\n",
              "\n",
              "    .colab-df-convert {\n",
              "      background-color: #E8F0FE;\n",
              "      border: none;\n",
              "      border-radius: 50%;\n",
              "      cursor: pointer;\n",
              "      display: none;\n",
              "      fill: #1967D2;\n",
              "      height: 32px;\n",
              "      padding: 0 0 0 0;\n",
              "      width: 32px;\n",
              "    }\n",
              "\n",
              "    .colab-df-convert:hover {\n",
              "      background-color: #E2EBFA;\n",
              "      box-shadow: 0px 1px 2px rgba(60, 64, 67, 0.3), 0px 1px 3px 1px rgba(60, 64, 67, 0.15);\n",
              "      fill: #174EA6;\n",
              "    }\n",
              "\n",
              "    .colab-df-buttons div {\n",
              "      margin-bottom: 4px;\n",
              "    }\n",
              "\n",
              "    [theme=dark] .colab-df-convert {\n",
              "      background-color: #3B4455;\n",
              "      fill: #D2E3FC;\n",
              "    }\n",
              "\n",
              "    [theme=dark] .colab-df-convert:hover {\n",
              "      background-color: #434B5C;\n",
              "      box-shadow: 0px 1px 3px 1px rgba(0, 0, 0, 0.15);\n",
              "      filter: drop-shadow(0px 1px 2px rgba(0, 0, 0, 0.3));\n",
              "      fill: #FFFFFF;\n",
              "    }\n",
              "  </style>\n",
              "\n",
              "    <script>\n",
              "      const buttonEl =\n",
              "        document.querySelector('#df-47195a95-744a-47bd-a065-b3d3fc3d6a7d button.colab-df-convert');\n",
              "      buttonEl.style.display =\n",
              "        google.colab.kernel.accessAllowed ? 'block' : 'none';\n",
              "\n",
              "      async function convertToInteractive(key) {\n",
              "        const element = document.querySelector('#df-47195a95-744a-47bd-a065-b3d3fc3d6a7d');\n",
              "        const dataTable =\n",
              "          await google.colab.kernel.invokeFunction('convertToInteractive',\n",
              "                                                    [key], {});\n",
              "        if (!dataTable) return;\n",
              "\n",
              "        const docLinkHtml = 'Like what you see? Visit the ' +\n",
              "          '<a target=\"_blank\" href=https://colab.research.google.com/notebooks/data_table.ipynb>data table notebook</a>'\n",
              "          + ' to learn more about interactive tables.';\n",
              "        element.innerHTML = '';\n",
              "        dataTable['output_type'] = 'display_data';\n",
              "        await google.colab.output.renderOutput(dataTable, element);\n",
              "        const docLink = document.createElement('div');\n",
              "        docLink.innerHTML = docLinkHtml;\n",
              "        element.appendChild(docLink);\n",
              "      }\n",
              "    </script>\n",
              "  </div>\n",
              "\n",
              "\n",
              "<div id=\"df-6bcaa0d6-9b31-402c-9259-e004da9b299d\">\n",
              "  <button class=\"colab-df-quickchart\" onclick=\"quickchart('df-6bcaa0d6-9b31-402c-9259-e004da9b299d')\"\n",
              "            title=\"Suggest charts\"\n",
              "            style=\"display:none;\">\n",
              "\n",
              "<svg xmlns=\"http://www.w3.org/2000/svg\" height=\"24px\"viewBox=\"0 0 24 24\"\n",
              "     width=\"24px\">\n",
              "    <g>\n",
              "        <path d=\"M19 3H5c-1.1 0-2 .9-2 2v14c0 1.1.9 2 2 2h14c1.1 0 2-.9 2-2V5c0-1.1-.9-2-2-2zM9 17H7v-7h2v7zm4 0h-2V7h2v10zm4 0h-2v-4h2v4z\"/>\n",
              "    </g>\n",
              "</svg>\n",
              "  </button>\n",
              "\n",
              "<style>\n",
              "  .colab-df-quickchart {\n",
              "      --bg-color: #E8F0FE;\n",
              "      --fill-color: #1967D2;\n",
              "      --hover-bg-color: #E2EBFA;\n",
              "      --hover-fill-color: #174EA6;\n",
              "      --disabled-fill-color: #AAA;\n",
              "      --disabled-bg-color: #DDD;\n",
              "  }\n",
              "\n",
              "  [theme=dark] .colab-df-quickchart {\n",
              "      --bg-color: #3B4455;\n",
              "      --fill-color: #D2E3FC;\n",
              "      --hover-bg-color: #434B5C;\n",
              "      --hover-fill-color: #FFFFFF;\n",
              "      --disabled-bg-color: #3B4455;\n",
              "      --disabled-fill-color: #666;\n",
              "  }\n",
              "\n",
              "  .colab-df-quickchart {\n",
              "    background-color: var(--bg-color);\n",
              "    border: none;\n",
              "    border-radius: 50%;\n",
              "    cursor: pointer;\n",
              "    display: none;\n",
              "    fill: var(--fill-color);\n",
              "    height: 32px;\n",
              "    padding: 0;\n",
              "    width: 32px;\n",
              "  }\n",
              "\n",
              "  .colab-df-quickchart:hover {\n",
              "    background-color: var(--hover-bg-color);\n",
              "    box-shadow: 0 1px 2px rgba(60, 64, 67, 0.3), 0 1px 3px 1px rgba(60, 64, 67, 0.15);\n",
              "    fill: var(--button-hover-fill-color);\n",
              "  }\n",
              "\n",
              "  .colab-df-quickchart-complete:disabled,\n",
              "  .colab-df-quickchart-complete:disabled:hover {\n",
              "    background-color: var(--disabled-bg-color);\n",
              "    fill: var(--disabled-fill-color);\n",
              "    box-shadow: none;\n",
              "  }\n",
              "\n",
              "  .colab-df-spinner {\n",
              "    border: 2px solid var(--fill-color);\n",
              "    border-color: transparent;\n",
              "    border-bottom-color: var(--fill-color);\n",
              "    animation:\n",
              "      spin 1s steps(1) infinite;\n",
              "  }\n",
              "\n",
              "  @keyframes spin {\n",
              "    0% {\n",
              "      border-color: transparent;\n",
              "      border-bottom-color: var(--fill-color);\n",
              "      border-left-color: var(--fill-color);\n",
              "    }\n",
              "    20% {\n",
              "      border-color: transparent;\n",
              "      border-left-color: var(--fill-color);\n",
              "      border-top-color: var(--fill-color);\n",
              "    }\n",
              "    30% {\n",
              "      border-color: transparent;\n",
              "      border-left-color: var(--fill-color);\n",
              "      border-top-color: var(--fill-color);\n",
              "      border-right-color: var(--fill-color);\n",
              "    }\n",
              "    40% {\n",
              "      border-color: transparent;\n",
              "      border-right-color: var(--fill-color);\n",
              "      border-top-color: var(--fill-color);\n",
              "    }\n",
              "    60% {\n",
              "      border-color: transparent;\n",
              "      border-right-color: var(--fill-color);\n",
              "    }\n",
              "    80% {\n",
              "      border-color: transparent;\n",
              "      border-right-color: var(--fill-color);\n",
              "      border-bottom-color: var(--fill-color);\n",
              "    }\n",
              "    90% {\n",
              "      border-color: transparent;\n",
              "      border-bottom-color: var(--fill-color);\n",
              "    }\n",
              "  }\n",
              "</style>\n",
              "\n",
              "  <script>\n",
              "    async function quickchart(key) {\n",
              "      const quickchartButtonEl =\n",
              "        document.querySelector('#' + key + ' button');\n",
              "      quickchartButtonEl.disabled = true;  // To prevent multiple clicks.\n",
              "      quickchartButtonEl.classList.add('colab-df-spinner');\n",
              "      try {\n",
              "        const charts = await google.colab.kernel.invokeFunction(\n",
              "            'suggestCharts', [key], {});\n",
              "      } catch (error) {\n",
              "        console.error('Error during call to suggestCharts:', error);\n",
              "      }\n",
              "      quickchartButtonEl.classList.remove('colab-df-spinner');\n",
              "      quickchartButtonEl.classList.add('colab-df-quickchart-complete');\n",
              "    }\n",
              "    (() => {\n",
              "      let quickchartButtonEl =\n",
              "        document.querySelector('#df-6bcaa0d6-9b31-402c-9259-e004da9b299d button');\n",
              "      quickchartButtonEl.style.display =\n",
              "        google.colab.kernel.accessAllowed ? 'block' : 'none';\n",
              "    })();\n",
              "  </script>\n",
              "</div>\n",
              "\n",
              "    </div>\n",
              "  </div>\n"
            ],
            "application/vnd.google.colaboratory.intrinsic+json": {
              "type": "dataframe",
              "variable_name": "df_penguin",
              "summary": "{\n  \"name\": \"df_penguin\",\n  \"rows\": 333,\n  \"fields\": [\n    {\n      \"column\": \"species\",\n      \"properties\": {\n        \"dtype\": \"category\",\n        \"num_unique_values\": 3,\n        \"samples\": [\n          \"Adelie\",\n          \"Gentoo\",\n          \"Chinstrap\"\n        ],\n        \"semantic_type\": \"\",\n        \"description\": \"\"\n      }\n    },\n    {\n      \"column\": \"island\",\n      \"properties\": {\n        \"dtype\": \"category\",\n        \"num_unique_values\": 3,\n        \"samples\": [\n          \"Torgersen\",\n          \"Biscoe\",\n          \"Dream\"\n        ],\n        \"semantic_type\": \"\",\n        \"description\": \"\"\n      }\n    },\n    {\n      \"column\": \"bill_length_mm\",\n      \"properties\": {\n        \"dtype\": \"number\",\n        \"std\": 5.46866834264756,\n        \"min\": 32.1,\n        \"max\": 59.6,\n        \"num_unique_values\": 163,\n        \"samples\": [\n          46.9,\n          45.7,\n          52.1\n        ],\n        \"semantic_type\": \"\",\n        \"description\": \"\"\n      }\n    },\n    {\n      \"column\": \"bill_depth_mm\",\n      \"properties\": {\n        \"dtype\": \"number\",\n        \"std\": 1.9692354633199,\n        \"min\": 13.1,\n        \"max\": 21.5,\n        \"num_unique_values\": 79,\n        \"samples\": [\n          19.5,\n          18.7,\n          17.0\n        ],\n        \"semantic_type\": \"\",\n        \"description\": \"\"\n      }\n    },\n    {\n      \"column\": \"flipper_length_mm\",\n      \"properties\": {\n        \"dtype\": \"number\",\n        \"std\": 14.01576528828788,\n        \"min\": 172.0,\n        \"max\": 231.0,\n        \"num_unique_values\": 54,\n        \"samples\": [\n          188.0,\n          223.0,\n          229.0\n        ],\n        \"semantic_type\": \"\",\n        \"description\": \"\"\n      }\n    },\n    {\n      \"column\": \"body_mass_g\",\n      \"properties\": {\n        \"dtype\": \"number\",\n        \"std\": 805.2158019428966,\n        \"min\": 2700.0,\n        \"max\": 6300.0,\n        \"num_unique_values\": 93,\n        \"samples\": [\n          4725.0,\n          3100.0,\n          5400.0\n        ],\n        \"semantic_type\": \"\",\n        \"description\": \"\"\n      }\n    },\n    {\n      \"column\": \"sex\",\n      \"properties\": {\n        \"dtype\": \"category\",\n        \"num_unique_values\": 2,\n        \"samples\": [\n          \"female\",\n          \"male\"\n        ],\n        \"semantic_type\": \"\",\n        \"description\": \"\"\n      }\n    },\n    {\n      \"column\": \"year\",\n      \"properties\": {\n        \"dtype\": \"number\",\n        \"std\": 0,\n        \"min\": 2007,\n        \"max\": 2009,\n        \"num_unique_values\": 3,\n        \"samples\": [\n          2007,\n          2008\n        ],\n        \"semantic_type\": \"\",\n        \"description\": \"\"\n      }\n    }\n  ]\n}"
            }
          },
          "metadata": {},
          "execution_count": 3
        }
      ]
    },
    {
      "cell_type": "code",
      "source": [
        "gm = GaussianMixture(n_components=3)\n",
        "gm.fit(df_iris[['SepalLengthCm', 'PetalWidthCm']])\n",
        "\n",
        "gm_1 = GaussianMixture(n_components=3)\n",
        "gm_1.fit(df_penguin[['bill_depth_mm', 'flipper_length_mm']])"
      ],
      "metadata": {
        "colab": {
          "base_uri": "https://localhost:8080/",
          "height": 80
        },
        "id": "i2BrVwF3cy1R",
        "outputId": "17e2afdb-8b82-4e0f-be5b-1e90f7ee7a77"
      },
      "execution_count": 4,
      "outputs": [
        {
          "output_type": "execute_result",
          "data": {
            "text/plain": [
              "GaussianMixture(n_components=3)"
            ],
            "text/html": [
              "<style>#sk-container-id-1 {\n",
              "  /* Definition of color scheme common for light and dark mode */\n",
              "  --sklearn-color-text: black;\n",
              "  --sklearn-color-line: gray;\n",
              "  /* Definition of color scheme for unfitted estimators */\n",
              "  --sklearn-color-unfitted-level-0: #fff5e6;\n",
              "  --sklearn-color-unfitted-level-1: #f6e4d2;\n",
              "  --sklearn-color-unfitted-level-2: #ffe0b3;\n",
              "  --sklearn-color-unfitted-level-3: chocolate;\n",
              "  /* Definition of color scheme for fitted estimators */\n",
              "  --sklearn-color-fitted-level-0: #f0f8ff;\n",
              "  --sklearn-color-fitted-level-1: #d4ebff;\n",
              "  --sklearn-color-fitted-level-2: #b3dbfd;\n",
              "  --sklearn-color-fitted-level-3: cornflowerblue;\n",
              "\n",
              "  /* Specific color for light theme */\n",
              "  --sklearn-color-text-on-default-background: var(--sg-text-color, var(--theme-code-foreground, var(--jp-content-font-color1, black)));\n",
              "  --sklearn-color-background: var(--sg-background-color, var(--theme-background, var(--jp-layout-color0, white)));\n",
              "  --sklearn-color-border-box: var(--sg-text-color, var(--theme-code-foreground, var(--jp-content-font-color1, black)));\n",
              "  --sklearn-color-icon: #696969;\n",
              "\n",
              "  @media (prefers-color-scheme: dark) {\n",
              "    /* Redefinition of color scheme for dark theme */\n",
              "    --sklearn-color-text-on-default-background: var(--sg-text-color, var(--theme-code-foreground, var(--jp-content-font-color1, white)));\n",
              "    --sklearn-color-background: var(--sg-background-color, var(--theme-background, var(--jp-layout-color0, #111)));\n",
              "    --sklearn-color-border-box: var(--sg-text-color, var(--theme-code-foreground, var(--jp-content-font-color1, white)));\n",
              "    --sklearn-color-icon: #878787;\n",
              "  }\n",
              "}\n",
              "\n",
              "#sk-container-id-1 {\n",
              "  color: var(--sklearn-color-text);\n",
              "}\n",
              "\n",
              "#sk-container-id-1 pre {\n",
              "  padding: 0;\n",
              "}\n",
              "\n",
              "#sk-container-id-1 input.sk-hidden--visually {\n",
              "  border: 0;\n",
              "  clip: rect(1px 1px 1px 1px);\n",
              "  clip: rect(1px, 1px, 1px, 1px);\n",
              "  height: 1px;\n",
              "  margin: -1px;\n",
              "  overflow: hidden;\n",
              "  padding: 0;\n",
              "  position: absolute;\n",
              "  width: 1px;\n",
              "}\n",
              "\n",
              "#sk-container-id-1 div.sk-dashed-wrapped {\n",
              "  border: 1px dashed var(--sklearn-color-line);\n",
              "  margin: 0 0.4em 0.5em 0.4em;\n",
              "  box-sizing: border-box;\n",
              "  padding-bottom: 0.4em;\n",
              "  background-color: var(--sklearn-color-background);\n",
              "}\n",
              "\n",
              "#sk-container-id-1 div.sk-container {\n",
              "  /* jupyter's `normalize.less` sets `[hidden] { display: none; }`\n",
              "     but bootstrap.min.css set `[hidden] { display: none !important; }`\n",
              "     so we also need the `!important` here to be able to override the\n",
              "     default hidden behavior on the sphinx rendered scikit-learn.org.\n",
              "     See: https://github.com/scikit-learn/scikit-learn/issues/21755 */\n",
              "  display: inline-block !important;\n",
              "  position: relative;\n",
              "}\n",
              "\n",
              "#sk-container-id-1 div.sk-text-repr-fallback {\n",
              "  display: none;\n",
              "}\n",
              "\n",
              "div.sk-parallel-item,\n",
              "div.sk-serial,\n",
              "div.sk-item {\n",
              "  /* draw centered vertical line to link estimators */\n",
              "  background-image: linear-gradient(var(--sklearn-color-text-on-default-background), var(--sklearn-color-text-on-default-background));\n",
              "  background-size: 2px 100%;\n",
              "  background-repeat: no-repeat;\n",
              "  background-position: center center;\n",
              "}\n",
              "\n",
              "/* Parallel-specific style estimator block */\n",
              "\n",
              "#sk-container-id-1 div.sk-parallel-item::after {\n",
              "  content: \"\";\n",
              "  width: 100%;\n",
              "  border-bottom: 2px solid var(--sklearn-color-text-on-default-background);\n",
              "  flex-grow: 1;\n",
              "}\n",
              "\n",
              "#sk-container-id-1 div.sk-parallel {\n",
              "  display: flex;\n",
              "  align-items: stretch;\n",
              "  justify-content: center;\n",
              "  background-color: var(--sklearn-color-background);\n",
              "  position: relative;\n",
              "}\n",
              "\n",
              "#sk-container-id-1 div.sk-parallel-item {\n",
              "  display: flex;\n",
              "  flex-direction: column;\n",
              "}\n",
              "\n",
              "#sk-container-id-1 div.sk-parallel-item:first-child::after {\n",
              "  align-self: flex-end;\n",
              "  width: 50%;\n",
              "}\n",
              "\n",
              "#sk-container-id-1 div.sk-parallel-item:last-child::after {\n",
              "  align-self: flex-start;\n",
              "  width: 50%;\n",
              "}\n",
              "\n",
              "#sk-container-id-1 div.sk-parallel-item:only-child::after {\n",
              "  width: 0;\n",
              "}\n",
              "\n",
              "/* Serial-specific style estimator block */\n",
              "\n",
              "#sk-container-id-1 div.sk-serial {\n",
              "  display: flex;\n",
              "  flex-direction: column;\n",
              "  align-items: center;\n",
              "  background-color: var(--sklearn-color-background);\n",
              "  padding-right: 1em;\n",
              "  padding-left: 1em;\n",
              "}\n",
              "\n",
              "\n",
              "/* Toggleable style: style used for estimator/Pipeline/ColumnTransformer box that is\n",
              "clickable and can be expanded/collapsed.\n",
              "- Pipeline and ColumnTransformer use this feature and define the default style\n",
              "- Estimators will overwrite some part of the style using the `sk-estimator` class\n",
              "*/\n",
              "\n",
              "/* Pipeline and ColumnTransformer style (default) */\n",
              "\n",
              "#sk-container-id-1 div.sk-toggleable {\n",
              "  /* Default theme specific background. It is overwritten whether we have a\n",
              "  specific estimator or a Pipeline/ColumnTransformer */\n",
              "  background-color: var(--sklearn-color-background);\n",
              "}\n",
              "\n",
              "/* Toggleable label */\n",
              "#sk-container-id-1 label.sk-toggleable__label {\n",
              "  cursor: pointer;\n",
              "  display: block;\n",
              "  width: 100%;\n",
              "  margin-bottom: 0;\n",
              "  padding: 0.5em;\n",
              "  box-sizing: border-box;\n",
              "  text-align: center;\n",
              "}\n",
              "\n",
              "#sk-container-id-1 label.sk-toggleable__label-arrow:before {\n",
              "  /* Arrow on the left of the label */\n",
              "  content: \"▸\";\n",
              "  float: left;\n",
              "  margin-right: 0.25em;\n",
              "  color: var(--sklearn-color-icon);\n",
              "}\n",
              "\n",
              "#sk-container-id-1 label.sk-toggleable__label-arrow:hover:before {\n",
              "  color: var(--sklearn-color-text);\n",
              "}\n",
              "\n",
              "/* Toggleable content - dropdown */\n",
              "\n",
              "#sk-container-id-1 div.sk-toggleable__content {\n",
              "  max-height: 0;\n",
              "  max-width: 0;\n",
              "  overflow: hidden;\n",
              "  text-align: left;\n",
              "  /* unfitted */\n",
              "  background-color: var(--sklearn-color-unfitted-level-0);\n",
              "}\n",
              "\n",
              "#sk-container-id-1 div.sk-toggleable__content.fitted {\n",
              "  /* fitted */\n",
              "  background-color: var(--sklearn-color-fitted-level-0);\n",
              "}\n",
              "\n",
              "#sk-container-id-1 div.sk-toggleable__content pre {\n",
              "  margin: 0.2em;\n",
              "  border-radius: 0.25em;\n",
              "  color: var(--sklearn-color-text);\n",
              "  /* unfitted */\n",
              "  background-color: var(--sklearn-color-unfitted-level-0);\n",
              "}\n",
              "\n",
              "#sk-container-id-1 div.sk-toggleable__content.fitted pre {\n",
              "  /* unfitted */\n",
              "  background-color: var(--sklearn-color-fitted-level-0);\n",
              "}\n",
              "\n",
              "#sk-container-id-1 input.sk-toggleable__control:checked~div.sk-toggleable__content {\n",
              "  /* Expand drop-down */\n",
              "  max-height: 200px;\n",
              "  max-width: 100%;\n",
              "  overflow: auto;\n",
              "}\n",
              "\n",
              "#sk-container-id-1 input.sk-toggleable__control:checked~label.sk-toggleable__label-arrow:before {\n",
              "  content: \"▾\";\n",
              "}\n",
              "\n",
              "/* Pipeline/ColumnTransformer-specific style */\n",
              "\n",
              "#sk-container-id-1 div.sk-label input.sk-toggleable__control:checked~label.sk-toggleable__label {\n",
              "  color: var(--sklearn-color-text);\n",
              "  background-color: var(--sklearn-color-unfitted-level-2);\n",
              "}\n",
              "\n",
              "#sk-container-id-1 div.sk-label.fitted input.sk-toggleable__control:checked~label.sk-toggleable__label {\n",
              "  background-color: var(--sklearn-color-fitted-level-2);\n",
              "}\n",
              "\n",
              "/* Estimator-specific style */\n",
              "\n",
              "/* Colorize estimator box */\n",
              "#sk-container-id-1 div.sk-estimator input.sk-toggleable__control:checked~label.sk-toggleable__label {\n",
              "  /* unfitted */\n",
              "  background-color: var(--sklearn-color-unfitted-level-2);\n",
              "}\n",
              "\n",
              "#sk-container-id-1 div.sk-estimator.fitted input.sk-toggleable__control:checked~label.sk-toggleable__label {\n",
              "  /* fitted */\n",
              "  background-color: var(--sklearn-color-fitted-level-2);\n",
              "}\n",
              "\n",
              "#sk-container-id-1 div.sk-label label.sk-toggleable__label,\n",
              "#sk-container-id-1 div.sk-label label {\n",
              "  /* The background is the default theme color */\n",
              "  color: var(--sklearn-color-text-on-default-background);\n",
              "}\n",
              "\n",
              "/* On hover, darken the color of the background */\n",
              "#sk-container-id-1 div.sk-label:hover label.sk-toggleable__label {\n",
              "  color: var(--sklearn-color-text);\n",
              "  background-color: var(--sklearn-color-unfitted-level-2);\n",
              "}\n",
              "\n",
              "/* Label box, darken color on hover, fitted */\n",
              "#sk-container-id-1 div.sk-label.fitted:hover label.sk-toggleable__label.fitted {\n",
              "  color: var(--sklearn-color-text);\n",
              "  background-color: var(--sklearn-color-fitted-level-2);\n",
              "}\n",
              "\n",
              "/* Estimator label */\n",
              "\n",
              "#sk-container-id-1 div.sk-label label {\n",
              "  font-family: monospace;\n",
              "  font-weight: bold;\n",
              "  display: inline-block;\n",
              "  line-height: 1.2em;\n",
              "}\n",
              "\n",
              "#sk-container-id-1 div.sk-label-container {\n",
              "  text-align: center;\n",
              "}\n",
              "\n",
              "/* Estimator-specific */\n",
              "#sk-container-id-1 div.sk-estimator {\n",
              "  font-family: monospace;\n",
              "  border: 1px dotted var(--sklearn-color-border-box);\n",
              "  border-radius: 0.25em;\n",
              "  box-sizing: border-box;\n",
              "  margin-bottom: 0.5em;\n",
              "  /* unfitted */\n",
              "  background-color: var(--sklearn-color-unfitted-level-0);\n",
              "}\n",
              "\n",
              "#sk-container-id-1 div.sk-estimator.fitted {\n",
              "  /* fitted */\n",
              "  background-color: var(--sklearn-color-fitted-level-0);\n",
              "}\n",
              "\n",
              "/* on hover */\n",
              "#sk-container-id-1 div.sk-estimator:hover {\n",
              "  /* unfitted */\n",
              "  background-color: var(--sklearn-color-unfitted-level-2);\n",
              "}\n",
              "\n",
              "#sk-container-id-1 div.sk-estimator.fitted:hover {\n",
              "  /* fitted */\n",
              "  background-color: var(--sklearn-color-fitted-level-2);\n",
              "}\n",
              "\n",
              "/* Specification for estimator info (e.g. \"i\" and \"?\") */\n",
              "\n",
              "/* Common style for \"i\" and \"?\" */\n",
              "\n",
              ".sk-estimator-doc-link,\n",
              "a:link.sk-estimator-doc-link,\n",
              "a:visited.sk-estimator-doc-link {\n",
              "  float: right;\n",
              "  font-size: smaller;\n",
              "  line-height: 1em;\n",
              "  font-family: monospace;\n",
              "  background-color: var(--sklearn-color-background);\n",
              "  border-radius: 1em;\n",
              "  height: 1em;\n",
              "  width: 1em;\n",
              "  text-decoration: none !important;\n",
              "  margin-left: 1ex;\n",
              "  /* unfitted */\n",
              "  border: var(--sklearn-color-unfitted-level-1) 1pt solid;\n",
              "  color: var(--sklearn-color-unfitted-level-1);\n",
              "}\n",
              "\n",
              ".sk-estimator-doc-link.fitted,\n",
              "a:link.sk-estimator-doc-link.fitted,\n",
              "a:visited.sk-estimator-doc-link.fitted {\n",
              "  /* fitted */\n",
              "  border: var(--sklearn-color-fitted-level-1) 1pt solid;\n",
              "  color: var(--sklearn-color-fitted-level-1);\n",
              "}\n",
              "\n",
              "/* On hover */\n",
              "div.sk-estimator:hover .sk-estimator-doc-link:hover,\n",
              ".sk-estimator-doc-link:hover,\n",
              "div.sk-label-container:hover .sk-estimator-doc-link:hover,\n",
              ".sk-estimator-doc-link:hover {\n",
              "  /* unfitted */\n",
              "  background-color: var(--sklearn-color-unfitted-level-3);\n",
              "  color: var(--sklearn-color-background);\n",
              "  text-decoration: none;\n",
              "}\n",
              "\n",
              "div.sk-estimator.fitted:hover .sk-estimator-doc-link.fitted:hover,\n",
              ".sk-estimator-doc-link.fitted:hover,\n",
              "div.sk-label-container:hover .sk-estimator-doc-link.fitted:hover,\n",
              ".sk-estimator-doc-link.fitted:hover {\n",
              "  /* fitted */\n",
              "  background-color: var(--sklearn-color-fitted-level-3);\n",
              "  color: var(--sklearn-color-background);\n",
              "  text-decoration: none;\n",
              "}\n",
              "\n",
              "/* Span, style for the box shown on hovering the info icon */\n",
              ".sk-estimator-doc-link span {\n",
              "  display: none;\n",
              "  z-index: 9999;\n",
              "  position: relative;\n",
              "  font-weight: normal;\n",
              "  right: .2ex;\n",
              "  padding: .5ex;\n",
              "  margin: .5ex;\n",
              "  width: min-content;\n",
              "  min-width: 20ex;\n",
              "  max-width: 50ex;\n",
              "  color: var(--sklearn-color-text);\n",
              "  box-shadow: 2pt 2pt 4pt #999;\n",
              "  /* unfitted */\n",
              "  background: var(--sklearn-color-unfitted-level-0);\n",
              "  border: .5pt solid var(--sklearn-color-unfitted-level-3);\n",
              "}\n",
              "\n",
              ".sk-estimator-doc-link.fitted span {\n",
              "  /* fitted */\n",
              "  background: var(--sklearn-color-fitted-level-0);\n",
              "  border: var(--sklearn-color-fitted-level-3);\n",
              "}\n",
              "\n",
              ".sk-estimator-doc-link:hover span {\n",
              "  display: block;\n",
              "}\n",
              "\n",
              "/* \"?\"-specific style due to the `<a>` HTML tag */\n",
              "\n",
              "#sk-container-id-1 a.estimator_doc_link {\n",
              "  float: right;\n",
              "  font-size: 1rem;\n",
              "  line-height: 1em;\n",
              "  font-family: monospace;\n",
              "  background-color: var(--sklearn-color-background);\n",
              "  border-radius: 1rem;\n",
              "  height: 1rem;\n",
              "  width: 1rem;\n",
              "  text-decoration: none;\n",
              "  /* unfitted */\n",
              "  color: var(--sklearn-color-unfitted-level-1);\n",
              "  border: var(--sklearn-color-unfitted-level-1) 1pt solid;\n",
              "}\n",
              "\n",
              "#sk-container-id-1 a.estimator_doc_link.fitted {\n",
              "  /* fitted */\n",
              "  border: var(--sklearn-color-fitted-level-1) 1pt solid;\n",
              "  color: var(--sklearn-color-fitted-level-1);\n",
              "}\n",
              "\n",
              "/* On hover */\n",
              "#sk-container-id-1 a.estimator_doc_link:hover {\n",
              "  /* unfitted */\n",
              "  background-color: var(--sklearn-color-unfitted-level-3);\n",
              "  color: var(--sklearn-color-background);\n",
              "  text-decoration: none;\n",
              "}\n",
              "\n",
              "#sk-container-id-1 a.estimator_doc_link.fitted:hover {\n",
              "  /* fitted */\n",
              "  background-color: var(--sklearn-color-fitted-level-3);\n",
              "}\n",
              "</style><div id=\"sk-container-id-1\" class=\"sk-top-container\"><div class=\"sk-text-repr-fallback\"><pre>GaussianMixture(n_components=3)</pre><b>In a Jupyter environment, please rerun this cell to show the HTML representation or trust the notebook. <br />On GitHub, the HTML representation is unable to render, please try loading this page with nbviewer.org.</b></div><div class=\"sk-container\" hidden><div class=\"sk-item\"><div class=\"sk-estimator fitted sk-toggleable\"><input class=\"sk-toggleable__control sk-hidden--visually\" id=\"sk-estimator-id-1\" type=\"checkbox\" checked><label for=\"sk-estimator-id-1\" class=\"sk-toggleable__label fitted sk-toggleable__label-arrow fitted\">&nbsp;&nbsp;GaussianMixture<a class=\"sk-estimator-doc-link fitted\" rel=\"noreferrer\" target=\"_blank\" href=\"https://scikit-learn.org/1.5/modules/generated/sklearn.mixture.GaussianMixture.html\">?<span>Documentation for GaussianMixture</span></a><span class=\"sk-estimator-doc-link fitted\">i<span>Fitted</span></span></label><div class=\"sk-toggleable__content fitted\"><pre>GaussianMixture(n_components=3)</pre></div> </div></div></div></div>"
            ]
          },
          "metadata": {},
          "execution_count": 4
        }
      ]
    },
    {
      "cell_type": "code",
      "source": [
        "def plot_centroids(centroids, weights=None, circle_color='w', cross_color='k'):\n",
        "    if weights is not None:\n",
        "        centroids = centroids[weights > weights.max() / 10]\n",
        "    plt.scatter(centroids[:, 0], centroids[:, 1],\n",
        "                marker='o', s=35, linewidths=8,\n",
        "                color=circle_color, zorder=10, alpha=0.9)\n",
        "    plt.scatter(centroids[:, 0], centroids[:, 1],\n",
        "                marker='x', s=2, linewidths=12,\n",
        "                color=cross_color, zorder=11, alpha=1)\n",
        "\n",
        "def plot_gaussian_mixture(clusterer, X, resolution=1000, show_ylabels=True):\n",
        "    mins = X.min(axis=0) - 0.1\n",
        "    maxs = X.max(axis=0) + 0.1\n",
        "    xx, yy = np.meshgrid(np.linspace(mins[0], maxs[0], resolution),\n",
        "                         np.linspace(mins[1], maxs[1], resolution))\n",
        "    Z = -clusterer.score_samples(np.c_[xx.ravel(), yy.ravel()])\n",
        "    Z = Z.reshape(xx.shape)\n",
        "\n",
        "    plt.contourf(xx, yy, Z,\n",
        "                 norm=LogNorm(vmin=1.0, vmax=30.0),\n",
        "                 levels=np.logspace(0, 2, 12))\n",
        "    plt.contour(xx, yy, Z,\n",
        "                norm=LogNorm(vmin=1.0, vmax=30.0),\n",
        "                levels=np.logspace(0, 2, 12),\n",
        "                linewidths=1, colors='k')\n",
        "\n",
        "    Z = clusterer.predict(np.c_[xx.ravel(), yy.ravel()])\n",
        "    Z = Z.reshape(xx.shape)\n",
        "    plt.contour(xx, yy, Z,\n",
        "                linewidths=2, colors='r', linestyles='dashed')\n",
        "\n",
        "    X_np = X.values\n",
        "    plt.plot(X_np[:, 0], X_np[:, 1], 'k.', markersize=2)\n",
        "    plot_centroids(clusterer.means_, clusterer.weights_)\n",
        "\n",
        "    plt.xlabel(\"$x_1$\")\n",
        "    if show_ylabels:\n",
        "        plt.ylabel(\"$x_2$\", rotation=0)\n",
        "    else:\n",
        "        plt.tick_params(labelleft=False)"
      ],
      "metadata": {
        "id": "BFSZ9i7UnXY1"
      },
      "execution_count": 5,
      "outputs": []
    },
    {
      "cell_type": "markdown",
      "source": [
        "# Iris Dataset"
      ],
      "metadata": {
        "id": "33N8MpAl2KXQ"
      }
    },
    {
      "cell_type": "code",
      "source": [
        "print('Weights:\\n',gm.weights_)\n",
        "print('Means:\\n', gm.means_)\n",
        "print('Covariances:\\n', gm.covariances_)\n",
        "print('Converged:\\n', gm.converged_)\n",
        "print('Iterations:\\n', gm.n_iter_)"
      ],
      "metadata": {
        "colab": {
          "base_uri": "https://localhost:8080/"
        },
        "id": "AuOsQBOBc8a4",
        "outputId": "26356da1-04c5-41bc-bd6d-9a8d5d15185e"
      },
      "execution_count": 6,
      "outputs": [
        {
          "output_type": "stream",
          "name": "stdout",
          "text": [
            "Weights:\n",
            " [0.32709684 0.30858553 0.36431763]\n",
            "Means:\n",
            " [[5.00605757 0.23727675]\n",
            " [6.57289666 2.05192938]\n",
            " [5.977111   1.33910201]]\n",
            "Covariances:\n",
            " [[[0.12407758 0.01055895]\n",
            "  [0.01055895 0.00905628]]\n",
            "\n",
            " [[0.4171415  0.05278455]\n",
            "  [0.05278455 0.06790735]]\n",
            "\n",
            " [[0.30671183 0.08640131]\n",
            "  [0.08640131 0.05609398]]]\n",
            "Converged:\n",
            " True\n",
            "Iterations:\n",
            " 13\n"
          ]
        }
      ]
    },
    {
      "cell_type": "code",
      "source": [
        "gm.predict_proba(df_iris[['SepalLengthCm', 'PetalWidthCm']]).round(3)"
      ],
      "metadata": {
        "colab": {
          "base_uri": "https://localhost:8080/"
        },
        "id": "r0Mn0lP-eA7k",
        "outputId": "45902c34-6dac-4cc9-cfd0-4b14eac63a92"
      },
      "execution_count": 7,
      "outputs": [
        {
          "output_type": "execute_result",
          "data": {
            "text/plain": [
              "array([[1.   , 0.   , 0.   ],\n",
              "       [1.   , 0.   , 0.   ],\n",
              "       [1.   , 0.   , 0.   ],\n",
              "       [1.   , 0.   , 0.   ],\n",
              "       [1.   , 0.   , 0.   ],\n",
              "       [1.   , 0.   , 0.   ],\n",
              "       [1.   , 0.   , 0.   ],\n",
              "       [1.   , 0.   , 0.   ],\n",
              "       [1.   , 0.   , 0.   ],\n",
              "       [1.   , 0.   , 0.   ],\n",
              "       [1.   , 0.   , 0.   ],\n",
              "       [1.   , 0.   , 0.   ],\n",
              "       [1.   , 0.   , 0.   ],\n",
              "       [1.   , 0.   , 0.   ],\n",
              "       [1.   , 0.   , 0.   ],\n",
              "       [1.   , 0.   , 0.   ],\n",
              "       [1.   , 0.   , 0.   ],\n",
              "       [1.   , 0.   , 0.   ],\n",
              "       [1.   , 0.   , 0.   ],\n",
              "       [1.   , 0.   , 0.   ],\n",
              "       [1.   , 0.   , 0.   ],\n",
              "       [1.   , 0.   , 0.   ],\n",
              "       [1.   , 0.   , 0.   ],\n",
              "       [0.978, 0.   , 0.022],\n",
              "       [1.   , 0.   , 0.   ],\n",
              "       [1.   , 0.   , 0.   ],\n",
              "       [1.   , 0.   , 0.   ],\n",
              "       [1.   , 0.   , 0.   ],\n",
              "       [1.   , 0.   , 0.   ],\n",
              "       [1.   , 0.   , 0.   ],\n",
              "       [1.   , 0.   , 0.   ],\n",
              "       [1.   , 0.   , 0.   ],\n",
              "       [1.   , 0.   , 0.   ],\n",
              "       [1.   , 0.   , 0.   ],\n",
              "       [1.   , 0.   , 0.   ],\n",
              "       [1.   , 0.   , 0.   ],\n",
              "       [1.   , 0.   , 0.   ],\n",
              "       [1.   , 0.   , 0.   ],\n",
              "       [1.   , 0.   , 0.   ],\n",
              "       [1.   , 0.   , 0.   ],\n",
              "       [1.   , 0.   , 0.   ],\n",
              "       [1.   , 0.   , 0.   ],\n",
              "       [1.   , 0.   , 0.   ],\n",
              "       [0.107, 0.   , 0.893],\n",
              "       [1.   , 0.   , 0.   ],\n",
              "       [1.   , 0.   , 0.   ],\n",
              "       [1.   , 0.   , 0.   ],\n",
              "       [1.   , 0.   , 0.   ],\n",
              "       [1.   , 0.   , 0.   ],\n",
              "       [1.   , 0.   , 0.   ],\n",
              "       [0.   , 0.082, 0.918],\n",
              "       [0.   , 0.065, 0.935],\n",
              "       [0.   , 0.108, 0.892],\n",
              "       [0.   , 0.01 , 0.99 ],\n",
              "       [0.   , 0.068, 0.932],\n",
              "       [0.   , 0.008, 0.992],\n",
              "       [0.   , 0.177, 0.823],\n",
              "       [0.   , 0.   , 1.   ],\n",
              "       [0.   , 0.019, 0.981],\n",
              "       [0.   , 0.072, 0.928],\n",
              "       [0.   , 0.   , 1.   ],\n",
              "       [0.   , 0.081, 0.919],\n",
              "       [0.   , 0.001, 0.999],\n",
              "       [0.   , 0.023, 0.977],\n",
              "       [0.   , 0.009, 0.991],\n",
              "       [0.   , 0.042, 0.958],\n",
              "       [0.   , 0.127, 0.873],\n",
              "       [0.   , 0.001, 0.999],\n",
              "       [0.   , 0.065, 0.935],\n",
              "       [0.   , 0.001, 0.999],\n",
              "       [0.   , 0.905, 0.095],\n",
              "       [0.   , 0.009, 0.991],\n",
              "       [0.   , 0.064, 0.936],\n",
              "       [0.   , 0.004, 0.996],\n",
              "       [0.   , 0.013, 0.987],\n",
              "       [0.   , 0.035, 0.965],\n",
              "       [0.   , 0.051, 0.949],\n",
              "       [0.   , 0.37 , 0.63 ],\n",
              "       [0.   , 0.073, 0.927],\n",
              "       [0.   , 0.   , 1.   ],\n",
              "       [0.   , 0.001, 0.999],\n",
              "       [0.   , 0.   , 1.   ],\n",
              "       [0.   , 0.003, 0.997],\n",
              "       [0.   , 0.232, 0.768],\n",
              "       [0.   , 0.192, 0.808],\n",
              "       [0.   , 0.232, 0.768],\n",
              "       [0.   , 0.082, 0.918],\n",
              "       [0.   , 0.011, 0.989],\n",
              "       [0.   , 0.009, 0.991],\n",
              "       [0.   , 0.01 , 0.99 ],\n",
              "       [0.   , 0.003, 0.997],\n",
              "       [0.   , 0.023, 0.977],\n",
              "       [0.   , 0.003, 0.997],\n",
              "       [0.   , 0.   , 1.   ],\n",
              "       [0.   , 0.009, 0.991],\n",
              "       [0.   , 0.003, 0.997],\n",
              "       [0.   , 0.008, 0.992],\n",
              "       [0.   , 0.01 , 0.99 ],\n",
              "       [0.   , 0.001, 0.999],\n",
              "       [0.   , 0.008, 0.992],\n",
              "       [0.   , 1.   , 0.   ],\n",
              "       [0.   , 0.989, 0.011],\n",
              "       [0.   , 0.985, 0.015],\n",
              "       [0.   , 0.769, 0.231],\n",
              "       [0.   , 1.   , 0.   ],\n",
              "       [0.   , 0.978, 0.022],\n",
              "       [0.   , 0.991, 0.009],\n",
              "       [0.   , 0.674, 0.326],\n",
              "       [0.   , 0.655, 0.345],\n",
              "       [0.   , 1.   , 0.   ],\n",
              "       [0.   , 0.981, 0.019],\n",
              "       [0.   , 0.927, 0.073],\n",
              "       [0.   , 0.992, 0.008],\n",
              "       [0.   , 0.999, 0.001],\n",
              "       [0.   , 1.   , 0.   ],\n",
              "       [0.   , 1.   , 0.   ],\n",
              "       [0.   , 0.702, 0.298],\n",
              "       [0.   , 0.993, 0.007],\n",
              "       [0.   , 0.998, 0.002],\n",
              "       [0.   , 0.073, 0.927],\n",
              "       [0.   , 1.   , 0.   ],\n",
              "       [0.   , 1.   , 0.   ],\n",
              "       [0.   , 0.945, 0.055],\n",
              "       [0.   , 0.769, 0.231],\n",
              "       [0.   , 0.994, 0.006],\n",
              "       [0.   , 0.654, 0.346],\n",
              "       [0.   , 0.805, 0.195],\n",
              "       [0.   , 0.841, 0.159],\n",
              "       [0.   , 0.998, 0.002],\n",
              "       [0.   , 0.294, 0.706],\n",
              "       [0.   , 0.845, 0.155],\n",
              "       [0.   , 0.957, 0.043],\n",
              "       [0.   , 1.   , 0.   ],\n",
              "       [0.   , 0.064, 0.936],\n",
              "       [0.   , 0.023, 0.977],\n",
              "       [0.   , 0.998, 0.002],\n",
              "       [0.   , 1.   , 0.   ],\n",
              "       [0.   , 0.734, 0.266],\n",
              "       [0.   , 0.875, 0.125],\n",
              "       [0.   , 0.99 , 0.01 ],\n",
              "       [0.   , 1.   , 0.   ],\n",
              "       [0.   , 1.   , 0.   ],\n",
              "       [0.   , 0.989, 0.011],\n",
              "       [0.   , 1.   , 0.   ],\n",
              "       [0.   , 1.   , 0.   ],\n",
              "       [0.   , 1.   , 0.   ],\n",
              "       [0.   , 0.943, 0.057],\n",
              "       [0.   , 0.981, 0.019],\n",
              "       [0.   , 1.   , 0.   ],\n",
              "       [0.   , 0.905, 0.095]])"
            ]
          },
          "metadata": {},
          "execution_count": 7
        }
      ]
    },
    {
      "cell_type": "code",
      "source": [
        "X_new, y_new = gm.sample(6)\n",
        "X_new"
      ],
      "metadata": {
        "colab": {
          "base_uri": "https://localhost:8080/"
        },
        "id": "0HDMwg6peG-g",
        "outputId": "584155bd-60bb-4234-f2d1-57564d1218f1"
      },
      "execution_count": 8,
      "outputs": [
        {
          "output_type": "execute_result",
          "data": {
            "text/plain": [
              "array([[4.6958745 , 0.27849348],\n",
              "       [5.05427494, 0.18656255],\n",
              "       [7.1248072 , 2.07208764],\n",
              "       [6.83255097, 2.22201229],\n",
              "       [6.90460018, 2.14380424],\n",
              "       [6.25011534, 1.61644271]])"
            ]
          },
          "metadata": {},
          "execution_count": 8
        }
      ]
    },
    {
      "cell_type": "code",
      "source": [
        "y_new"
      ],
      "metadata": {
        "colab": {
          "base_uri": "https://localhost:8080/"
        },
        "id": "pz936rrAkCST",
        "outputId": "4c3cb058-6116-42b5-87d7-a85dedb665a8"
      },
      "execution_count": 9,
      "outputs": [
        {
          "output_type": "execute_result",
          "data": {
            "text/plain": [
              "array([0, 0, 1, 1, 1, 2])"
            ]
          },
          "metadata": {},
          "execution_count": 9
        }
      ]
    },
    {
      "cell_type": "code",
      "source": [
        "gm.score_samples(df_iris[['SepalLengthCm', 'PetalWidthCm']]).round(2)"
      ],
      "metadata": {
        "colab": {
          "base_uri": "https://localhost:8080/"
        },
        "id": "pBEmiSWmkD7v",
        "outputId": "a655f7f1-f1af-49fc-a6cf-0170e2fd7811"
      },
      "execution_count": 10,
      "outputs": [
        {
          "output_type": "execute_result",
          "data": {
            "text/plain": [
              "array([ 0.33,  0.4 ,  0.11, -0.17,  0.41, -1.16, -0.75,  0.41, -1.  ,\n",
              "       -0.56, -0.44,  0.3 , -0.56, -1.88, -2.72, -2.11, -1.16,  0.27,\n",
              "       -1.45,  0.27, -0.44, -1.01, -0.17, -3.5 ,  0.3 ,  0.41, -1.14,\n",
              "        0.16,  0.16,  0.11,  0.3 , -1.16, -1.11, -0.88, -0.56,  0.41,\n",
              "       -0.88, -0.56, -1.  ,  0.33,  0.25, -1.23, -1.  , -5.36, -1.01,\n",
              "       -0.07,  0.33, -0.17, -0.09,  0.41, -2.97, -0.78, -1.96, -1.04,\n",
              "       -0.91, -0.67, -0.96, -2.44, -1.87, -2.67, -2.15, -0.98, -2.41,\n",
              "       -0.54, -0.83, -1.66, -1.75, -1.9 , -0.7 , -1.04, -1.85, -0.63,\n",
              "       -0.71, -1.03, -1.2 , -1.34, -2.04, -1.31, -0.83, -1.73, -1.07,\n",
              "       -1.56, -0.71, -1.29, -2.51, -1.29, -1.33, -0.96, -0.83, -1.04,\n",
              "       -0.9 , -0.54, -0.71, -2.15, -0.83, -0.71, -0.67, -0.77, -1.79,\n",
              "       -0.67, -3.17, -1.91, -1.5 , -1.39, -1.39, -2.48, -4.69, -2.39,\n",
              "       -1.36, -2.76, -1.18, -1.28, -1.24, -2.12, -3.52, -1.81, -1.31,\n",
              "       -2.7 , -2.79, -0.83, -1.66, -2.36, -2.96, -1.39, -1.2 , -2.12,\n",
              "       -1.47, -1.58, -1.25, -2.73, -2.37, -3.64, -1.45, -0.71, -0.54,\n",
              "       -2.79, -2.46, -1.34, -1.7 , -1.3 , -2.1 , -1.66, -1.91, -1.63,\n",
              "       -2.72, -1.64, -1.32, -1.18, -2.06, -1.85])"
            ]
          },
          "metadata": {},
          "execution_count": 10
        }
      ]
    },
    {
      "cell_type": "code",
      "source": [
        "densities = gm.score_samples(df_iris[['SepalLengthCm', 'PetalWidthCm']])\n",
        "density_threshold = np.percentile(densities, 2)\n",
        "anomalies = df_iris[densities < density_threshold]"
      ],
      "metadata": {
        "id": "yzZiW3kUkemU"
      },
      "execution_count": 11,
      "outputs": []
    },
    {
      "cell_type": "code",
      "source": [
        "plt.figure(figsize=(8, 4))\n",
        "\n",
        "plot_gaussian_mixture(gm, df_iris[['SepalLengthCm', 'PetalWidthCm']])\n",
        "# Calulated center from kmeans model\n",
        "k_means_centroids = [5.005556, 0.301852], [6.857143, 2.011905], [5.892593, 1.462963]\n",
        "colors = ['red', 'green', 'yellow']\n",
        "for i in range(len(k_means_centroids)):\n",
        "    plt.plot(k_means_centroids[i][0], k_means_centroids[i][1], 'X', color=colors[i])\n",
        "plt.plot()\n",
        "plt.show()"
      ],
      "metadata": {
        "colab": {
          "base_uri": "https://localhost:8080/",
          "height": 621
        },
        "id": "bAFFx7lw0sSF",
        "outputId": "e15736bd-a222-41e3-b4fa-64b7fe677a05"
      },
      "execution_count": 12,
      "outputs": [
        {
          "output_type": "stream",
          "name": "stderr",
          "text": [
            "<ipython-input-5-9de137799c41>:14: FutureWarning: Series.__getitem__ treating keys as positions is deprecated. In a future version, integer keys will always be treated as labels (consistent with DataFrame behavior). To access a value by position, use `ser.iloc[pos]`\n",
            "  xx, yy = np.meshgrid(np.linspace(mins[0], maxs[0], resolution),\n",
            "<ipython-input-5-9de137799c41>:15: FutureWarning: Series.__getitem__ treating keys as positions is deprecated. In a future version, integer keys will always be treated as labels (consistent with DataFrame behavior). To access a value by position, use `ser.iloc[pos]`\n",
            "  np.linspace(mins[1], maxs[1], resolution))\n",
            "/usr/local/lib/python3.10/dist-packages/sklearn/base.py:493: UserWarning: X does not have valid feature names, but GaussianMixture was fitted with feature names\n",
            "  warnings.warn(\n",
            "<ipython-input-5-9de137799c41>:19: UserWarning: Log scale: values of z <= 0 have been masked\n",
            "  plt.contourf(xx, yy, Z,\n",
            "<ipython-input-5-9de137799c41>:22: UserWarning: Log scale: values of z <= 0 have been masked\n",
            "  plt.contour(xx, yy, Z,\n",
            "/usr/local/lib/python3.10/dist-packages/sklearn/base.py:493: UserWarning: X does not have valid feature names, but GaussianMixture was fitted with feature names\n",
            "  warnings.warn(\n"
          ]
        },
        {
          "output_type": "display_data",
          "data": {
            "text/plain": [
              "<Figure size 800x400 with 1 Axes>"
            ],
            "image/png": "[encoded data removed]"
          },
          "metadata": {}
        }
      ]
    },
    {
      "cell_type": "code",
      "source": [
        "gm.bic(df_iris[['SepalLengthCm', 'PetalWidthCm']])"
      ],
      "metadata": {
        "colab": {
          "base_uri": "https://localhost:8080/"
        },
        "id": "jEMwnHGSk7rB",
        "outputId": "add92f71-b4cd-4b87-fa20-e43b4bbcb1bd"
      },
      "execution_count": 13,
      "outputs": [
        {
          "output_type": "execute_result",
          "data": {
            "text/plain": [
              "468.7344469385945"
            ]
          },
          "metadata": {},
          "execution_count": 13
        }
      ]
    },
    {
      "cell_type": "code",
      "source": [
        "gm.aic(df_iris[['SepalLengthCm', 'PetalWidthCm']])"
      ],
      "metadata": {
        "colab": {
          "base_uri": "https://localhost:8080/"
        },
        "id": "OSr44oKjlkD_",
        "outputId": "7c4382d6-e0ef-442a-a723-4fd52686c42b"
      },
      "execution_count": 14,
      "outputs": [
        {
          "output_type": "execute_result",
          "data": {
            "text/plain": [
              "417.55364693895814"
            ]
          },
          "metadata": {},
          "execution_count": 14
        }
      ]
    },
    {
      "cell_type": "code",
      "source": [
        "gms_per_k = [GaussianMixture(n_components=k, n_init=10, random_state=42).fit(df_iris[['SepalLengthCm', 'SepalWidthCm', 'PetalLengthCm', 'PetalWidthCm']])\n",
        "             for k in range(1, 11)]\n",
        "bics = [model.bic(df_iris[['SepalLengthCm', 'SepalWidthCm', 'PetalLengthCm', 'PetalWidthCm']]) for model in gms_per_k]\n",
        "aics = [model.aic(df_iris[['SepalLengthCm', 'SepalWidthCm', 'PetalLengthCm', 'PetalWidthCm']]) for model in gms_per_k]\n",
        "\n",
        "plt.figure(figsize=(8, 3))\n",
        "plt.plot(range(1, 11), bics, \"bo-\", label=\"BIC\")\n",
        "plt.plot(range(1, 11), aics, \"go--\", label=\"AIC\")\n",
        "plt.xlabel(\"$k$\")\n",
        "plt.ylabel(\"Information Criterion\")\n",
        "plt.axis([1, 9.5, min(aics) - 50, max(aics) + 50])\n",
        "plt.legend()\n",
        "plt.grid()\n",
        "plt.show()"
      ],
      "metadata": {
        "colab": {
          "base_uri": "https://localhost:8080/",
          "height": 312
        },
        "id": "9zN5nG58lpib",
        "outputId": "bb376c8a-d939-4da4-c92c-0f84cbc4f1f1"
      },
      "execution_count": 15,
      "outputs": [
        {
          "output_type": "display_data",
          "data": {
            "text/plain": [
              "<Figure size 800x300 with 1 Axes>"
            ],
            "image/png": "[encoded data removed]"
          },
          "metadata": {}
        }
      ]
    },
    {
      "cell_type": "markdown",
      "source": [
        "Iris Accuracy"
      ],
      "metadata": {
        "id": "q2dUBD2MG5Pe"
      }
    },
    {
      "cell_type": "code",
      "source": [
        "iris_pred = gm.predict(df_iris[['SepalLengthCm', 'PetalWidthCm']])"
      ],
      "metadata": {
        "id": "y8By3I-ydlx5"
      },
      "execution_count": 16,
      "outputs": []
    },
    {
      "cell_type": "code",
      "source": [
        "true_labels = df_iris['Species'].apply(lambda x: {'Iris-setosa': 0, 'Iris-versicolor': 2, 'Iris-virginica': 1}[x]).values"
      ],
      "metadata": {
        "id": "HEjRNaxqG3Pl"
      },
      "execution_count": 52,
      "outputs": []
    },
    {
      "cell_type": "code",
      "source": [
        "accuracy = accuracy_score(true_labels, iris_pred)\n",
        "print(f'Accuracy: {accuracy}')"
      ],
      "metadata": {
        "colab": {
          "base_uri": "https://localhost:8080/"
        },
        "id": "TH8q8sA2xL5-",
        "outputId": "52e8ba4a-1e44-456f-f143-180dd5ef9481"
      },
      "execution_count": 53,
      "outputs": [
        {
          "output_type": "stream",
          "name": "stdout",
          "text": [
            "Accuracy: 0.96\n"
          ]
        }
      ]
    },
    {
      "cell_type": "code",
      "source": [
        "iris_cm = confusion_matrix(true_labels, iris_pred)"
      ],
      "metadata": {
        "id": "cPOWeK6r6QQh"
      },
      "execution_count": 54,
      "outputs": []
    },
    {
      "cell_type": "code",
      "source": [
        "iris_disp = ConfusionMatrixDisplay(confusion_matrix=iris_cm, display_labels=['Iris-setosa', 'Iris-versicolor', 'Iris-virginica'])\n",
        "iris_disp.plot(cmap='Blues')\n",
        "plt.show()"
      ],
      "metadata": {
        "colab": {
          "base_uri": "https://localhost:8080/",
          "height": 449
        },
        "id": "8iFAmAsB6tCh",
        "outputId": "b54aa4b4-b25d-4b65-d699-8c32b98f80db"
      },
      "execution_count": 55,
      "outputs": [
        {
          "output_type": "display_data",
          "data": {
            "text/plain": [
              "<Figure size 640x480 with 2 Axes>"
            ],
            "image/png": "[encoded data removed]"
          },
          "metadata": {}
        }
      ]
    },
    {
      "cell_type": "markdown",
      "source": [
        "# Penguins Dataset"
      ],
      "metadata": {
        "id": "EDpyfnwV1Ud2"
      }
    },
    {
      "cell_type": "code",
      "source": [
        "print('Weights:\\n',gm_1.weights_)\n",
        "print('Means:\\n', gm_1.means_)\n",
        "print('Covariances:\\n', gm_1.covariances_)\n",
        "print('Converged:\\n', gm_1.converged_)\n",
        "print('Iterations:\\n', gm_1.n_iter_)"
      ],
      "metadata": {
        "colab": {
          "base_uri": "https://localhost:8080/"
        },
        "id": "U-x-lYfg1cjf",
        "outputId": "3ba7cf64-3cd3-408f-b8dd-7ba2dec4dad9"
      },
      "execution_count": 21,
      "outputs": [
        {
          "output_type": "stream",
          "name": "stdout",
          "text": [
            "Weights:\n",
            " [0.31681534 0.35725344 0.32593123]\n",
            "Means:\n",
            " [[ 19.0123442  196.24575248]\n",
            " [ 14.99636189 217.23735971]\n",
            " [ 17.74595479 187.72214665]]\n",
            "Covariances:\n",
            " [[[ 1.21940199  1.02776019]\n",
            "  [ 1.02776019 36.91934156]]\n",
            "\n",
            " [[ 0.96391048  4.57806068]\n",
            "  [ 4.57806068 42.99571529]]\n",
            "\n",
            " [[ 0.81061443  0.04952097]\n",
            "  [ 0.04952097 30.62695057]]]\n",
            "Converged:\n",
            " True\n",
            "Iterations:\n",
            " 8\n"
          ]
        }
      ]
    },
    {
      "cell_type": "code",
      "source": [
        "gm_1.predict_proba(df_penguin[['bill_depth_mm', 'flipper_length_mm']]).round(3)"
      ],
      "metadata": {
        "colab": {
          "base_uri": "https://localhost:8080/"
        },
        "id": "h1AWYi601pLP",
        "outputId": "745bf9c1-96d0-46e3-ca46-e5cdce35d338"
      },
      "execution_count": 22,
      "outputs": [
        {
          "output_type": "execute_result",
          "data": {
            "text/plain": [
              "array([[0.104, 0.   , 0.896],\n",
              "       [0.087, 0.   , 0.913],\n",
              "       [0.541, 0.   , 0.459],\n",
              "       [0.804, 0.   , 0.196],\n",
              "       [0.95 , 0.   , 0.05 ],\n",
              "       [0.048, 0.   , 0.952],\n",
              "       [0.921, 0.   , 0.079],\n",
              "       [0.05 , 0.   , 0.95 ],\n",
              "       [0.989, 0.   , 0.011],\n",
              "       [0.998, 0.   , 0.002],\n",
              "       [0.096, 0.   , 0.904],\n",
              "       [0.815, 0.   , 0.185],\n",
              "       [0.995, 0.   , 0.005],\n",
              "       [0.132, 0.   , 0.868],\n",
              "       [0.998, 0.   , 0.002],\n",
              "       [0.023, 0.   , 0.977],\n",
              "       [0.087, 0.   , 0.913],\n",
              "       [0.559, 0.   , 0.441],\n",
              "       [0.122, 0.   , 0.878],\n",
              "       [0.029, 0.   , 0.971],\n",
              "       [0.343, 0.   , 0.657],\n",
              "       [0.134, 0.   , 0.866],\n",
              "       [0.147, 0.   , 0.853],\n",
              "       [0.022, 0.   , 0.978],\n",
              "       [0.107, 0.   , 0.893],\n",
              "       [0.018, 0.   , 0.982],\n",
              "       [0.037, 0.   , 0.963],\n",
              "       [0.163, 0.   , 0.837],\n",
              "       [0.212, 0.   , 0.788],\n",
              "       [0.319, 0.   , 0.681],\n",
              "       [0.997, 0.   , 0.003],\n",
              "       [0.858, 0.   , 0.142],\n",
              "       [0.072, 0.   , 0.928],\n",
              "       [0.194, 0.   , 0.806],\n",
              "       [0.258, 0.   , 0.742],\n",
              "       [0.066, 0.   , 0.934],\n",
              "       [0.656, 0.   , 0.344],\n",
              "       [0.205, 0.   , 0.795],\n",
              "       [0.949, 0.   , 0.051],\n",
              "       [0.056, 0.   , 0.944],\n",
              "       [0.481, 0.   , 0.519],\n",
              "       [0.167, 0.   , 0.833],\n",
              "       [0.247, 0.   , 0.753],\n",
              "       [0.989, 0.   , 0.011],\n",
              "       [0.106, 0.   , 0.894],\n",
              "       [0.397, 0.   , 0.603],\n",
              "       [0.247, 0.   , 0.753],\n",
              "       [0.977, 0.   , 0.023],\n",
              "       [0.173, 0.   , 0.827],\n",
              "       [0.476, 0.   , 0.524],\n",
              "       [0.093, 0.   , 0.907],\n",
              "       [0.661, 0.   , 0.339],\n",
              "       [0.027, 0.   , 0.973],\n",
              "       [0.797, 0.   , 0.203],\n",
              "       [0.056, 0.   , 0.944],\n",
              "       [0.996, 0.   , 0.004],\n",
              "       [0.058, 0.   , 0.942],\n",
              "       [0.416, 0.   , 0.584],\n",
              "       [0.052, 0.   , 0.948],\n",
              "       [0.364, 0.   , 0.636],\n",
              "       [0.229, 0.   , 0.771],\n",
              "       [0.464, 0.   , 0.536],\n",
              "       [0.114, 0.   , 0.886],\n",
              "       [0.951, 0.   , 0.049],\n",
              "       [0.549, 0.   , 0.451],\n",
              "       [0.359, 0.   , 0.641],\n",
              "       [0.408, 0.   , 0.592],\n",
              "       [0.867, 0.   , 0.133],\n",
              "       [0.187, 0.   , 0.813],\n",
              "       [0.684, 0.   , 0.316],\n",
              "       [0.149, 0.   , 0.851],\n",
              "       [0.345, 0.   , 0.655],\n",
              "       [0.06 , 0.   , 0.94 ],\n",
              "       [0.837, 0.   , 0.163],\n",
              "       [0.13 , 0.   , 0.87 ],\n",
              "       [0.497, 0.   , 0.503],\n",
              "       [0.315, 0.   , 0.685],\n",
              "       [0.828, 0.   , 0.172],\n",
              "       [0.271, 0.   , 0.729],\n",
              "       [0.97 , 0.   , 0.03 ],\n",
              "       [0.721, 0.   , 0.279],\n",
              "       [0.361, 0.   , 0.639],\n",
              "       [0.559, 0.   , 0.441],\n",
              "       [0.481, 0.   , 0.519],\n",
              "       [0.883, 0.   , 0.117],\n",
              "       [0.954, 0.   , 0.046],\n",
              "       [0.061, 0.   , 0.939],\n",
              "       [0.145, 0.   , 0.855],\n",
              "       [0.097, 0.   , 0.903],\n",
              "       [0.995, 0.   , 0.005],\n",
              "       [0.417, 0.   , 0.583],\n",
              "       [0.738, 0.   , 0.262],\n",
              "       [0.017, 0.   , 0.983],\n",
              "       [0.505, 0.   , 0.495],\n",
              "       [0.34 , 0.   , 0.66 ],\n",
              "       [0.997, 0.   , 0.003],\n",
              "       [0.032, 0.   , 0.968],\n",
              "       [0.858, 0.   , 0.142],\n",
              "       [0.598, 0.   , 0.402],\n",
              "       [0.212, 0.   , 0.788],\n",
              "       [0.588, 0.   , 0.412],\n",
              "       [0.858, 0.   , 0.142],\n",
              "       [0.031, 0.   , 0.969],\n",
              "       [0.884, 0.   , 0.116],\n",
              "       [0.401, 0.   , 0.599],\n",
              "       [0.933, 0.   , 0.067],\n",
              "       [0.348, 0.   , 0.652],\n",
              "       [0.946, 0.   , 0.054],\n",
              "       [0.969, 0.   , 0.031],\n",
              "       [0.685, 0.   , 0.315],\n",
              "       [0.098, 0.   , 0.902],\n",
              "       [0.996, 0.   , 0.004],\n",
              "       [0.116, 0.   , 0.884],\n",
              "       [0.361, 0.   , 0.639],\n",
              "       [0.091, 0.   , 0.909],\n",
              "       [0.976, 0.   , 0.024],\n",
              "       [0.015, 0.   , 0.985],\n",
              "       [0.937, 0.   , 0.063],\n",
              "       [0.05 , 0.   , 0.95 ],\n",
              "       [0.931, 0.   , 0.069],\n",
              "       [0.237, 0.   , 0.763],\n",
              "       [0.627, 0.   , 0.373],\n",
              "       [0.174, 0.   , 0.826],\n",
              "       [0.988, 0.   , 0.012],\n",
              "       [0.247, 0.   , 0.753],\n",
              "       [0.913, 0.   , 0.087],\n",
              "       [0.566, 0.   , 0.434],\n",
              "       [0.864, 0.   , 0.136],\n",
              "       [0.118, 0.   , 0.882],\n",
              "       [0.187, 0.   , 0.813],\n",
              "       [0.222, 0.   , 0.778],\n",
              "       [0.993, 0.   , 0.007],\n",
              "       [0.048, 0.   , 0.952],\n",
              "       [0.395, 0.   , 0.605],\n",
              "       [0.244, 0.   , 0.756],\n",
              "       [0.091, 0.   , 0.909],\n",
              "       [0.066, 0.   , 0.934],\n",
              "       [0.138, 0.   , 0.862],\n",
              "       [0.176, 0.   , 0.824],\n",
              "       [0.208, 0.   , 0.792],\n",
              "       [0.417, 0.   , 0.583],\n",
              "       [0.132, 0.   , 0.868],\n",
              "       [0.487, 0.   , 0.513],\n",
              "       [0.447, 0.   , 0.553],\n",
              "       [0.087, 0.   , 0.913],\n",
              "       [0.918, 0.   , 0.082],\n",
              "       [0.   , 1.   , 0.   ],\n",
              "       [0.   , 1.   , 0.   ],\n",
              "       [0.   , 1.   , 0.   ],\n",
              "       [0.   , 1.   , 0.   ],\n",
              "       [0.   , 1.   , 0.   ],\n",
              "       [0.   , 1.   , 0.   ],\n",
              "       [0.   , 1.   , 0.   ],\n",
              "       [0.   , 1.   , 0.   ],\n",
              "       [0.   , 1.   , 0.   ],\n",
              "       [0.   , 1.   , 0.   ],\n",
              "       [0.   , 1.   , 0.   ],\n",
              "       [0.   , 1.   , 0.   ],\n",
              "       [0.   , 1.   , 0.   ],\n",
              "       [0.   , 1.   , 0.   ],\n",
              "       [0.   , 1.   , 0.   ],\n",
              "       [0.   , 1.   , 0.   ],\n",
              "       [0.   , 1.   , 0.   ],\n",
              "       [0.   , 1.   , 0.   ],\n",
              "       [0.   , 1.   , 0.   ],\n",
              "       [0.   , 1.   , 0.   ],\n",
              "       [0.   , 1.   , 0.   ],\n",
              "       [0.   , 1.   , 0.   ],\n",
              "       [0.   , 1.   , 0.   ],\n",
              "       [0.   , 1.   , 0.   ],\n",
              "       [0.   , 1.   , 0.   ],\n",
              "       [0.   , 1.   , 0.   ],\n",
              "       [0.   , 1.   , 0.   ],\n",
              "       [0.   , 1.   , 0.   ],\n",
              "       [0.   , 1.   , 0.   ],\n",
              "       [0.   , 1.   , 0.   ],\n",
              "       [0.   , 1.   , 0.   ],\n",
              "       [0.   , 1.   , 0.   ],\n",
              "       [0.   , 1.   , 0.   ],\n",
              "       [0.   , 1.   , 0.   ],\n",
              "       [0.   , 1.   , 0.   ],\n",
              "       [0.   , 1.   , 0.   ],\n",
              "       [0.006, 0.994, 0.   ],\n",
              "       [0.   , 1.   , 0.   ],\n",
              "       [0.019, 0.978, 0.004],\n",
              "       [0.   , 1.   , 0.   ],\n",
              "       [0.   , 1.   , 0.   ],\n",
              "       [0.   , 1.   , 0.   ],\n",
              "       [0.   , 1.   , 0.   ],\n",
              "       [0.   , 1.   , 0.   ],\n",
              "       [0.   , 1.   , 0.   ],\n",
              "       [0.   , 1.   , 0.   ],\n",
              "       [0.   , 1.   , 0.   ],\n",
              "       [0.   , 1.   , 0.   ],\n",
              "       [0.   , 1.   , 0.   ],\n",
              "       [0.   , 1.   , 0.   ],\n",
              "       [0.   , 1.   , 0.   ],\n",
              "       [0.   , 1.   , 0.   ],\n",
              "       [0.   , 1.   , 0.   ],\n",
              "       [0.   , 1.   , 0.   ],\n",
              "       [0.   , 1.   , 0.   ],\n",
              "       [0.   , 1.   , 0.   ],\n",
              "       [0.   , 1.   , 0.   ],\n",
              "       [0.   , 1.   , 0.   ],\n",
              "       [0.   , 1.   , 0.   ],\n",
              "       [0.   , 1.   , 0.   ],\n",
              "       [0.   , 1.   , 0.   ],\n",
              "       [0.   , 1.   , 0.   ],\n",
              "       [0.   , 1.   , 0.   ],\n",
              "       [0.   , 1.   , 0.   ],\n",
              "       [0.   , 1.   , 0.   ],\n",
              "       [0.   , 1.   , 0.   ],\n",
              "       [0.   , 1.   , 0.   ],\n",
              "       [0.   , 1.   , 0.   ],\n",
              "       [0.   , 1.   , 0.   ],\n",
              "       [0.   , 1.   , 0.   ],\n",
              "       [0.   , 1.   , 0.   ],\n",
              "       [0.   , 1.   , 0.   ],\n",
              "       [0.   , 1.   , 0.   ],\n",
              "       [0.   , 1.   , 0.   ],\n",
              "       [0.   , 1.   , 0.   ],\n",
              "       [0.   , 1.   , 0.   ],\n",
              "       [0.   , 1.   , 0.   ],\n",
              "       [0.   , 1.   , 0.   ],\n",
              "       [0.   , 1.   , 0.   ],\n",
              "       [0.   , 1.   , 0.   ],\n",
              "       [0.   , 1.   , 0.   ],\n",
              "       [0.   , 1.   , 0.   ],\n",
              "       [0.   , 1.   , 0.   ],\n",
              "       [0.   , 1.   , 0.   ],\n",
              "       [0.   , 1.   , 0.   ],\n",
              "       [0.   , 1.   , 0.   ],\n",
              "       [0.   , 1.   , 0.   ],\n",
              "       [0.   , 1.   , 0.   ],\n",
              "       [0.   , 1.   , 0.   ],\n",
              "       [0.   , 1.   , 0.   ],\n",
              "       [0.   , 1.   , 0.   ],\n",
              "       [0.   , 1.   , 0.   ],\n",
              "       [0.   , 1.   , 0.   ],\n",
              "       [0.   , 1.   , 0.   ],\n",
              "       [0.   , 1.   , 0.   ],\n",
              "       [0.   , 1.   , 0.   ],\n",
              "       [0.001, 0.999, 0.   ],\n",
              "       [0.   , 1.   , 0.   ],\n",
              "       [0.   , 1.   , 0.   ],\n",
              "       [0.   , 1.   , 0.   ],\n",
              "       [0.   , 1.   , 0.   ],\n",
              "       [0.   , 1.   , 0.   ],\n",
              "       [0.   , 1.   , 0.   ],\n",
              "       [0.   , 1.   , 0.   ],\n",
              "       [0.   , 1.   , 0.   ],\n",
              "       [0.   , 1.   , 0.   ],\n",
              "       [0.   , 1.   , 0.   ],\n",
              "       [0.   , 1.   , 0.   ],\n",
              "       [0.   , 1.   , 0.   ],\n",
              "       [0.   , 1.   , 0.   ],\n",
              "       [0.   , 1.   , 0.   ],\n",
              "       [0.   , 1.   , 0.   ],\n",
              "       [0.   , 1.   , 0.   ],\n",
              "       [0.   , 1.   , 0.   ],\n",
              "       [0.   , 1.   , 0.   ],\n",
              "       [0.   , 1.   , 0.   ],\n",
              "       [0.   , 1.   , 0.   ],\n",
              "       [0.   , 1.   , 0.   ],\n",
              "       [0.002, 0.998, 0.   ],\n",
              "       [0.34 , 0.   , 0.66 ],\n",
              "       [0.929, 0.   , 0.071],\n",
              "       [0.778, 0.   , 0.222],\n",
              "       [0.337, 0.   , 0.663],\n",
              "       [0.968, 0.   , 0.032],\n",
              "       [0.669, 0.   , 0.331],\n",
              "       [0.04 , 0.   , 0.96 ],\n",
              "       [0.713, 0.   , 0.287],\n",
              "       [0.791, 0.   , 0.209],\n",
              "       [0.98 , 0.   , 0.02 ],\n",
              "       [0.371, 0.   , 0.629],\n",
              "       [0.97 , 0.   , 0.03 ],\n",
              "       [0.069, 0.   , 0.931],\n",
              "       [0.866, 0.   , 0.134],\n",
              "       [0.146, 0.   , 0.854],\n",
              "       [0.986, 0.   , 0.014],\n",
              "       [0.978, 0.   , 0.022],\n",
              "       [0.048, 0.   , 0.952],\n",
              "       [0.417, 0.   , 0.583],\n",
              "       [0.598, 0.   , 0.402],\n",
              "       [0.035, 0.   , 0.965],\n",
              "       [0.222, 0.   , 0.778],\n",
              "       [0.069, 0.   , 0.931],\n",
              "       [0.828, 0.   , 0.172],\n",
              "       [0.514, 0.   , 0.486],\n",
              "       [0.884, 0.   , 0.116],\n",
              "       [0.88 , 0.   , 0.12 ],\n",
              "       [0.947, 0.   , 0.053],\n",
              "       [0.271, 0.   , 0.729],\n",
              "       [0.998, 0.   , 0.002],\n",
              "       [0.069, 0.   , 0.931],\n",
              "       [0.999, 0.   , 0.001],\n",
              "       [0.072, 0.   , 0.928],\n",
              "       [0.97 , 0.   , 0.03 ],\n",
              "       [0.712, 0.   , 0.288],\n",
              "       [0.508, 0.   , 0.492],\n",
              "       [0.627, 0.   , 0.373],\n",
              "       [1.   , 0.   , 0.   ],\n",
              "       [0.161, 0.   , 0.839],\n",
              "       [0.998, 0.   , 0.002],\n",
              "       [0.999, 0.   , 0.001],\n",
              "       [0.11 , 0.   , 0.89 ],\n",
              "       [0.871, 0.   , 0.129],\n",
              "       [0.371, 0.   , 0.629],\n",
              "       [0.575, 0.   , 0.425],\n",
              "       [0.918, 0.   , 0.082],\n",
              "       [0.247, 0.   , 0.753],\n",
              "       [1.   , 0.   , 0.   ],\n",
              "       [0.289, 0.   , 0.711],\n",
              "       [0.549, 0.   , 0.451],\n",
              "       [0.443, 0.   , 0.557],\n",
              "       [0.96 , 0.   , 0.04 ],\n",
              "       [0.273, 0.   , 0.727],\n",
              "       [0.994, 0.   , 0.006],\n",
              "       [0.097, 0.   , 0.903],\n",
              "       [0.849, 0.   , 0.151],\n",
              "       [0.136, 0.   , 0.864],\n",
              "       [0.996, 0.   , 0.004],\n",
              "       [0.959, 0.   , 0.041],\n",
              "       [0.863, 0.   , 0.137],\n",
              "       [0.997, 0.   , 0.003],\n",
              "       [0.093, 0.   , 0.907],\n",
              "       [0.319, 0.   , 0.681],\n",
              "       [0.999, 0.   , 0.001],\n",
              "       [0.896, 0.   , 0.104],\n",
              "       [0.475, 0.   , 0.525],\n",
              "       [0.998, 0.   , 0.002],\n",
              "       [0.865, 0.   , 0.135]])"
            ]
          },
          "metadata": {},
          "execution_count": 22
        }
      ]
    },
    {
      "cell_type": "code",
      "source": [
        "X_new_1, y_new_1 = gm_1.sample(6)\n",
        "X_new_1"
      ],
      "metadata": {
        "colab": {
          "base_uri": "https://localhost:8080/"
        },
        "id": "tficPn5V1s1t",
        "outputId": "c88c059a-ac5a-4e52-bb8c-8a0663c21f8b"
      },
      "execution_count": 23,
      "outputs": [
        {
          "output_type": "execute_result",
          "data": {
            "text/plain": [
              "array([[ 20.5220962 , 187.0457783 ],\n",
              "       [ 18.02167204, 196.45017275],\n",
              "       [ 14.66553688, 221.33273342],\n",
              "       [ 16.37516872, 218.4329103 ],\n",
              "       [ 17.18385943, 184.37100636],\n",
              "       [ 18.17058677, 186.70571236]])"
            ]
          },
          "metadata": {},
          "execution_count": 23
        }
      ]
    },
    {
      "cell_type": "code",
      "source": [
        "y_new_1"
      ],
      "metadata": {
        "colab": {
          "base_uri": "https://localhost:8080/"
        },
        "id": "xgEW45pw1s34",
        "outputId": "cd310a42-96df-4ed9-906d-9eafc8e35d7a"
      },
      "execution_count": 24,
      "outputs": [
        {
          "output_type": "execute_result",
          "data": {
            "text/plain": [
              "array([0, 0, 1, 1, 2, 2])"
            ]
          },
          "metadata": {},
          "execution_count": 24
        }
      ]
    },
    {
      "cell_type": "code",
      "source": [
        "gm_1.score_samples(df_penguin[['bill_depth_mm', 'flipper_length_mm']]).round(2)"
      ],
      "metadata": {
        "colab": {
          "base_uri": "https://localhost:8080/"
        },
        "id": "ByakCfOb10NF",
        "outputId": "817f2073-aae0-428f-fc5e-a984e9ba81bc"
      },
      "execution_count": 25,
      "outputs": [
        {
          "output_type": "execute_result",
          "data": {
            "text/plain": [
              "array([-5.77, -4.6 , -4.69, -4.86, -6.66, -5.26, -4.98, -5.06, -7.53,\n",
              "       -6.66, -4.59, -4.7 , -6.05, -4.92, -7.68, -7.82, -6.02, -5.07,\n",
              "       -4.64, -5.68, -4.98, -5.24, -4.43, -9.06, -6.26, -6.74, -6.15,\n",
              "       -4.39, -5.38, -5.4 , -6.72, -5.82, -5.83, -6.6 , -5.63, -5.07,\n",
              "       -4.62, -4.74, -5.03, -5.07, -4.68, -5.9 , -4.38, -7.53, -4.5 ,\n",
              "       -4.88, -4.38, -5.11, -4.46, -4.54, -4.55, -4.61, -6.07, -4.73,\n",
              "       -5.07, -6.79, -4.96, -4.45, -4.99, -4.45, -6.67, -5.07, -5.34,\n",
              "       -4.92, -4.82, -4.46, -5.35, -4.75, -4.48, -4.62, -5.14, -6.07,\n",
              "       -6.18, -4.73, -4.64, -5.01, -4.88, -4.93, -4.43, -5.68, -5.26,\n",
              "       -4.59, -5.07, -4.68, -5.78, -6.43, -4.88, -4.54, -4.59, -6.83,\n",
              "       -4.56, -4.68, -7.73, -4.5 , -4.46, -5.76, -6.76, -5.82, -4.55,\n",
              "       -5.38, -5.95, -5.82, -5.6 , -4.76, -6.76, -6.05, -4.59, -4.92,\n",
              "       -6.63, -4.71, -4.81, -5.81, -4.81, -4.59, -4.66, -5.13, -7.12,\n",
              "       -5.45, -6.66, -4.91, -4.48, -4.63, -4.81, -8.25, -4.38, -4.81,\n",
              "       -4.53, -4.98, -4.46, -4.48, -4.53, -5.47, -5.59, -4.53, -5.  ,\n",
              "       -4.66, -7.61, -4.85, -5.23, -5.02, -4.56, -4.92, -4.76, -4.5 ,\n",
              "       -4.74, -5.27, -6.17, -6.27, -5.  , -4.4 , -4.51, -5.54, -4.9 ,\n",
              "       -4.43, -5.71, -4.87, -5.45, -6.  , -5.45, -4.59, -5.13, -4.94,\n",
              "       -5.54, -4.58, -5.32, -4.81, -5.02, -4.51, -4.59, -5.57, -7.32,\n",
              "       -4.56, -4.5 , -4.99, -4.47, -4.68, -5.17, -5.97, -6.71, -4.72,\n",
              "       -5.54, -5.34, -9.11, -5.55, -8.33, -5.47, -5.11, -5.28, -4.41,\n",
              "       -4.81, -5.58, -5.1 , -5.08, -6.21, -5.57, -4.99, -5.95, -5.02,\n",
              "       -5.79, -4.72, -4.48, -5.38, -4.55, -5.62, -5.09, -5.42, -4.8 ,\n",
              "       -5.09, -7.19, -5.43, -6.48, -5.99, -5.71, -5.15, -4.41, -4.58,\n",
              "       -4.58, -4.41, -4.41, -6.4 , -5.17, -5.54, -5.4 , -5.42, -4.7 ,\n",
              "       -4.58, -4.72, -4.94, -5.12, -7.13, -4.87, -5.19, -4.9 , -6.71,\n",
              "       -4.39, -6.69, -4.7 , -5.06, -4.5 , -5.33, -5.31, -5.5 , -7.62,\n",
              "       -5.56, -4.45, -6.5 , -5.01, -7.09, -6.32, -5.22, -4.81, -5.37,\n",
              "       -6.18, -4.51, -6.11, -5.04, -6.27, -5.17, -6.4 , -5.15, -5.45,\n",
              "       -4.66, -4.68, -4.83, -7.12, -4.46, -4.91, -4.8 , -4.72, -5.1 ,\n",
              "       -5.19, -6.2 , -4.84, -4.67, -5.2 , -4.56, -5.68, -4.73, -5.5 ,\n",
              "       -4.75, -5.26, -5.26, -5.26, -4.56, -4.64, -5.38, -4.53, -5.31,\n",
              "       -4.93, -4.72, -4.76, -5.16, -5.02, -4.43, -6.15, -5.31, -6.33,\n",
              "       -5.17, -5.53, -4.62, -6.5 , -4.63, -8.16, -5.51, -6.09, -7.44,\n",
              "       -4.49, -4.75, -5.58, -4.84, -5.27, -4.38, -8.25, -4.8 , -5.62,\n",
              "       -7.2 , -5.15, -4.83, -5.6 , -4.59, -4.75, -5.41, -5.7 , -5.34,\n",
              "       -4.89, -6.18, -5.45, -5.4 , -6.54, -5.7 , -4.5 , -7.5 , -4.83])"
            ]
          },
          "metadata": {},
          "execution_count": 25
        }
      ]
    },
    {
      "cell_type": "code",
      "source": [
        "densities_1 = gm_1.score_samples(df_penguin[['bill_depth_mm', 'flipper_length_mm']])\n",
        "density_threshold_1 = np.percentile(densities_1, 2)\n",
        "anomalies_1 = df_penguin[densities_1 < density_threshold_1]"
      ],
      "metadata": {
        "id": "B-bqgjbM10Pa"
      },
      "execution_count": 26,
      "outputs": []
    },
    {
      "cell_type": "code",
      "source": [
        "plt.figure(figsize=(8, 4))\n",
        "\n",
        "plot_gaussian_mixture(gm_1, df_penguin[['bill_depth_mm', 'flipper_length_mm']])\n",
        "# Calculated centers for kmeans model\n",
        "k_means_centroids = [15.188281, 216.960938], [18.008036, 186.1875], [18.673529, 196.95098]\n",
        "colors = ['red', 'green', 'yellow']\n",
        "for i in range(len(k_means_centroids)):\n",
        "    plt.plot(k_means_centroids[i][0], k_means_centroids[i][1], 'X', color=colors[i])\n",
        "plt.plot()\n",
        "plt.show()"
      ],
      "metadata": {
        "colab": {
          "base_uri": "https://localhost:8080/",
          "height": 550
        },
        "id": "vuQj4i-Nz81C",
        "outputId": "3dd9cc17-e41c-40a4-bad2-958296327341"
      },
      "execution_count": 27,
      "outputs": [
        {
          "output_type": "stream",
          "name": "stderr",
          "text": [
            "<ipython-input-5-9de137799c41>:14: FutureWarning: Series.__getitem__ treating keys as positions is deprecated. In a future version, integer keys will always be treated as labels (consistent with DataFrame behavior). To access a value by position, use `ser.iloc[pos]`\n",
            "  xx, yy = np.meshgrid(np.linspace(mins[0], maxs[0], resolution),\n",
            "<ipython-input-5-9de137799c41>:15: FutureWarning: Series.__getitem__ treating keys as positions is deprecated. In a future version, integer keys will always be treated as labels (consistent with DataFrame behavior). To access a value by position, use `ser.iloc[pos]`\n",
            "  np.linspace(mins[1], maxs[1], resolution))\n",
            "/usr/local/lib/python3.10/dist-packages/sklearn/base.py:493: UserWarning: X does not have valid feature names, but GaussianMixture was fitted with feature names\n",
            "  warnings.warn(\n",
            "/usr/local/lib/python3.10/dist-packages/sklearn/base.py:493: UserWarning: X does not have valid feature names, but GaussianMixture was fitted with feature names\n",
            "  warnings.warn(\n"
          ]
        },
        {
          "output_type": "display_data",
          "data": {
            "text/plain": [
              "<Figure size 800x400 with 1 Axes>"
            ],
            "image/png": "[encoded data removed]"
          },
          "metadata": {}
        }
      ]
    },
    {
      "cell_type": "code",
      "source": [
        "gm_1.bic(df_penguin[['bill_depth_mm', 'flipper_length_mm']])"
      ],
      "metadata": {
        "colab": {
          "base_uri": "https://localhost:8080/"
        },
        "id": "c9EEwc8_1J6s",
        "outputId": "b2dc4a71-c885-4365-f6e8-42bbe23fc448"
      },
      "execution_count": 28,
      "outputs": [
        {
          "output_type": "execute_result",
          "data": {
            "text/plain": [
              "3660.1018324475976"
            ]
          },
          "metadata": {},
          "execution_count": 28
        }
      ]
    },
    {
      "cell_type": "code",
      "source": [
        "gm_1.aic(df_penguin[['bill_depth_mm', 'flipper_length_mm']])"
      ],
      "metadata": {
        "colab": {
          "base_uri": "https://localhost:8080/"
        },
        "id": "ROpq3rjk1J9H",
        "outputId": "035907c3-c286-4718-aec8-d86ff5688cd0"
      },
      "execution_count": 29,
      "outputs": [
        {
          "output_type": "execute_result",
          "data": {
            "text/plain": [
              "3595.36341011793"
            ]
          },
          "metadata": {},
          "execution_count": 29
        }
      ]
    },
    {
      "cell_type": "code",
      "source": [
        "gms_per_k = [GaussianMixture(n_components=k, n_init=10, random_state=42).fit(df_penguin[['bill_length_mm', 'bill_depth_mm', 'flipper_length_mm', 'body_mass_g']])\n",
        "             for k in range(1, 11)]\n",
        "bics = [model.bic(df_penguin[['bill_length_mm', 'bill_depth_mm', 'flipper_length_mm', 'body_mass_g']]) for model in gms_per_k]\n",
        "aics = [model.aic(df_penguin[['bill_length_mm', 'bill_depth_mm', 'flipper_length_mm', 'body_mass_g']]) for model in gms_per_k]\n",
        "\n",
        "plt.figure(figsize=(8, 3))\n",
        "plt.plot(range(1, 11), bics, \"bo-\", label=\"BIC\")\n",
        "plt.plot(range(1, 11), aics, \"go--\", label=\"AIC\")\n",
        "plt.xlabel(\"$k$\")\n",
        "plt.ylabel(\"Information Criterion\")\n",
        "plt.axis([1, 9.5, min(aics) - 50, max(aics) + 50])\n",
        "plt.legend()\n",
        "plt.grid()\n",
        "plt.show()"
      ],
      "metadata": {
        "colab": {
          "base_uri": "https://localhost:8080/",
          "height": 312
        },
        "id": "GsG91D2Z0MZ9",
        "outputId": "7146b5ed-2079-40ac-a177-d8d4e77744b1"
      },
      "execution_count": 30,
      "outputs": [
        {
          "output_type": "display_data",
          "data": {
            "text/plain": [
              "<Figure size 800x300 with 1 Axes>"
            ],
            "image/png": "[encoded data removed]"
          },
          "metadata": {}
        }
      ]
    },
    {
      "cell_type": "markdown",
      "source": [
        "Penguin Accuracy"
      ],
      "metadata": {
        "id": "UvTgXceoHBFA"
      }
    },
    {
      "cell_type": "code",
      "source": [
        "penguins_pred = gm_1.predict(df_penguin[['bill_depth_mm', 'flipper_length_mm']])"
      ],
      "metadata": {
        "id": "gsEAKjRm1pEQ"
      },
      "execution_count": 31,
      "outputs": []
    },
    {
      "cell_type": "code",
      "source": [
        "true_labels = df_penguin['species'].apply(lambda x: {'Adelie': 2, 'Chinstrap': 0, 'Gentoo': 1}[x]).values"
      ],
      "metadata": {
        "id": "nENgrWFdq6Qr"
      },
      "execution_count": 40,
      "outputs": []
    },
    {
      "cell_type": "code",
      "source": [
        "accuracy = accuracy_score(true_labels, penguins_pred)\n",
        "print(f'Accuracy: {accuracy}')"
      ],
      "metadata": {
        "colab": {
          "base_uri": "https://localhost:8080/"
        },
        "id": "k5rjNBslw0N3",
        "outputId": "72f847c9-d577-4f17-b4a6-125e794b5c05"
      },
      "execution_count": 41,
      "outputs": [
        {
          "output_type": "stream",
          "name": "stdout",
          "text": [
            "Accuracy: 0.7597597597597597\n"
          ]
        }
      ]
    },
    {
      "cell_type": "code",
      "source": [
        "penguin_cm = confusion_matrix(true_labels, penguins_pred)"
      ],
      "metadata": {
        "id": "VHcf97_Lw3Ow"
      },
      "execution_count": 42,
      "outputs": []
    },
    {
      "cell_type": "code",
      "source": [
        "penguin_disp = ConfusionMatrixDisplay(confusion_matrix=iris_cm, display_labels=['Adelie', 'Chinstrap', 'Gentoo'])\n",
        "penguin_disp.plot(cmap='Blues')\n",
        "plt.show()"
      ],
      "metadata": {
        "colab": {
          "base_uri": "https://localhost:8080/",
          "height": 449
        },
        "id": "sMazcCUP52Qc",
        "outputId": "d1d61d4f-6410-42fe-cd23-a6c98d3c8ff7"
      },
      "execution_count": 43,
      "outputs": [
        {
          "output_type": "display_data",
          "data": {
            "text/plain": [
              "<Figure size 640x480 with 2 Axes>"
            ],
            "image/png": "[encoded data removed]"
          },
          "metadata": {}
        }
      ]
    },
    {
      "cell_type": "code",
      "source": [],
      "metadata": {
        "id": "jgbQbC8lFXCT"
      },
      "execution_count": 35,
      "outputs": []
    }
  ]
}