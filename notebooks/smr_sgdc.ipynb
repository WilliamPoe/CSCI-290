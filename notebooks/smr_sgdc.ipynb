{
  "nbformat": 4,
  "nbformat_minor": 0,
  "metadata": {
    "colab": {
      "provenance": [],
      "authorship_tag": "ABX9TyPPFp6LXZItC3DpmZPq1qY2",
      "include_colab_link": true
    },
    "kernelspec": {
      "name": "python3",
      "display_name": "Python 3"
    },
    "language_info": {
      "name": "python"
    }
  },
  "cells": [
    {
      "cell_type": "markdown",
      "metadata": {
        "id": "view-in-github",
        "colab_type": "text"
      },
      "source": [
        "<a href=\"https://colab.research.google.com/github/WilliamPoe/CSCI-290/blob/main/notebooks/smr_sgdc.ipynb\" target=\"_parent\"><img src=\"https://colab.research.google.com/assets/colab-badge.svg\" alt=\"Open In Colab\"/></a>"
      ]
    },
    {
      "cell_type": "code",
      "execution_count": null,
      "metadata": {
        "id": "pp9kj9D-5Gm4"
      },
      "outputs": [],
      "source": [
        "import pandas as pd\n",
        "from sklearn.model_selection import train_test_split\n",
        "from sklearn.pipeline import Pipeline\n",
        "from sklearn.preprocessing import OneHotEncoder, StandardScaler\n",
        "from sklearn.impute import SimpleImputer\n",
        "from sklearn.compose import ColumnTransformer"
      ]
    },
    {
      "cell_type": "code",
      "source": [
        "df = pd.read_csv(\"https://github.com/WilliamPoe/CSCI-290/raw/refs/heads/main/Data/penguins.csv\")"
      ],
      "metadata": {
        "id": "j9RC7LYR5N5K"
      },
      "execution_count": null,
      "outputs": []
    },
    {
      "cell_type": "code",
      "source": [
        "df['species'] = df.species.replace({'Adelie':0, 'Chinstrap':1, 'Gentoo':2})\n",
        "df['island'] = df.island.replace({'Biscoe':0, 'Dream':1, 'Torgersen':2})\n",
        "df['sex'] = df.sex.replace({'male':0, 'female':1, 'NA':2})"
      ],
      "metadata": {
        "colab": {
          "base_uri": "https://localhost:8080/"
        },
        "id": "Do5tc03c2AJf",
        "outputId": "974c491e-42ca-4ef7-8884-03dfdf842e94"
      },
      "execution_count": null,
      "outputs": [
        {
          "output_type": "stream",
          "name": "stderr",
          "text": [
            "<ipython-input-28-3c10aee48c28>:1: FutureWarning: Downcasting behavior in `replace` is deprecated and will be removed in a future version. To retain the old behavior, explicitly call `result.infer_objects(copy=False)`. To opt-in to the future behavior, set `pd.set_option('future.no_silent_downcasting', True)`\n",
            "  df['species'] = df.species.replace({'Adelie':0, 'Chinstrap':1, 'Gentoo':2})\n",
            "<ipython-input-28-3c10aee48c28>:2: FutureWarning: Downcasting behavior in `replace` is deprecated and will be removed in a future version. To retain the old behavior, explicitly call `result.infer_objects(copy=False)`. To opt-in to the future behavior, set `pd.set_option('future.no_silent_downcasting', True)`\n",
            "  df['island'] = df.island.replace({'Biscoe':0, 'Dream':1, 'Torgersen':2})\n",
            "<ipython-input-28-3c10aee48c28>:3: FutureWarning: Downcasting behavior in `replace` is deprecated and will be removed in a future version. To retain the old behavior, explicitly call `result.infer_objects(copy=False)`. To opt-in to the future behavior, set `pd.set_option('future.no_silent_downcasting', True)`\n",
            "  df['sex'] = df.sex.replace({'male':0, 'female':1, 'NA':2})\n"
          ]
        }
      ]
    },
    {
      "cell_type": "code",
      "source": [
        "train_set, test_set= train_test_split(df, test_size=0.2)"
      ],
      "metadata": {
        "id": "q-ESyugn8Nqk"
      },
      "execution_count": null,
      "outputs": []
    },
    {
      "cell_type": "code",
      "source": [
        "train_set = train_set[['species', 'island', 'bill_length_mm', 'bill_depth_mm','flipper_length_mm', 'body_mass_g', 'sex', 'year']]\n",
        "test_set = test_set[['species', 'island', 'bill_length_mm', 'bill_depth_mm','flipper_length_mm', 'body_mass_g', 'sex', 'year']]"
      ],
      "metadata": {
        "id": "lSqL89yrzRXb"
      },
      "execution_count": null,
      "outputs": []
    },
    {
      "cell_type": "code",
      "source": [
        "X_train = train_set[['species', 'bill_length_mm', 'bill_depth_mm','flipper_length_mm', 'body_mass_g', 'sex', 'year']]\n",
        "y_train = train_set['island']\n",
        "X_test = test_set[['species', 'bill_length_mm', 'bill_depth_mm','flipper_length_mm', 'body_mass_g', 'sex', 'year']]\n",
        "y_test = test_set['island']"
      ],
      "metadata": {
        "id": "5LrYTjJm0HMc"
      },
      "execution_count": null,
      "outputs": []
    },
    {
      "cell_type": "code",
      "source": [
        "num_attributes = X_train.select_dtypes( include = ['float64','int64']).columns\n",
        "## This might be empty!? ##\n",
        "cat_attributes = X_train.select_dtypes( include = ['object']).columns"
      ],
      "metadata": {
        "id": "KvPmJ6Ae2ObR"
      },
      "execution_count": null,
      "outputs": []
    },
    {
      "cell_type": "code",
      "source": [
        "trf = [ ('num', Pipeline(steps=[('imputer', SimpleImputer(strategy='mean')),\n",
        "         ('Scaler', StandardScaler())]),\n",
        "         num_attributes), ('cat', OneHotEncoder( handle_unknown='ignore' ), cat_attributes) ]\n",
        "col_transform = ColumnTransformer( transformers = trf )"
      ],
      "metadata": {
        "id": "tP4oLsPZ2UxQ"
      },
      "execution_count": null,
      "outputs": []
    },
    {
      "cell_type": "markdown",
      "source": [
        "# Softmax Regression"
      ],
      "metadata": {
        "id": "bVvbVoCz3L32"
      }
    },
    {
      "cell_type": "code",
      "source": [],
      "metadata": {
        "id": "vDXsDqsr21Ww"
      },
      "execution_count": null,
      "outputs": []
    },
    {
      "cell_type": "markdown",
      "source": [
        "# Stochastic Gradient Descent Classifier"
      ],
      "metadata": {
        "id": "Lu75LsjWZrqZ"
      }
    },
    {
      "cell_type": "code",
      "source": [],
      "metadata": {
        "id": "c1dCh4OcaDML"
      },
      "execution_count": null,
      "outputs": []
    }
  ]
}