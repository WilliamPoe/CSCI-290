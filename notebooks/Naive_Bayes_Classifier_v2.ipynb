{
  "nbformat": 4,
  "nbformat_minor": 0,
  "metadata": {
    "colab": {
      "provenance": [],
      "authorship_tag": "ABX9TyNOdXvF2DNMWluLHPj4nQdh",
      "include_colab_link": true
    },
    "kernelspec": {
      "name": "python3",
      "display_name": "Python 3"
    },
    "language_info": {
      "name": "python"
    }
  },
  "cells": [
    {
      "cell_type": "markdown",
      "metadata": {
        "id": "view-in-github",
        "colab_type": "text"
      },
      "source": [
        "<a href=\"https://colab.research.google.com/github/WilliamPoe/CSCI-290/blob/main/notebooks/Naive_Bayes_Classifier_v2.ipynb\" target=\"_parent\"><img src=\"https://colab.research.google.com/assets/colab-badge.svg\" alt=\"Open In Colab\"/></a>"
      ]
    },
    {
      "cell_type": "markdown",
      "source": [
        "# Created Naive Bayes Classifier"
      ],
      "metadata": {
        "id": "WYzh5ZOWQMWG"
      }
    },
    {
      "cell_type": "code",
      "execution_count": 1,
      "metadata": {
        "id": "Dfo_5_QSCX9W"
      },
      "outputs": [],
      "source": [
        "import pandas as pd\n",
        "import math\n",
        "from scipy.stats import norm"
      ]
    },
    {
      "cell_type": "code",
      "source": [
        "def Naive_Bayes_Classifier(X, y, instance, numerical, categorical):\n",
        "# X:df, y:target, instance:unseen instance, numerical:numerical attribute, categorical:categorical attributes\n",
        "\n",
        "  priors = {}\n",
        "  likelihoods = {}\n",
        "\n",
        "\n",
        "  for clss in X[y].unique(): # Loops through the unique values in the target feature\n",
        "    data = X[X[y] == clss] # Create a dataset for the rows where the clss is True\n",
        "    priors[clss] = len(data) / len(X) # Calculate the priors for the dataset it created\n",
        "    likelihoods[clss] = {} # Makes a dictionary where the clss is the key for the likelihoods\n",
        "    for cat in categorical: # Gets likelihoods for categorical features\n",
        "      likelihoods[clss][cat] = data[cat].value_counts(normalize=True).to_dict() # Gets the probabilites of the value counts in the cat attribute\n",
        "    for num in numerical: # Gets likelihoods for numerical features\n",
        "      likelihoods[clss][num] = norm( loc=data[num].mean(), scale = data[num].std()) # Gets the mean and standard deviation for the num attribute\n",
        "\n",
        "\n",
        "    posterior = {} # Create a dictionary for calculating the posteriors\n",
        "\n",
        "    for clss in priors:\n",
        "      post = priors[clss] # Sets post equal to priors for that clss\n",
        "      for cat in categorical: # Categorical features\n",
        "        if cat in instance: # Checks if the cat is in the unseen instance\n",
        "          if instance[cat] in likelihoods[clss][cat]: # Checks if the feature in instance is in the likelihoods\n",
        "            post *= likelihoods[clss][cat][instance[cat]] # Multiplies post by the likelihoods for the cat features and then sets the post equal to that\n",
        "          else:\n",
        "            post *= 0\n",
        "        else:\n",
        "          pass\n",
        "      for num in numerical: # Numerical features\n",
        "        post *= likelihoods[clss][num].pdf(instance[num]) # Multiplies post by the likelihoods for the num features and then sets the post equal to that\n",
        "\n",
        "      posterior[clss] = post # Sets the posterior for that clss equal to the post\n",
        "\n",
        "    return max(posterior, key=posterior.get) # Returns the class with the highest posterior"
      ],
      "metadata": {
        "id": "yeIBiZk8CdRG"
      },
      "execution_count": 10,
      "outputs": []
    },
    {
      "cell_type": "code",
      "source": [
        "# Dataset\n",
        "df = pd.read_csv(\"https://github.com/WilliamPoe/CSCI-290/raw/refs/heads/main/Data/penguins.csv\") # Penguins dataset\n",
        "df.head()\n",
        "# Tagret column in the dataset\n",
        "target = 'species'\n",
        "# Unseen Instance\n",
        "instance = {'bill_length_mm':40, 'bill_depth_mm':19, 'flipper_length_mm':190, 'body_mass_g':3650, 'sex':'female'} # Unseen instance\n",
        "# Numerical features\n",
        "numerical = []\n",
        "# Categorical features\n",
        "categorical = []\n",
        "\n",
        "## Remove [2:-1] if you want to test on all columns ##\n",
        "for attrib in df.columns:\n",
        "  # Checks for numerical data types\n",
        "  if df[attrib].dtype in ['float64', 'int64']:\n",
        "    # Considers the column numerical if there are more than 10 unique values\n",
        "    if len( df[attrib].unique() ) > 10:\n",
        "      numerical.append(attrib)\n",
        "  else:\n",
        "    categorical.append(attrib)\n",
        "# Calls Naive Bayes Classifier function\n",
        "Naive_Bayes_Classifier(df, target, instance, numerical, categorical)\n"
      ],
      "metadata": {
        "colab": {
          "base_uri": "https://localhost:8080/",
          "height": 35
        },
        "id": "752WRvJfCdbZ",
        "outputId": "66e13f94-6054-400f-8d1e-09fde48f0205"
      },
      "execution_count": 15,
      "outputs": [
        {
          "output_type": "execute_result",
          "data": {
            "text/plain": [
              "'Adelie'"
            ],
            "application/vnd.google.colaboratory.intrinsic+json": {
              "type": "string"
            }
          },
          "metadata": {},
          "execution_count": 15
        }
      ]
    },
    {
      "cell_type": "markdown",
      "source": [
        "# sklearn Naive Bayes Classifier"
      ],
      "metadata": {
        "id": "9VhjZJ1iQc6b"
      }
    },
    {
      "cell_type": "code",
      "source": [
        "from sklearn.naive_bayes import GaussianNB"
      ],
      "metadata": {
        "id": "qh8U0M4LLWX6"
      },
      "execution_count": 16,
      "outputs": []
    },
    {
      "cell_type": "code",
      "source": [
        "# Add sklearn naive Bayes classifier\n",
        "model = GaussianNB()\n"
      ],
      "metadata": {
        "id": "V4R7__fTQpMl"
      },
      "execution_count": 17,
      "outputs": []
    },
    {
      "cell_type": "code",
      "source": [],
      "metadata": {
        "id": "zJ03wB6aTW1j"
      },
      "execution_count": null,
      "outputs": []
    }
  ]
}