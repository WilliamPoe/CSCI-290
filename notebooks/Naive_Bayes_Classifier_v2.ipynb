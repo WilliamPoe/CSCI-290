{
  "nbformat": 4,
  "nbformat_minor": 0,
  "metadata": {
    "colab": {
      "provenance": [],
      "authorship_tag": "ABX9TyPuq5coOukNukStREYjWKN/",
      "include_colab_link": true
    },
    "kernelspec": {
      "name": "python3",
      "display_name": "Python 3"
    },
    "language_info": {
      "name": "python"
    }
  },
  "cells": [
    {
      "cell_type": "markdown",
      "metadata": {
        "id": "view-in-github",
        "colab_type": "text"
      },
      "source": [
        "<a href=\"https://colab.research.google.com/github/WilliamPoe/CSCI-290/blob/main/notebooks/Naive_Bayes_Classifier_v2.ipynb\" target=\"_parent\"><img src=\"https://colab.research.google.com/assets/colab-badge.svg\" alt=\"Open In Colab\"/></a>"
      ]
    },
    {
      "cell_type": "markdown",
      "source": [
        "# Created Naive Bayes Classifier"
      ],
      "metadata": {
        "id": "WYzh5ZOWQMWG"
      }
    },
    {
      "cell_type": "code",
      "execution_count": 1,
      "metadata": {
        "id": "Dfo_5_QSCX9W"
      },
      "outputs": [],
      "source": [
        "import pandas as pd\n",
        "import math\n",
        "from scipy.stats import norm\n",
        "import numpy as np"
      ]
    },
    {
      "cell_type": "code",
      "source": [
        "def Naive_Bayes_Classifier(X, y, instance, numerical, categorical):\n",
        "# X:df, y:target, instance:unseen instance, numerical:numerical attribute, categorical:categorical attributes\n",
        "\n",
        "  priors = {}\n",
        "  likelihoods = {}\n",
        "\n",
        "\n",
        "  for clss in X[y].unique(): # Loops through the unique values in the target feature\n",
        "    data = X[X[y] == clss] # Create a dataset for the rows where the clss is True\n",
        "    priors[clss] = len(data) / len(X) # Calculate the priors for the dataset it created\n",
        "    likelihoods[clss] = {} # Makes a dictionary where the clss is the key for the likelihoods\n",
        "    for cat in categorical: # Gets likelihoods for categorical features\n",
        "      likelihoods[clss][cat] = data[cat].value_counts(normalize=True).to_dict() # Gets the probabilites of the value counts in the cat attribute\n",
        "    for num in numerical: # Gets likelihoods for numerical features\n",
        "      likelihoods[clss][num] = norm( loc=data[num].mean(), scale = data[num].std()) # Gets the mean and standard deviation for the num attribute\n",
        "\n",
        "\n",
        "    posterior = {} # Create a dictionary for calculating the posteriors\n",
        "\n",
        "    for clss in priors:\n",
        "      post = priors[clss] # Sets post equal to priors for that clss\n",
        "      for cat in categorical: # Categorical features\n",
        "        if cat in instance: # Checks if the cat is in the unseen instance\n",
        "          if instance[cat] in likelihoods[clss][cat]: # Checks if the feature in instance is in the likelihoods\n",
        "            post *= likelihoods[clss][cat][instance[cat]] # Multiplies post by the likelihoods for the cat features and then sets the post equal to that\n",
        "          else:\n",
        "            post *= 1\n",
        "        else:\n",
        "          pass\n",
        "      for num in numerical: # Numerical features\n",
        "        post *= likelihoods[clss][num].pdf(instance[num]) # Multiplies post by the likelihoods for the num features and then sets the post equal to that\n",
        "\n",
        "      posterior[clss] = post # Sets the posterior for that clss equal to the post\n",
        "\n",
        "  return max(posterior, key=posterior.get) # Returns the class with the highest posterior"
      ],
      "metadata": {
        "id": "yeIBiZk8CdRG"
      },
      "execution_count": 2,
      "outputs": []
    },
    {
      "cell_type": "code",
      "source": [
        "# Dataset\n",
        "df = pd.read_csv(\"https://github.com/WilliamPoe/CSCI-290/raw/refs/heads/main/Data/penguins.csv\") # Penguins dataset\n",
        "df.head()\n",
        "# Tagret column in the dataset\n",
        "target = 'species'\n",
        "# Unseen Instance\n",
        "instance = {'bill_length_mm':40.9, 'bill_depth_mm':13.7, 'flipper_length_mm':214\t, 'body_mass_g':4650, 'sex':'female'}\n",
        "# Numerical features\n",
        "numerical = []\n",
        "# Categorical features\n",
        "categorical = []\n",
        "\n",
        "## Remove [2:-1] if you want to test on all columns ##\n",
        "for attrib in df.columns:\n",
        "  if attrib != target:\n",
        "    # Checks for numerical data types\n",
        "    if df[attrib].dtype in ['float64', 'int64']:\n",
        "      # Considers the column numerical if there are more than 10 unique values\n",
        "      if len( df[attrib].unique() ) > 10:\n",
        "        numerical.append(attrib)\n",
        "    else:\n",
        "      categorical.append(attrib)\n",
        "\n",
        "print(numerical)\n",
        "print(categorical)\n",
        "# Calls Naive Bayes Classifier function\n",
        "Naive_Bayes_Classifier(df, target, instance, numerical, categorical)\n"
      ],
      "metadata": {
        "colab": {
          "base_uri": "https://localhost:8080/",
          "height": 71
        },
        "id": "752WRvJfCdbZ",
        "outputId": "29f72bae-fc50-4835-a425-78b6ac4493a1"
      },
      "execution_count": 3,
      "outputs": [
        {
          "output_type": "stream",
          "name": "stdout",
          "text": [
            "['bill_length_mm', 'bill_depth_mm', 'flipper_length_mm', 'body_mass_g']\n",
            "['island', 'sex']\n"
          ]
        },
        {
          "output_type": "execute_result",
          "data": {
            "text/plain": [
              "'Gentoo'"
            ],
            "application/vnd.google.colaboratory.intrinsic+json": {
              "type": "string"
            }
          },
          "metadata": {},
          "execution_count": 3
        }
      ]
    },
    {
      "cell_type": "code",
      "source": [
        "np.random.seed(42)\n",
        "X = pd.DataFrame( {\"x1\": np.random.randn( 200 ), \"x2\": 2*np.random.randn( 200) - 5, \"x3\": np.random.randint(3, size=200) } )\n",
        "X[\"target\"] = (X[\"x1\"] > -2)*(X[\"x2\"] > -7 )*(X[\"x3\"]!=1)*1\n",
        "\n",
        "\n",
        "\n",
        "target = 'target'\n",
        "# Unseen Instance\n",
        "instance = {'x1':-3, 'x2':-8, 'x3':1}\n",
        "# Numerical features\n",
        "numerical = []\n",
        "# Categorical features\n",
        "categorical = []\n",
        "\n",
        "## Remove [2:-1] if you want to test on all columns ##\n",
        "for attrib in X.columns:\n",
        "  if attrib != target:\n",
        "    # Checks for numerical data types\n",
        "    if X[attrib].dtype in ['float64', 'int64']:\n",
        "      # Considers the column numerical if there are more than 10 unique values\n",
        "      if len( X[attrib].unique() ) > 10:\n",
        "        numerical.append(attrib)\n",
        "      elif len(X[attrib].unique()) < 10:\n",
        "        categorical.append(attrib)\n",
        "    elif X[attrib].dtype in ['object']:\n",
        "      categorical.append(attrib)\n",
        "\n",
        "print(numerical)\n",
        "print(categorical)\n",
        "# Calls Naive Bayes Classifier function\n",
        "Naive_Bayes_Classifier(X, target, instance, numerical, categorical)\n"
      ],
      "metadata": {
        "colab": {
          "base_uri": "https://localhost:8080/"
        },
        "id": "3GmHTUt3naYC",
        "outputId": "68da84cb-2a6a-4551-f81a-c042f5514dc2"
      },
      "execution_count": 4,
      "outputs": [
        {
          "output_type": "stream",
          "name": "stdout",
          "text": [
            "['x1', 'x2']\n",
            "['x3']\n"
          ]
        },
        {
          "output_type": "execute_result",
          "data": {
            "text/plain": [
              "0"
            ]
          },
          "metadata": {},
          "execution_count": 4
        }
      ]
    },
    {
      "cell_type": "markdown",
      "source": [
        "# sklearn Naive Bayes Classifier"
      ],
      "metadata": {
        "id": "9VhjZJ1iQc6b"
      }
    },
    {
      "cell_type": "code",
      "source": [
        "## Add sklearn naive bayes classifier ##"
      ],
      "metadata": {
        "id": "M_oTaRpztq_h"
      },
      "execution_count": 5,
      "outputs": []
    },
    {
      "cell_type": "code",
      "source": [
        "from sklearn.naive_bayes import GaussianNB, CategoricalNB"
      ],
      "metadata": {
        "id": "qh8U0M4LLWX6"
      },
      "execution_count": 6,
      "outputs": []
    },
    {
      "cell_type": "code",
      "source": [
        "# Add sklearn naive Bayes classifier\n",
        "gnb = GaussianNB().fit(np.array( X[[\"x1\",\"x2\"]] ), np.array( X[\"target\"] ).reshape(-1,1))\n",
        "cnb = CategoricalNB().fit(np.array( X[[\"x3\"]] ).reshape(-1,1), np.array( X[\"target\"] ).reshape(-1,1))\n",
        "\n",
        "print(gnb.predict(np.array( pd.DataFrame( {\"x1\": [-3,-1.1], \"x2\": [-8,-3] } ) )))\n",
        "print(cnb.predict(np.array([0,1,2] ).reshape(-1,1)))\n"
      ],
      "metadata": {
        "colab": {
          "base_uri": "https://localhost:8080/"
        },
        "id": "V4R7__fTQpMl",
        "outputId": "7e67596f-a2ea-4c06-cd1f-966f47f8b6fa"
      },
      "execution_count": 10,
      "outputs": [
        {
          "output_type": "stream",
          "name": "stdout",
          "text": [
            "[0 1]\n",
            "[1 0 1]\n"
          ]
        },
        {
          "output_type": "stream",
          "name": "stderr",
          "text": [
            "/usr/local/lib/python3.10/dist-packages/sklearn/utils/validation.py:1339: DataConversionWarning: A column-vector y was passed when a 1d array was expected. Please change the shape of y to (n_samples, ), for example using ravel().\n",
            "  y = column_or_1d(y, warn=True)\n",
            "/usr/local/lib/python3.10/dist-packages/sklearn/utils/validation.py:1339: DataConversionWarning: A column-vector y was passed when a 1d array was expected. Please change the shape of y to (n_samples, ), for example using ravel().\n",
            "  y = column_or_1d(y, warn=True)\n"
          ]
        }
      ]
    },
    {
      "cell_type": "code",
      "source": [],
      "metadata": {
        "id": "zJ03wB6aTW1j"
      },
      "execution_count": null,
      "outputs": []
    }
  ]
}